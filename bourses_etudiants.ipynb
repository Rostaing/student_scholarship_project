{
 "cells": [
  {
   "cell_type": "markdown",
   "id": "d35d2e6b-98b3-4527-bcd1-0f9b12bbe385",
   "metadata": {
    "canvas": {
     "comments": [],
     "componentType": "CodeCell",
     "copiedOriginId": null,
     "diskcache": false,
     "headerColor": "inherit",
     "id": "5371421b-a9f4-433c-96bf-48bbf86c52a8",
     "isComponent": false,
     "name": "",
     "parents": []
    },
    "tags": []
   },
   "source": [
    "### Import libriries"
   ]
  },
  {
   "cell_type": "code",
   "execution_count": 1,
   "id": "bd7a8e07-4514-4d2f-b75f-5752f5628bdc",
   "metadata": {
    "canvas": {
     "comments": [],
     "componentType": "CodeCell",
     "copiedOriginId": null,
     "diskcache": false,
     "headerColor": "inherit",
     "id": "afbe0d4e-b163-4215-a174-fff644f0bd2e",
     "isComponent": false,
     "name": "",
     "parents": []
    }
   },
   "outputs": [],
   "source": [
    "import numpy as np\n",
    "import pandas as pd\n",
    "import matplotlib.pyplot as plt\n",
    "import seaborn as sns\n",
    "import missingno as ms"
   ]
  },
  {
   "cell_type": "markdown",
   "id": "00bee119-60e7-4783-bf0d-9627cad492cf",
   "metadata": {
    "canvas": {
     "comments": [],
     "componentType": "CodeCell",
     "copiedOriginId": null,
     "diskcache": false,
     "headerColor": "inherit",
     "id": "94cd5a2a-cd5d-455c-bf8e-83c90a8dd617",
     "isComponent": false,
     "name": "",
     "parents": []
    }
   },
   "source": [
    "# Data Wragling:"
   ]
  },
  {
   "cell_type": "markdown",
   "id": "96848a09-a01c-4c91-bc9b-b6f5005a3060",
   "metadata": {
    "canvas": {
     "comments": [],
     "componentType": "CodeCell",
     "copiedOriginId": null,
     "diskcache": false,
     "headerColor": "inherit",
     "id": "f8ab29f4-7b39-48ef-a71d-ee1fc6e13ee9",
     "isComponent": false,
     "name": "",
     "parents": []
    }
   },
   "source": [
    "### - Load Data"
   ]
  },
  {
   "cell_type": "code",
   "execution_count": 2,
   "id": "15b0189e-3450-454f-992a-f017b3047965",
   "metadata": {
    "canvas": {
     "comments": [],
     "componentType": "CodeCell",
     "copiedOriginId": null,
     "diskcache": false,
     "headerColor": "inherit",
     "id": "4c5efb0d-79d1-40fd-9d4c-34f1176da9b4",
     "isComponent": false,
     "name": "",
     "parents": []
    }
   },
   "outputs": [],
   "source": [
    "data = pd.read_excel(\"bourses_etudiants.xlsx\")"
   ]
  },
  {
   "cell_type": "markdown",
   "id": "e941e473-73bb-4def-995f-db8e00d0cf41",
   "metadata": {
    "canvas": {
     "comments": [],
     "componentType": "CodeCell",
     "copiedOriginId": null,
     "diskcache": false,
     "headerColor": "inherit",
     "id": "b03b7bf6-4f8f-40a7-bea6-179b585f6bfb",
     "isComponent": false,
     "name": "",
     "parents": []
    }
   },
   "source": [
    "### - Assess"
   ]
  },
  {
   "cell_type": "code",
   "execution_count": 3,
   "id": "df083551-8f7c-4ea5-8dbc-7104a4211cf9",
   "metadata": {
    "canvas": {
     "comments": [],
     "componentType": "CodeCell",
     "copiedOriginId": null,
     "diskcache": false,
     "headerColor": "inherit",
     "id": "68379b61-b5e5-4d98-a3d3-b27494db88ea",
     "isComponent": false,
     "name": "",
     "parents": []
    }
   },
   "outputs": [
    {
     "data": {
      "text/html": [
       "<div>\n",
       "<style scoped>\n",
       "    .dataframe tbody tr th:only-of-type {\n",
       "        vertical-align: middle;\n",
       "    }\n",
       "\n",
       "    .dataframe tbody tr th {\n",
       "        vertical-align: top;\n",
       "    }\n",
       "\n",
       "    .dataframe thead th {\n",
       "        text-align: right;\n",
       "    }\n",
       "</style>\n",
       "<table border=\"1\" class=\"dataframe\">\n",
       "  <thead>\n",
       "    <tr style=\"text-align: right;\">\n",
       "      <th></th>\n",
       "      <th>Nom et prénom</th>\n",
       "      <th>genre</th>\n",
       "      <th>dateNaissance</th>\n",
       "      <th>serieDuBac</th>\n",
       "      <th>AnnéeDuBac</th>\n",
       "      <th>Age au bac</th>\n",
       "      <th>Age en l'année en cours</th>\n",
       "      <th>Niveau d'etude 2018-2019</th>\n",
       "      <th>Niveau d'etude 2019-2020</th>\n",
       "      <th>Niveau d'Etude 2020-2021</th>\n",
       "      <th>Filières</th>\n",
       "      <th>ETS</th>\n",
       "      <th>Categ</th>\n",
       "      <th>Ville</th>\n",
       "      <th>Pays</th>\n",
       "      <th>OBS</th>\n",
       "      <th>avis sous commission</th>\n",
       "      <th>Nature de la bourse</th>\n",
       "      <th>telephone</th>\n",
       "    </tr>\n",
       "  </thead>\n",
       "  <tbody>\n",
       "    <tr>\n",
       "      <th>0</th>\n",
       "      <td>NGAMBOULOU Darling</td>\n",
       "      <td>F</td>\n",
       "      <td>1992-07-11 00:00:00</td>\n",
       "      <td>A</td>\n",
       "      <td>2011</td>\n",
       "      <td>19</td>\n",
       "      <td>28</td>\n",
       "      <td>NaN</td>\n",
       "      <td>M1</td>\n",
       "      <td>M2</td>\n",
       "      <td>II</td>\n",
       "      <td>TVG</td>\n",
       "      <td>F</td>\n",
       "      <td>Ivano</td>\n",
       "      <td>russie</td>\n",
       "      <td>M2RED</td>\n",
       "      <td>FAV</td>\n",
       "      <td>Renouvellement</td>\n",
       "      <td>NaN</td>\n",
       "    </tr>\n",
       "    <tr>\n",
       "      <th>1</th>\n",
       "      <td>MBETTE Grace Victoire Emmanuelle</td>\n",
       "      <td>F</td>\n",
       "      <td>1994-01-29 00:00:00</td>\n",
       "      <td>C</td>\n",
       "      <td>2013</td>\n",
       "      <td>19</td>\n",
       "      <td>26</td>\n",
       "      <td>NaN</td>\n",
       "      <td>M1</td>\n",
       "      <td>M2</td>\n",
       "      <td>Agronomie</td>\n",
       "      <td>univrsité agricole de Belbord</td>\n",
       "      <td>F</td>\n",
       "      <td>Belgorod</td>\n",
       "      <td>Russie</td>\n",
       "      <td>NaN</td>\n",
       "      <td>FAV</td>\n",
       "      <td>Renouvellement</td>\n",
       "      <td>NaN</td>\n",
       "    </tr>\n",
       "    <tr>\n",
       "      <th>2</th>\n",
       "      <td>AYAKA Gedeon Seth</td>\n",
       "      <td>M</td>\n",
       "      <td>1996-05-14 00:00:00</td>\n",
       "      <td>D</td>\n",
       "      <td>2014</td>\n",
       "      <td>18</td>\n",
       "      <td>24</td>\n",
       "      <td>NaN</td>\n",
       "      <td>M1</td>\n",
       "      <td>M2</td>\n",
       "      <td>Architecture</td>\n",
       "      <td>Univ,d'Etat d'Architecture de Veronej</td>\n",
       "      <td>F</td>\n",
       "      <td>Vornej</td>\n",
       "      <td>Russie</td>\n",
       "      <td>Cycle sp</td>\n",
       "      <td>FAV</td>\n",
       "      <td>Renouvellement</td>\n",
       "      <td>NaN</td>\n",
       "    </tr>\n",
       "    <tr>\n",
       "      <th>3</th>\n",
       "      <td>ELENGA Heurta Veraul</td>\n",
       "      <td>M</td>\n",
       "      <td>1990-01-01 00:00:00</td>\n",
       "      <td>D</td>\n",
       "      <td>2010</td>\n",
       "      <td>20</td>\n",
       "      <td>30</td>\n",
       "      <td>NaN</td>\n",
       "      <td>M1</td>\n",
       "      <td>M2</td>\n",
       "      <td>Architecture</td>\n",
       "      <td>Université d'Etat de Rotov</td>\n",
       "      <td>F</td>\n",
       "      <td>Rotov</td>\n",
       "      <td>russie</td>\n",
       "      <td>NaN</td>\n",
       "      <td>FAV</td>\n",
       "      <td>Renouvellement</td>\n",
       "      <td>NaN</td>\n",
       "    </tr>\n",
       "    <tr>\n",
       "      <th>4</th>\n",
       "      <td>LEBY OKIEBE Juclano Clazair</td>\n",
       "      <td>M</td>\n",
       "      <td>1993-02-06 00:00:00</td>\n",
       "      <td>C</td>\n",
       "      <td>2013</td>\n",
       "      <td>20</td>\n",
       "      <td>27</td>\n",
       "      <td>NaN</td>\n",
       "      <td>M1/5è</td>\n",
       "      <td>M2</td>\n",
       "      <td>Architecture</td>\n",
       "      <td>Université d'Etat d'Achitecture de Veronej</td>\n",
       "      <td>F</td>\n",
       "      <td>Vornej</td>\n",
       "      <td>russie</td>\n",
       "      <td>Cycle sp</td>\n",
       "      <td>FAV</td>\n",
       "      <td>Renouvellement</td>\n",
       "      <td>NaN</td>\n",
       "    </tr>\n",
       "  </tbody>\n",
       "</table>\n",
       "</div>"
      ],
      "text/plain": [
       "                      Nom et prénom genre        dateNaissance serieDuBac  \\\n",
       "0                NGAMBOULOU Darling     F  1992-07-11 00:00:00          A   \n",
       "1  MBETTE Grace Victoire Emmanuelle     F  1994-01-29 00:00:00          C   \n",
       "2                 AYAKA Gedeon Seth     M  1996-05-14 00:00:00          D   \n",
       "3             ELENGA Heurta Veraul      M  1990-01-01 00:00:00          D   \n",
       "4       LEBY OKIEBE Juclano Clazair     M  1993-02-06 00:00:00          C   \n",
       "\n",
       "   AnnéeDuBac  Age au bac  Age en l'année en cours Niveau d'etude 2018-2019  \\\n",
       "0        2011          19                       28                      NaN   \n",
       "1        2013          19                       26                      NaN   \n",
       "2        2014          18                       24                      NaN   \n",
       "3        2010          20                       30                      NaN   \n",
       "4        2013          20                       27                      NaN   \n",
       "\n",
       "  Niveau d'etude 2019-2020 Niveau d'Etude 2020-2021      Filières  \\\n",
       "0                       M1                       M2            II   \n",
       "1                       M1                       M2     Agronomie   \n",
       "2                       M1                       M2  Architecture   \n",
       "3                       M1                       M2  Architecture   \n",
       "4                    M1/5è                       M2  Architecture   \n",
       "\n",
       "                                          ETS Categ     Ville    Pays  \\\n",
       "0                                         TVG     F     Ivano  russie   \n",
       "1               univrsité agricole de Belbord     F  Belgorod  Russie   \n",
       "2       Univ,d'Etat d'Architecture de Veronej     F    Vornej  Russie   \n",
       "3                  Université d'Etat de Rotov     F     Rotov  russie   \n",
       "4  Université d'Etat d'Achitecture de Veronej     F    Vornej  russie   \n",
       "\n",
       "        OBS avis sous commission Nature de la bourse  telephone  \n",
       "0     M2RED                  FAV      Renouvellement        NaN  \n",
       "1       NaN                  FAV      Renouvellement        NaN  \n",
       "2  Cycle sp                  FAV      Renouvellement        NaN  \n",
       "3       NaN                  FAV      Renouvellement        NaN  \n",
       "4  Cycle sp                  FAV      Renouvellement        NaN  "
      ]
     },
     "execution_count": 3,
     "metadata": {},
     "output_type": "execute_result"
    }
   ],
   "source": [
    "df = data.copy()\n",
    "df.head()"
   ]
  },
  {
   "cell_type": "code",
   "execution_count": 4,
   "id": "d1953721-eaaa-477c-b62a-318024597200",
   "metadata": {
    "canvas": {
     "comments": [],
     "componentType": "CodeCell",
     "copiedOriginId": null,
     "diskcache": false,
     "headerColor": "inherit",
     "id": "bd9405ce-387a-4aae-876e-20fad072e5fd",
     "isComponent": false,
     "name": "",
     "parents": []
    }
   },
   "outputs": [
    {
     "data": {
      "text/html": [
       "<div>\n",
       "<style scoped>\n",
       "    .dataframe tbody tr th:only-of-type {\n",
       "        vertical-align: middle;\n",
       "    }\n",
       "\n",
       "    .dataframe tbody tr th {\n",
       "        vertical-align: top;\n",
       "    }\n",
       "\n",
       "    .dataframe thead th {\n",
       "        text-align: right;\n",
       "    }\n",
       "</style>\n",
       "<table border=\"1\" class=\"dataframe\">\n",
       "  <thead>\n",
       "    <tr style=\"text-align: right;\">\n",
       "      <th></th>\n",
       "      <th>Nom et prénom</th>\n",
       "      <th>genre</th>\n",
       "      <th>dateNaissance</th>\n",
       "      <th>serieDuBac</th>\n",
       "      <th>AnnéeDuBac</th>\n",
       "      <th>Age au bac</th>\n",
       "      <th>Age en l'année en cours</th>\n",
       "      <th>Niveau d'etude 2018-2019</th>\n",
       "      <th>Niveau d'etude 2019-2020</th>\n",
       "      <th>Niveau d'Etude 2020-2021</th>\n",
       "      <th>Filières</th>\n",
       "      <th>ETS</th>\n",
       "      <th>Categ</th>\n",
       "      <th>Ville</th>\n",
       "      <th>Pays</th>\n",
       "      <th>OBS</th>\n",
       "      <th>avis sous commission</th>\n",
       "      <th>Nature de la bourse</th>\n",
       "      <th>telephone</th>\n",
       "    </tr>\n",
       "  </thead>\n",
       "  <tbody>\n",
       "    <tr>\n",
       "      <th>20</th>\n",
       "      <td>MOUMBELE HOUMBA Mélissa joyce</td>\n",
       "      <td>F</td>\n",
       "      <td>1993-07-17 00:00:00</td>\n",
       "      <td>A4</td>\n",
       "      <td>2013</td>\n",
       "      <td>20</td>\n",
       "      <td>27</td>\n",
       "      <td>NaN</td>\n",
       "      <td>M1</td>\n",
       "      <td>M2</td>\n",
       "      <td>Compta et Audit</td>\n",
       "      <td>Université d'Etat de Orel</td>\n",
       "      <td>F</td>\n",
       "      <td>Orel</td>\n",
       "      <td>russie</td>\n",
       "      <td>NaN</td>\n",
       "      <td>FAV</td>\n",
       "      <td>Renouvellement</td>\n",
       "      <td>NaN</td>\n",
       "    </tr>\n",
       "    <tr>\n",
       "      <th>21</th>\n",
       "      <td>MBANKOUA Samson Prince</td>\n",
       "      <td>M</td>\n",
       "      <td>1996-06-14 00:00:00</td>\n",
       "      <td>D</td>\n",
       "      <td>2014</td>\n",
       "      <td>19</td>\n",
       "      <td>25</td>\n",
       "      <td>NaN</td>\n",
       "      <td>M1</td>\n",
       "      <td>M2</td>\n",
       "      <td>Comptabilité</td>\n",
       "      <td>Université d'Etat de Orel</td>\n",
       "      <td>F</td>\n",
       "      <td>Orel</td>\n",
       "      <td>russie</td>\n",
       "      <td>NaN</td>\n",
       "      <td>FAV</td>\n",
       "      <td>Renouvellement</td>\n",
       "      <td>NaN</td>\n",
       "    </tr>\n",
       "    <tr>\n",
       "      <th>22</th>\n",
       "      <td>GANGUIA ENGAMBE Bruviano Venceslas</td>\n",
       "      <td>M</td>\n",
       "      <td>1996-09-20 00:00:00</td>\n",
       "      <td>C</td>\n",
       "      <td>2013</td>\n",
       "      <td>17</td>\n",
       "      <td>24</td>\n",
       "      <td>NaN</td>\n",
       "      <td>M1</td>\n",
       "      <td>M2</td>\n",
       "      <td>Construction</td>\n",
       "      <td>Université d'Etat d'Oural</td>\n",
       "      <td>F</td>\n",
       "      <td>Ekartermb ourg</td>\n",
       "      <td>russie</td>\n",
       "      <td>DI sp a sortir</td>\n",
       "      <td>FAV</td>\n",
       "      <td>Renouvellement</td>\n",
       "      <td>NaN</td>\n",
       "    </tr>\n",
       "    <tr>\n",
       "      <th>23</th>\n",
       "      <td>KANGA MOMBO Christ Merveil</td>\n",
       "      <td>M</td>\n",
       "      <td>1994-05-07 00:00:00</td>\n",
       "      <td>C</td>\n",
       "      <td>2013</td>\n",
       "      <td>19</td>\n",
       "      <td>26</td>\n",
       "      <td>NaN</td>\n",
       "      <td>M2 SP</td>\n",
       "      <td>M2</td>\n",
       "      <td>Construction</td>\n",
       "      <td>Université d'Etat de Saratov</td>\n",
       "      <td>F</td>\n",
       "      <td>Saratov</td>\n",
       "      <td>russie</td>\n",
       "      <td>D1 sp ing</td>\n",
       "      <td>FAV</td>\n",
       "      <td>Renouvellement</td>\n",
       "      <td>NaN</td>\n",
       "    </tr>\n",
       "    <tr>\n",
       "      <th>24</th>\n",
       "      <td>MOUZANDOU CMBOU Belvanie Jachany</td>\n",
       "      <td>F</td>\n",
       "      <td>1995-05-23 00:00:00</td>\n",
       "      <td>D</td>\n",
       "      <td>2014</td>\n",
       "      <td>19</td>\n",
       "      <td>25</td>\n",
       "      <td>NaN</td>\n",
       "      <td>L4</td>\n",
       "      <td>M1</td>\n",
       "      <td>Construction</td>\n",
       "      <td>Université d'Etat de Volgograd</td>\n",
       "      <td>F</td>\n",
       "      <td>Volgograd</td>\n",
       "      <td>russie</td>\n",
       "      <td>NaN</td>\n",
       "      <td>FAV</td>\n",
       "      <td>Renouvellement</td>\n",
       "      <td>NaN</td>\n",
       "    </tr>\n",
       "  </tbody>\n",
       "</table>\n",
       "</div>"
      ],
      "text/plain": [
       "                         Nom et prénom genre        dateNaissance serieDuBac  \\\n",
       "20       MOUMBELE HOUMBA Mélissa joyce     F  1993-07-17 00:00:00         A4   \n",
       "21              MBANKOUA Samson Prince     M  1996-06-14 00:00:00          D   \n",
       "22  GANGUIA ENGAMBE Bruviano Venceslas     M  1996-09-20 00:00:00          C   \n",
       "23          KANGA MOMBO Christ Merveil     M  1994-05-07 00:00:00          C   \n",
       "24    MOUZANDOU CMBOU Belvanie Jachany     F  1995-05-23 00:00:00          D   \n",
       "\n",
       "    AnnéeDuBac  Age au bac  Age en l'année en cours Niveau d'etude 2018-2019  \\\n",
       "20        2013          20                       27                      NaN   \n",
       "21        2014          19                       25                      NaN   \n",
       "22        2013          17                       24                      NaN   \n",
       "23        2013          19                       26                      NaN   \n",
       "24        2014          19                       25                      NaN   \n",
       "\n",
       "   Niveau d'etude 2019-2020 Niveau d'Etude 2020-2021         Filières  \\\n",
       "20                       M1                       M2  Compta et Audit   \n",
       "21                       M1                       M2     Comptabilité   \n",
       "22                       M1                       M2     Construction   \n",
       "23                    M2 SP                       M2     Construction   \n",
       "24                       L4                       M1     Construction   \n",
       "\n",
       "                               ETS Categ            Ville    Pays  \\\n",
       "20       Université d'Etat de Orel     F             Orel  russie   \n",
       "21       Université d'Etat de Orel     F             Orel  russie   \n",
       "22      Université d'Etat d'Oural      F  Ekartermb ourg   russie   \n",
       "23   Université d'Etat de Saratov      F          Saratov  russie   \n",
       "24  Université d'Etat de Volgograd     F        Volgograd  russie   \n",
       "\n",
       "                OBS avis sous commission Nature de la bourse  telephone  \n",
       "20              NaN                  FAV      Renouvellement        NaN  \n",
       "21              NaN                  FAV      Renouvellement        NaN  \n",
       "22  DI sp a sortir                   FAV      Renouvellement        NaN  \n",
       "23       D1 sp ing                   FAV      Renouvellement        NaN  \n",
       "24              NaN                  FAV      Renouvellement        NaN  "
      ]
     },
     "execution_count": 4,
     "metadata": {},
     "output_type": "execute_result"
    }
   ],
   "source": [
    "df.tail()"
   ]
  },
  {
   "cell_type": "code",
   "execution_count": 5,
   "id": "904c715e-6915-48aa-95f4-24dd5ec43fd1",
   "metadata": {
    "canvas": {
     "comments": [],
     "componentType": "CodeCell",
     "copiedOriginId": null,
     "diskcache": false,
     "headerColor": "inherit",
     "id": "c49682d8-9015-47e6-8636-7eaab14b18d9",
     "isComponent": false,
     "name": "",
     "parents": []
    }
   },
   "outputs": [
    {
     "name": "stdout",
     "output_type": "stream",
     "text": [
      "<class 'pandas.core.frame.DataFrame'>\n",
      "RangeIndex: 25 entries, 0 to 24\n",
      "Data columns (total 19 columns):\n",
      " #   Column                    Non-Null Count  Dtype  \n",
      "---  ------                    --------------  -----  \n",
      " 0   Nom et prénom             25 non-null     object \n",
      " 1   genre                     25 non-null     object \n",
      " 2   dateNaissance             25 non-null     object \n",
      " 3   serieDuBac                25 non-null     object \n",
      " 4   AnnéeDuBac                25 non-null     int64  \n",
      " 5   Age au bac                25 non-null     int64  \n",
      " 6   Age en l'année en cours   25 non-null     int64  \n",
      " 7   Niveau d'etude 2018-2019  1 non-null      object \n",
      " 8   Niveau d'etude 2019-2020  25 non-null     object \n",
      " 9   Niveau d'Etude 2020-2021  25 non-null     object \n",
      " 10  Filières                  25 non-null     object \n",
      " 11  ETS                       25 non-null     object \n",
      " 12  Categ                     25 non-null     object \n",
      " 13  Ville                     25 non-null     object \n",
      " 14  Pays                      25 non-null     object \n",
      " 15  OBS                       12 non-null     object \n",
      " 16  avis sous commission      25 non-null     object \n",
      " 17  Nature de la bourse       25 non-null     object \n",
      " 18  telephone                 0 non-null      float64\n",
      "dtypes: float64(1), int64(3), object(15)\n",
      "memory usage: 3.8+ KB\n"
     ]
    }
   ],
   "source": [
    "df.info()"
   ]
  },
  {
   "cell_type": "code",
   "execution_count": 6,
   "id": "b71c7d71-3849-4e25-8a50-4b747841a504",
   "metadata": {
    "canvas": {
     "comments": [],
     "componentType": "CodeCell",
     "copiedOriginId": null,
     "diskcache": false,
     "headerColor": "inherit",
     "id": "4118fa4a-c7d2-49a2-a94b-b7db12153d3b",
     "isComponent": false,
     "name": "",
     "parents": []
    }
   },
   "outputs": [],
   "source": [
    "# df.filter(like='a')\n"
   ]
  },
  {
   "cell_type": "code",
   "execution_count": 7,
   "id": "70bbf0c9-2562-4403-a939-465b46cc7ef1",
   "metadata": {
    "canvas": {
     "comments": [],
     "componentType": "CodeCell",
     "copiedOriginId": null,
     "diskcache": false,
     "headerColor": "inherit",
     "id": "2b89aec1-7114-48a8-8efc-2f1645a235c0",
     "isComponent": false,
     "name": "",
     "parents": []
    }
   },
   "outputs": [
    {
     "data": {
      "text/plain": [
       "(25, 19)"
      ]
     },
     "execution_count": 7,
     "metadata": {},
     "output_type": "execute_result"
    }
   ],
   "source": [
    "df.shape"
   ]
  },
  {
   "cell_type": "code",
   "execution_count": 8,
   "id": "7bd4dc79-d7b7-4210-a418-88ac2830355e",
   "metadata": {
    "canvas": {
     "comments": [],
     "componentType": "CodeCell",
     "copiedOriginId": null,
     "diskcache": false,
     "headerColor": "inherit",
     "id": "0a4fb696-cb09-4b74-8e4e-94ac2ca9a880",
     "isComponent": false,
     "name": "",
     "parents": []
    }
   },
   "outputs": [
    {
     "data": {
      "text/plain": [
       "2"
      ]
     },
     "execution_count": 8,
     "metadata": {},
     "output_type": "execute_result"
    }
   ],
   "source": [
    "df.ndim"
   ]
  },
  {
   "cell_type": "code",
   "execution_count": 9,
   "id": "017b189b-bf98-4a9b-8bf6-fc684e03dbd2",
   "metadata": {
    "canvas": {
     "comments": [],
     "componentType": "CodeCell",
     "copiedOriginId": null,
     "diskcache": false,
     "headerColor": "inherit",
     "id": "16c1dde2-1ae8-401d-b176-6ecfb29e32ff",
     "isComponent": false,
     "name": "",
     "parents": []
    }
   },
   "outputs": [
    {
     "data": {
      "text/html": [
       "<div>\n",
       "<style scoped>\n",
       "    .dataframe tbody tr th:only-of-type {\n",
       "        vertical-align: middle;\n",
       "    }\n",
       "\n",
       "    .dataframe tbody tr th {\n",
       "        vertical-align: top;\n",
       "    }\n",
       "\n",
       "    .dataframe thead th {\n",
       "        text-align: right;\n",
       "    }\n",
       "</style>\n",
       "<table border=\"1\" class=\"dataframe\">\n",
       "  <thead>\n",
       "    <tr style=\"text-align: right;\">\n",
       "      <th></th>\n",
       "      <th>Types of variable</th>\n",
       "    </tr>\n",
       "  </thead>\n",
       "  <tbody>\n",
       "    <tr>\n",
       "      <th>Nom et prénom</th>\n",
       "      <td>object</td>\n",
       "    </tr>\n",
       "    <tr>\n",
       "      <th>genre</th>\n",
       "      <td>object</td>\n",
       "    </tr>\n",
       "    <tr>\n",
       "      <th>dateNaissance</th>\n",
       "      <td>object</td>\n",
       "    </tr>\n",
       "    <tr>\n",
       "      <th>serieDuBac</th>\n",
       "      <td>object</td>\n",
       "    </tr>\n",
       "    <tr>\n",
       "      <th>AnnéeDuBac</th>\n",
       "      <td>int64</td>\n",
       "    </tr>\n",
       "    <tr>\n",
       "      <th>Age au bac</th>\n",
       "      <td>int64</td>\n",
       "    </tr>\n",
       "    <tr>\n",
       "      <th>Age en l'année en cours</th>\n",
       "      <td>int64</td>\n",
       "    </tr>\n",
       "    <tr>\n",
       "      <th>Niveau d'etude 2018-2019</th>\n",
       "      <td>object</td>\n",
       "    </tr>\n",
       "    <tr>\n",
       "      <th>Niveau d'etude 2019-2020</th>\n",
       "      <td>object</td>\n",
       "    </tr>\n",
       "    <tr>\n",
       "      <th>Niveau d'Etude 2020-2021</th>\n",
       "      <td>object</td>\n",
       "    </tr>\n",
       "    <tr>\n",
       "      <th>Filières</th>\n",
       "      <td>object</td>\n",
       "    </tr>\n",
       "    <tr>\n",
       "      <th>ETS</th>\n",
       "      <td>object</td>\n",
       "    </tr>\n",
       "    <tr>\n",
       "      <th>Categ</th>\n",
       "      <td>object</td>\n",
       "    </tr>\n",
       "    <tr>\n",
       "      <th>Ville</th>\n",
       "      <td>object</td>\n",
       "    </tr>\n",
       "    <tr>\n",
       "      <th>Pays</th>\n",
       "      <td>object</td>\n",
       "    </tr>\n",
       "    <tr>\n",
       "      <th>OBS</th>\n",
       "      <td>object</td>\n",
       "    </tr>\n",
       "    <tr>\n",
       "      <th>avis sous commission</th>\n",
       "      <td>object</td>\n",
       "    </tr>\n",
       "    <tr>\n",
       "      <th>Nature de la bourse</th>\n",
       "      <td>object</td>\n",
       "    </tr>\n",
       "    <tr>\n",
       "      <th>telephone</th>\n",
       "      <td>float64</td>\n",
       "    </tr>\n",
       "  </tbody>\n",
       "</table>\n",
       "</div>"
      ],
      "text/plain": [
       "                         Types of variable\n",
       "Nom et prénom                       object\n",
       "genre                               object\n",
       "dateNaissance                       object\n",
       "serieDuBac                          object\n",
       "AnnéeDuBac                           int64\n",
       "Age au bac                           int64\n",
       "Age en l'année en cours              int64\n",
       "Niveau d'etude 2018-2019            object\n",
       "Niveau d'etude 2019-2020            object\n",
       "Niveau d'Etude 2020-2021            object\n",
       "Filières                            object\n",
       "ETS                                 object\n",
       "Categ                               object\n",
       "Ville                               object\n",
       "Pays                                object\n",
       "OBS                                 object\n",
       "avis sous commission                object\n",
       "Nature de la bourse                 object\n",
       "telephone                          float64"
      ]
     },
     "execution_count": 9,
     "metadata": {},
     "output_type": "execute_result"
    }
   ],
   "source": [
    "df.dtypes.to_frame(\"Types of variable\")"
   ]
  },
  {
   "cell_type": "code",
   "execution_count": 10,
   "id": "436ab8ff-ab85-418a-8d19-d12142fb19fc",
   "metadata": {
    "canvas": {
     "comments": [],
     "componentType": "CodeCell",
     "copiedOriginId": null,
     "diskcache": false,
     "headerColor": "inherit",
     "id": "bfd69cab-5651-4607-8cb3-61ee0e175cca",
     "isComponent": false,
     "name": "",
     "parents": []
    }
   },
   "outputs": [
    {
     "data": {
      "text/html": [
       "<div>\n",
       "<style scoped>\n",
       "    .dataframe tbody tr th:only-of-type {\n",
       "        vertical-align: middle;\n",
       "    }\n",
       "\n",
       "    .dataframe tbody tr th {\n",
       "        vertical-align: top;\n",
       "    }\n",
       "\n",
       "    .dataframe thead th {\n",
       "        text-align: right;\n",
       "    }\n",
       "</style>\n",
       "<table border=\"1\" class=\"dataframe\">\n",
       "  <thead>\n",
       "    <tr style=\"text-align: right;\">\n",
       "      <th></th>\n",
       "      <th>Total</th>\n",
       "    </tr>\n",
       "  </thead>\n",
       "  <tbody>\n",
       "    <tr>\n",
       "      <th>Nom et prénom</th>\n",
       "      <td>25</td>\n",
       "    </tr>\n",
       "    <tr>\n",
       "      <th>genre</th>\n",
       "      <td>25</td>\n",
       "    </tr>\n",
       "    <tr>\n",
       "      <th>dateNaissance</th>\n",
       "      <td>25</td>\n",
       "    </tr>\n",
       "    <tr>\n",
       "      <th>serieDuBac</th>\n",
       "      <td>25</td>\n",
       "    </tr>\n",
       "    <tr>\n",
       "      <th>AnnéeDuBac</th>\n",
       "      <td>25</td>\n",
       "    </tr>\n",
       "    <tr>\n",
       "      <th>Age au bac</th>\n",
       "      <td>25</td>\n",
       "    </tr>\n",
       "    <tr>\n",
       "      <th>Age en l'année en cours</th>\n",
       "      <td>25</td>\n",
       "    </tr>\n",
       "    <tr>\n",
       "      <th>Niveau d'etude 2018-2019</th>\n",
       "      <td>1</td>\n",
       "    </tr>\n",
       "    <tr>\n",
       "      <th>Niveau d'etude 2019-2020</th>\n",
       "      <td>25</td>\n",
       "    </tr>\n",
       "    <tr>\n",
       "      <th>Niveau d'Etude 2020-2021</th>\n",
       "      <td>25</td>\n",
       "    </tr>\n",
       "    <tr>\n",
       "      <th>Filières</th>\n",
       "      <td>25</td>\n",
       "    </tr>\n",
       "    <tr>\n",
       "      <th>ETS</th>\n",
       "      <td>25</td>\n",
       "    </tr>\n",
       "    <tr>\n",
       "      <th>Categ</th>\n",
       "      <td>25</td>\n",
       "    </tr>\n",
       "    <tr>\n",
       "      <th>Ville</th>\n",
       "      <td>25</td>\n",
       "    </tr>\n",
       "    <tr>\n",
       "      <th>Pays</th>\n",
       "      <td>25</td>\n",
       "    </tr>\n",
       "    <tr>\n",
       "      <th>OBS</th>\n",
       "      <td>12</td>\n",
       "    </tr>\n",
       "    <tr>\n",
       "      <th>avis sous commission</th>\n",
       "      <td>25</td>\n",
       "    </tr>\n",
       "    <tr>\n",
       "      <th>Nature de la bourse</th>\n",
       "      <td>25</td>\n",
       "    </tr>\n",
       "    <tr>\n",
       "      <th>telephone</th>\n",
       "      <td>0</td>\n",
       "    </tr>\n",
       "  </tbody>\n",
       "</table>\n",
       "</div>"
      ],
      "text/plain": [
       "                          Total\n",
       "Nom et prénom                25\n",
       "genre                        25\n",
       "dateNaissance                25\n",
       "serieDuBac                   25\n",
       "AnnéeDuBac                   25\n",
       "Age au bac                   25\n",
       "Age en l'année en cours      25\n",
       "Niveau d'etude 2018-2019      1\n",
       "Niveau d'etude 2019-2020     25\n",
       "Niveau d'Etude 2020-2021     25\n",
       "Filières                     25\n",
       "ETS                          25\n",
       "Categ                        25\n",
       "Ville                        25\n",
       "Pays                         25\n",
       "OBS                          12\n",
       "avis sous commission         25\n",
       "Nature de la bourse          25\n",
       "telephone                     0"
      ]
     },
     "execution_count": 10,
     "metadata": {},
     "output_type": "execute_result"
    }
   ],
   "source": [
    "df.count().to_frame(\"Total\")"
   ]
  },
  {
   "cell_type": "code",
   "execution_count": 11,
   "id": "1cd8f06e-2832-416d-a3e2-57f61d6a9d90",
   "metadata": {
    "canvas": {
     "comments": [],
     "componentType": "CodeCell",
     "copiedOriginId": null,
     "diskcache": false,
     "headerColor": "inherit",
     "id": "5757b90b-1270-4f60-a92f-4d098c693a5d",
     "isComponent": false,
     "name": "",
     "parents": []
    }
   },
   "outputs": [
    {
     "data": {
      "text/html": [
       "<div>\n",
       "<style scoped>\n",
       "    .dataframe tbody tr th:only-of-type {\n",
       "        vertical-align: middle;\n",
       "    }\n",
       "\n",
       "    .dataframe tbody tr th {\n",
       "        vertical-align: top;\n",
       "    }\n",
       "\n",
       "    .dataframe thead th {\n",
       "        text-align: right;\n",
       "    }\n",
       "</style>\n",
       "<table border=\"1\" class=\"dataframe\">\n",
       "  <thead>\n",
       "    <tr style=\"text-align: right;\">\n",
       "      <th></th>\n",
       "      <th>Unique numbers</th>\n",
       "    </tr>\n",
       "  </thead>\n",
       "  <tbody>\n",
       "    <tr>\n",
       "      <th>Nom et prénom</th>\n",
       "      <td>25</td>\n",
       "    </tr>\n",
       "    <tr>\n",
       "      <th>genre</th>\n",
       "      <td>2</td>\n",
       "    </tr>\n",
       "    <tr>\n",
       "      <th>dateNaissance</th>\n",
       "      <td>25</td>\n",
       "    </tr>\n",
       "    <tr>\n",
       "      <th>serieDuBac</th>\n",
       "      <td>5</td>\n",
       "    </tr>\n",
       "    <tr>\n",
       "      <th>AnnéeDuBac</th>\n",
       "      <td>4</td>\n",
       "    </tr>\n",
       "    <tr>\n",
       "      <th>Age au bac</th>\n",
       "      <td>7</td>\n",
       "    </tr>\n",
       "    <tr>\n",
       "      <th>Age en l'année en cours</th>\n",
       "      <td>8</td>\n",
       "    </tr>\n",
       "    <tr>\n",
       "      <th>Niveau d'etude 2018-2019</th>\n",
       "      <td>1</td>\n",
       "    </tr>\n",
       "    <tr>\n",
       "      <th>Niveau d'etude 2019-2020</th>\n",
       "      <td>6</td>\n",
       "    </tr>\n",
       "    <tr>\n",
       "      <th>Niveau d'Etude 2020-2021</th>\n",
       "      <td>2</td>\n",
       "    </tr>\n",
       "    <tr>\n",
       "      <th>Filières</th>\n",
       "      <td>15</td>\n",
       "    </tr>\n",
       "    <tr>\n",
       "      <th>ETS</th>\n",
       "      <td>22</td>\n",
       "    </tr>\n",
       "    <tr>\n",
       "      <th>Categ</th>\n",
       "      <td>1</td>\n",
       "    </tr>\n",
       "    <tr>\n",
       "      <th>Ville</th>\n",
       "      <td>17</td>\n",
       "    </tr>\n",
       "    <tr>\n",
       "      <th>Pays</th>\n",
       "      <td>2</td>\n",
       "    </tr>\n",
       "    <tr>\n",
       "      <th>OBS</th>\n",
       "      <td>9</td>\n",
       "    </tr>\n",
       "    <tr>\n",
       "      <th>avis sous commission</th>\n",
       "      <td>2</td>\n",
       "    </tr>\n",
       "    <tr>\n",
       "      <th>Nature de la bourse</th>\n",
       "      <td>2</td>\n",
       "    </tr>\n",
       "    <tr>\n",
       "      <th>telephone</th>\n",
       "      <td>0</td>\n",
       "    </tr>\n",
       "  </tbody>\n",
       "</table>\n",
       "</div>"
      ],
      "text/plain": [
       "                          Unique numbers\n",
       "Nom et prénom                         25\n",
       "genre                                  2\n",
       "dateNaissance                         25\n",
       "serieDuBac                             5\n",
       "AnnéeDuBac                             4\n",
       "Age au bac                             7\n",
       "Age en l'année en cours                8\n",
       "Niveau d'etude 2018-2019               1\n",
       "Niveau d'etude 2019-2020               6\n",
       "Niveau d'Etude 2020-2021               2\n",
       "Filières                              15\n",
       "ETS                                   22\n",
       "Categ                                  1\n",
       "Ville                                 17\n",
       "Pays                                   2\n",
       "OBS                                    9\n",
       "avis sous commission                   2\n",
       "Nature de la bourse                    2\n",
       "telephone                              0"
      ]
     },
     "execution_count": 11,
     "metadata": {},
     "output_type": "execute_result"
    }
   ],
   "source": [
    "df.nunique().to_frame(\"Unique numbers\")"
   ]
  },
  {
   "cell_type": "code",
   "execution_count": 12,
   "id": "ae29f2ef-3793-40bd-887b-bd95be403681",
   "metadata": {
    "canvas": {
     "comments": [],
     "componentType": "CodeCell",
     "copiedOriginId": null,
     "diskcache": false,
     "headerColor": "inherit",
     "id": "1e7f55bb-0193-4aab-8c8d-c17932476ece",
     "isComponent": false,
     "name": "",
     "parents": []
    }
   },
   "outputs": [
    {
     "data": {
      "text/plain": [
       "{'Attribution', 'Renouvellement'}"
      ]
     },
     "execution_count": 12,
     "metadata": {},
     "output_type": "execute_result"
    }
   ],
   "source": [
    "set(df[\"Nature de la bourse\"])"
   ]
  },
  {
   "cell_type": "code",
   "execution_count": 13,
   "id": "7c2376f7-330d-44cf-a9ec-14f3d7f0e43a",
   "metadata": {
    "canvas": {
     "comments": [],
     "componentType": "CodeCell",
     "copiedOriginId": null,
     "diskcache": false,
     "headerColor": "inherit",
     "id": "20b07d59-b6b0-45aa-818d-d80a75ae4a84",
     "isComponent": false,
     "name": "",
     "parents": []
    }
   },
   "outputs": [
    {
     "data": {
      "text/plain": [
       "{'DEF', 'FAV'}"
      ]
     },
     "execution_count": 13,
     "metadata": {},
     "output_type": "execute_result"
    }
   ],
   "source": [
    "set(df[\"avis sous commission\"])"
   ]
  },
  {
   "cell_type": "code",
   "execution_count": 14,
   "id": "4566e801-a496-49ff-8f61-0266886c408b",
   "metadata": {
    "canvas": {
     "comments": [],
     "componentType": "CodeCell",
     "copiedOriginId": null,
     "diskcache": false,
     "headerColor": "inherit",
     "id": "31674f40-60f9-47bb-803b-21043f1bebf9",
     "isComponent": false,
     "name": "",
     "parents": []
    }
   },
   "outputs": [
    {
     "name": "stdout",
     "output_type": "stream",
     "text": [
      "Nom et prénom: 0\n",
      "genre: 23\n",
      "dateNaissance: 0\n",
      "serieDuBac: 20\n",
      "AnnéeDuBac: 21\n",
      "Age au bac: 18\n",
      "Age en l'année en cours: 17\n",
      "Niveau d'etude 2018-2019: 23\n",
      "Niveau d'etude 2019-2020: 19\n",
      "Niveau d'Etude 2020-2021: 23\n",
      "Filières: 10\n",
      "ETS: 3\n",
      "Categ: 24\n",
      "Ville: 8\n",
      "Pays: 23\n",
      "OBS: 15\n",
      "avis sous commission: 23\n",
      "Nature de la bourse: 23\n",
      "telephone: 24\n"
     ]
    }
   ],
   "source": [
    "# Data duplicated\n",
    "for i in df.columns:\n",
    "    print(\"{}: {}\".format(i, df[i].duplicated().sum()))"
   ]
  },
  {
   "cell_type": "code",
   "execution_count": 15,
   "id": "7c280c7e-6338-4a87-8517-f8e246fc0ccf",
   "metadata": {
    "canvas": {
     "comments": [],
     "componentType": "CodeCell",
     "copiedOriginId": null,
     "diskcache": false,
     "headerColor": "inherit",
     "id": "ea1db797-3604-4710-8b4b-b0000e9481d5",
     "isComponent": false,
     "name": "",
     "parents": []
    }
   },
   "outputs": [
    {
     "data": {
      "image/png": "[encoded data removed]",
      "text/plain": [
       "<Figure size 1800x720 with 2 Axes>"
      ]
     },
     "metadata": {
      "needs_background": "light"
     },
     "output_type": "display_data"
    }
   ],
   "source": [
    "ms.matrix(df);"
   ]
  },
  {
   "cell_type": "code",
   "execution_count": 16,
   "id": "66c8a8dc-d390-49d7-840a-035a8cbb6d15",
   "metadata": {
    "canvas": {
     "comments": [],
     "componentType": "CodeCell",
     "copiedOriginId": null,
     "diskcache": false,
     "headerColor": "inherit",
     "id": "8e650a22-a28f-435c-a855-156d240b8be6",
     "isComponent": false,
     "name": "",
     "parents": []
    }
   },
   "outputs": [
    {
     "data": {
      "text/plain": [
       "Nom et prénom               0.00\n",
       "avis sous commission        0.00\n",
       "Pays                        0.00\n",
       "Ville                       0.00\n",
       "Categ                       0.00\n",
       "ETS                         0.00\n",
       "Filières                    0.00\n",
       "Nature de la bourse         0.00\n",
       "Niveau d'Etude 2020-2021    0.00\n",
       "Age en l'année en cours     0.00\n",
       "Age au bac                  0.00\n",
       "AnnéeDuBac                  0.00\n",
       "serieDuBac                  0.00\n",
       "dateNaissance               0.00\n",
       "genre                       0.00\n",
       "Niveau d'etude 2019-2020    0.00\n",
       "OBS                         0.52\n",
       "Niveau d'etude 2018-2019    0.96\n",
       "telephone                   1.00\n",
       "dtype: float64"
      ]
     },
     "execution_count": 16,
     "metadata": {},
     "output_type": "execute_result"
    }
   ],
   "source": [
    "(df.isna().sum()/df.shape[0]).sort_values()"
   ]
  },
  {
   "cell_type": "code",
   "execution_count": 17,
   "id": "959d3196-dfa5-48ab-a48c-63e7cd67288b",
   "metadata": {
    "canvas": {
     "comments": [],
     "componentType": "CodeCell",
     "copiedOriginId": null,
     "diskcache": false,
     "headerColor": "inherit",
     "id": "9e032dd8-34e9-4c88-85aa-0d260a50c340",
     "isComponent": false,
     "name": "",
     "parents": []
    }
   },
   "outputs": [
    {
     "data": {
      "text/html": [
       "<div>\n",
       "<style scoped>\n",
       "    .dataframe tbody tr th:only-of-type {\n",
       "        vertical-align: middle;\n",
       "    }\n",
       "\n",
       "    .dataframe tbody tr th {\n",
       "        vertical-align: top;\n",
       "    }\n",
       "\n",
       "    .dataframe thead th {\n",
       "        text-align: right;\n",
       "    }\n",
       "</style>\n",
       "<table border=\"1\" class=\"dataframe\">\n",
       "  <thead>\n",
       "    <tr style=\"text-align: right;\">\n",
       "      <th></th>\n",
       "      <th>Not a Number</th>\n",
       "    </tr>\n",
       "  </thead>\n",
       "  <tbody>\n",
       "    <tr>\n",
       "      <th>Nom et prénom</th>\n",
       "      <td>0</td>\n",
       "    </tr>\n",
       "    <tr>\n",
       "      <th>genre</th>\n",
       "      <td>0</td>\n",
       "    </tr>\n",
       "    <tr>\n",
       "      <th>dateNaissance</th>\n",
       "      <td>0</td>\n",
       "    </tr>\n",
       "    <tr>\n",
       "      <th>serieDuBac</th>\n",
       "      <td>0</td>\n",
       "    </tr>\n",
       "    <tr>\n",
       "      <th>AnnéeDuBac</th>\n",
       "      <td>0</td>\n",
       "    </tr>\n",
       "    <tr>\n",
       "      <th>Age au bac</th>\n",
       "      <td>0</td>\n",
       "    </tr>\n",
       "    <tr>\n",
       "      <th>Age en l'année en cours</th>\n",
       "      <td>0</td>\n",
       "    </tr>\n",
       "    <tr>\n",
       "      <th>Niveau d'etude 2018-2019</th>\n",
       "      <td>24</td>\n",
       "    </tr>\n",
       "    <tr>\n",
       "      <th>Niveau d'etude 2019-2020</th>\n",
       "      <td>0</td>\n",
       "    </tr>\n",
       "    <tr>\n",
       "      <th>Niveau d'Etude 2020-2021</th>\n",
       "      <td>0</td>\n",
       "    </tr>\n",
       "    <tr>\n",
       "      <th>Filières</th>\n",
       "      <td>0</td>\n",
       "    </tr>\n",
       "    <tr>\n",
       "      <th>ETS</th>\n",
       "      <td>0</td>\n",
       "    </tr>\n",
       "    <tr>\n",
       "      <th>Categ</th>\n",
       "      <td>0</td>\n",
       "    </tr>\n",
       "    <tr>\n",
       "      <th>Ville</th>\n",
       "      <td>0</td>\n",
       "    </tr>\n",
       "    <tr>\n",
       "      <th>Pays</th>\n",
       "      <td>0</td>\n",
       "    </tr>\n",
       "    <tr>\n",
       "      <th>OBS</th>\n",
       "      <td>13</td>\n",
       "    </tr>\n",
       "    <tr>\n",
       "      <th>avis sous commission</th>\n",
       "      <td>0</td>\n",
       "    </tr>\n",
       "    <tr>\n",
       "      <th>Nature de la bourse</th>\n",
       "      <td>0</td>\n",
       "    </tr>\n",
       "    <tr>\n",
       "      <th>telephone</th>\n",
       "      <td>25</td>\n",
       "    </tr>\n",
       "  </tbody>\n",
       "</table>\n",
       "</div>"
      ],
      "text/plain": [
       "                          Not a Number\n",
       "Nom et prénom                        0\n",
       "genre                                0\n",
       "dateNaissance                        0\n",
       "serieDuBac                           0\n",
       "AnnéeDuBac                           0\n",
       "Age au bac                           0\n",
       "Age en l'année en cours              0\n",
       "Niveau d'etude 2018-2019            24\n",
       "Niveau d'etude 2019-2020             0\n",
       "Niveau d'Etude 2020-2021             0\n",
       "Filières                             0\n",
       "ETS                                  0\n",
       "Categ                                0\n",
       "Ville                                0\n",
       "Pays                                 0\n",
       "OBS                                 13\n",
       "avis sous commission                 0\n",
       "Nature de la bourse                  0\n",
       "telephone                           25"
      ]
     },
     "execution_count": 17,
     "metadata": {},
     "output_type": "execute_result"
    }
   ],
   "source": [
    "df.isna().sum().to_frame(\"Not a Number\")"
   ]
  },
  {
   "cell_type": "code",
   "execution_count": 18,
   "id": "bf077223-b69b-4f0b-b727-0b95ab87b3dd",
   "metadata": {
    "canvas": {
     "comments": [],
     "componentType": "CodeCell",
     "copiedOriginId": null,
     "diskcache": false,
     "headerColor": "inherit",
     "id": "ac95f466-fd43-4502-8a94-be69fe5bfedb",
     "isComponent": false,
     "name": "",
     "parents": []
    }
   },
   "outputs": [
    {
     "data": {
      "text/html": [
       "<div>\n",
       "<style scoped>\n",
       "    .dataframe tbody tr th:only-of-type {\n",
       "        vertical-align: middle;\n",
       "    }\n",
       "\n",
       "    .dataframe tbody tr th {\n",
       "        vertical-align: top;\n",
       "    }\n",
       "\n",
       "    .dataframe thead th {\n",
       "        text-align: right;\n",
       "    }\n",
       "</style>\n",
       "<table border=\"1\" class=\"dataframe\">\n",
       "  <thead>\n",
       "    <tr style=\"text-align: right;\">\n",
       "      <th></th>\n",
       "      <th>Null values</th>\n",
       "    </tr>\n",
       "  </thead>\n",
       "  <tbody>\n",
       "    <tr>\n",
       "      <th>Nom et prénom</th>\n",
       "      <td>0</td>\n",
       "    </tr>\n",
       "    <tr>\n",
       "      <th>genre</th>\n",
       "      <td>0</td>\n",
       "    </tr>\n",
       "    <tr>\n",
       "      <th>dateNaissance</th>\n",
       "      <td>0</td>\n",
       "    </tr>\n",
       "    <tr>\n",
       "      <th>serieDuBac</th>\n",
       "      <td>0</td>\n",
       "    </tr>\n",
       "    <tr>\n",
       "      <th>AnnéeDuBac</th>\n",
       "      <td>0</td>\n",
       "    </tr>\n",
       "    <tr>\n",
       "      <th>Age au bac</th>\n",
       "      <td>0</td>\n",
       "    </tr>\n",
       "    <tr>\n",
       "      <th>Age en l'année en cours</th>\n",
       "      <td>0</td>\n",
       "    </tr>\n",
       "    <tr>\n",
       "      <th>Niveau d'etude 2018-2019</th>\n",
       "      <td>24</td>\n",
       "    </tr>\n",
       "    <tr>\n",
       "      <th>Niveau d'etude 2019-2020</th>\n",
       "      <td>0</td>\n",
       "    </tr>\n",
       "    <tr>\n",
       "      <th>Niveau d'Etude 2020-2021</th>\n",
       "      <td>0</td>\n",
       "    </tr>\n",
       "    <tr>\n",
       "      <th>Filières</th>\n",
       "      <td>0</td>\n",
       "    </tr>\n",
       "    <tr>\n",
       "      <th>ETS</th>\n",
       "      <td>0</td>\n",
       "    </tr>\n",
       "    <tr>\n",
       "      <th>Categ</th>\n",
       "      <td>0</td>\n",
       "    </tr>\n",
       "    <tr>\n",
       "      <th>Ville</th>\n",
       "      <td>0</td>\n",
       "    </tr>\n",
       "    <tr>\n",
       "      <th>Pays</th>\n",
       "      <td>0</td>\n",
       "    </tr>\n",
       "    <tr>\n",
       "      <th>OBS</th>\n",
       "      <td>13</td>\n",
       "    </tr>\n",
       "    <tr>\n",
       "      <th>avis sous commission</th>\n",
       "      <td>0</td>\n",
       "    </tr>\n",
       "    <tr>\n",
       "      <th>Nature de la bourse</th>\n",
       "      <td>0</td>\n",
       "    </tr>\n",
       "    <tr>\n",
       "      <th>telephone</th>\n",
       "      <td>25</td>\n",
       "    </tr>\n",
       "  </tbody>\n",
       "</table>\n",
       "</div>"
      ],
      "text/plain": [
       "                          Null values\n",
       "Nom et prénom                       0\n",
       "genre                               0\n",
       "dateNaissance                       0\n",
       "serieDuBac                          0\n",
       "AnnéeDuBac                          0\n",
       "Age au bac                          0\n",
       "Age en l'année en cours             0\n",
       "Niveau d'etude 2018-2019           24\n",
       "Niveau d'etude 2019-2020            0\n",
       "Niveau d'Etude 2020-2021            0\n",
       "Filières                            0\n",
       "ETS                                 0\n",
       "Categ                               0\n",
       "Ville                               0\n",
       "Pays                                0\n",
       "OBS                                13\n",
       "avis sous commission                0\n",
       "Nature de la bourse                 0\n",
       "telephone                          25"
      ]
     },
     "execution_count": 18,
     "metadata": {},
     "output_type": "execute_result"
    }
   ],
   "source": [
    "df.isnull().sum().to_frame(\"Null values\")"
   ]
  },
  {
   "cell_type": "code",
   "execution_count": 19,
   "id": "362b56b8-014c-4d52-b56a-f8bcd0326667",
   "metadata": {
    "canvas": {
     "comments": [],
     "componentType": "CodeCell",
     "copiedOriginId": null,
     "diskcache": false,
     "headerColor": "inherit",
     "id": "0b492594-fbdf-4274-90a4-e8587f855eab",
     "isComponent": false,
     "name": "",
     "parents": []
    }
   },
   "outputs": [
    {
     "data": {
      "text/html": [
       "<div>\n",
       "<style scoped>\n",
       "    .dataframe tbody tr th:only-of-type {\n",
       "        vertical-align: middle;\n",
       "    }\n",
       "\n",
       "    .dataframe tbody tr th {\n",
       "        vertical-align: top;\n",
       "    }\n",
       "\n",
       "    .dataframe thead th {\n",
       "        text-align: right;\n",
       "    }\n",
       "</style>\n",
       "<table border=\"1\" class=\"dataframe\">\n",
       "  <thead>\n",
       "    <tr style=\"text-align: right;\">\n",
       "      <th></th>\n",
       "      <th>Not null</th>\n",
       "    </tr>\n",
       "  </thead>\n",
       "  <tbody>\n",
       "    <tr>\n",
       "      <th>Nom et prénom</th>\n",
       "      <td>25</td>\n",
       "    </tr>\n",
       "    <tr>\n",
       "      <th>genre</th>\n",
       "      <td>25</td>\n",
       "    </tr>\n",
       "    <tr>\n",
       "      <th>dateNaissance</th>\n",
       "      <td>25</td>\n",
       "    </tr>\n",
       "    <tr>\n",
       "      <th>serieDuBac</th>\n",
       "      <td>25</td>\n",
       "    </tr>\n",
       "    <tr>\n",
       "      <th>AnnéeDuBac</th>\n",
       "      <td>25</td>\n",
       "    </tr>\n",
       "    <tr>\n",
       "      <th>Age au bac</th>\n",
       "      <td>25</td>\n",
       "    </tr>\n",
       "    <tr>\n",
       "      <th>Age en l'année en cours</th>\n",
       "      <td>25</td>\n",
       "    </tr>\n",
       "    <tr>\n",
       "      <th>Niveau d'etude 2018-2019</th>\n",
       "      <td>1</td>\n",
       "    </tr>\n",
       "    <tr>\n",
       "      <th>Niveau d'etude 2019-2020</th>\n",
       "      <td>25</td>\n",
       "    </tr>\n",
       "    <tr>\n",
       "      <th>Niveau d'Etude 2020-2021</th>\n",
       "      <td>25</td>\n",
       "    </tr>\n",
       "    <tr>\n",
       "      <th>Filières</th>\n",
       "      <td>25</td>\n",
       "    </tr>\n",
       "    <tr>\n",
       "      <th>ETS</th>\n",
       "      <td>25</td>\n",
       "    </tr>\n",
       "    <tr>\n",
       "      <th>Categ</th>\n",
       "      <td>25</td>\n",
       "    </tr>\n",
       "    <tr>\n",
       "      <th>Ville</th>\n",
       "      <td>25</td>\n",
       "    </tr>\n",
       "    <tr>\n",
       "      <th>Pays</th>\n",
       "      <td>25</td>\n",
       "    </tr>\n",
       "    <tr>\n",
       "      <th>OBS</th>\n",
       "      <td>12</td>\n",
       "    </tr>\n",
       "    <tr>\n",
       "      <th>avis sous commission</th>\n",
       "      <td>25</td>\n",
       "    </tr>\n",
       "    <tr>\n",
       "      <th>Nature de la bourse</th>\n",
       "      <td>25</td>\n",
       "    </tr>\n",
       "    <tr>\n",
       "      <th>telephone</th>\n",
       "      <td>0</td>\n",
       "    </tr>\n",
       "  </tbody>\n",
       "</table>\n",
       "</div>"
      ],
      "text/plain": [
       "                          Not null\n",
       "Nom et prénom                   25\n",
       "genre                           25\n",
       "dateNaissance                   25\n",
       "serieDuBac                      25\n",
       "AnnéeDuBac                      25\n",
       "Age au bac                      25\n",
       "Age en l'année en cours         25\n",
       "Niveau d'etude 2018-2019         1\n",
       "Niveau d'etude 2019-2020        25\n",
       "Niveau d'Etude 2020-2021        25\n",
       "Filières                        25\n",
       "ETS                             25\n",
       "Categ                           25\n",
       "Ville                           25\n",
       "Pays                            25\n",
       "OBS                             12\n",
       "avis sous commission            25\n",
       "Nature de la bourse             25\n",
       "telephone                        0"
      ]
     },
     "execution_count": 19,
     "metadata": {},
     "output_type": "execute_result"
    }
   ],
   "source": [
    "df.notnull().sum().to_frame(\"Not null\")"
   ]
  },
  {
   "cell_type": "code",
   "execution_count": 20,
   "id": "4987670f-5321-4ba4-9fd5-8d63a5fe0ea0",
   "metadata": {
    "canvas": {
     "comments": [],
     "componentType": "CodeCell",
     "copiedOriginId": null,
     "diskcache": false,
     "headerColor": "inherit",
     "id": "2d90c6ce-d8e5-4781-9d3e-9961f254e843",
     "isComponent": false,
     "name": "",
     "parents": []
    }
   },
   "outputs": [
    {
     "name": "stdout",
     "output_type": "stream",
     "text": [
      "\n",
      "genre: \n",
      "M    17\n",
      "F     8\n",
      "Name: genre, dtype: int64\n",
      "\n",
      "serieDuBac: \n",
      "D     13\n",
      "C      8\n",
      "A4     2\n",
      "A      1\n",
      "C      1\n",
      "Name: serieDuBac, dtype: int64\n",
      "\n",
      "Categ: \n",
      "F    25\n",
      "Name: Categ, dtype: int64\n",
      "\n",
      "serieDuBac: \n",
      "D     13\n",
      "C      8\n",
      "A4     2\n",
      "A      1\n",
      "C      1\n",
      "Name: serieDuBac, dtype: int64\n",
      "\n",
      "Filières: \n",
      "Architecture          6\n",
      "Biotechnologie        3\n",
      "Construction          3\n",
      "Chimie                2\n",
      "II                    1\n",
      "Agronomie             1\n",
      "Automatisation        1\n",
      "Automatisme           1\n",
      "Béton Armé            1\n",
      "Bio-tech              1\n",
      "Biochimie Médicale    1\n",
      "Biologie              1\n",
      "Cadastre foncier      1\n",
      "Compta et Audit       1\n",
      "Comptabilité          1\n",
      "Name: Filières, dtype: int64\n",
      "\n",
      "ETS: \n",
      "Université d'Etat de Orel                          2\n",
      "Yaroslave de Velikiy Novgorog                      2\n",
      "Université d'Etat de Ivanovo                       2\n",
      "TVG                                                1\n",
      "Université d'Etat fédérale de Stavropol            1\n",
      "Université d'Etat de Saratov                       1\n",
      "Université d'Etat d'Oural                          1\n",
      "Université d'Etat de Moscou                        1\n",
      "MTXT Moscou                                        1\n",
      "Université d'Etat de Kirov                         1\n",
      "Université d'Etat de Vladmir                       1\n",
      "université d'Etat de Kirol                         1\n",
      "univrsité agricole de Belbord                      1\n",
      "U E O                                              1\n",
      "U E                                                1\n",
      "Université d'Etat d'Architecture Kaazan            1\n",
      "Université d'Etat d'architecure  St peersbourg     1\n",
      "MGS de Moscou                                      1\n",
      "Université d'Etat d'Achitecture de Veronej         1\n",
      "Université d'Etat de Rotov                         1\n",
      "Univ,d'Etat d'Architecture de Veronej              1\n",
      "Université d'Etat de Volgograd                     1\n",
      "Name: ETS, dtype: int64\n",
      "\n",
      "Pays: \n",
      "russie    22\n",
      "Russie     3\n",
      "Name: Pays, dtype: int64\n",
      "\n",
      "Age en l'année en cours: \n",
      "27    8\n",
      "24    6\n",
      "26    3\n",
      "25    3\n",
      "28    2\n",
      "30    1\n",
      "22    1\n",
      "32    1\n",
      "Name: Age en l'année en cours, dtype: int64\n",
      "\n",
      "avis sous commission: \n",
      "FAV    24\n",
      "DEF     1\n",
      "Name: avis sous commission, dtype: int64\n"
     ]
    }
   ],
   "source": [
    "for i in df[[\"genre\", \"serieDuBac\", \"Categ\", \"serieDuBac\", \"Filières\", \"ETS\", \"Pays\", \"Age en l'année en cours\"\n",
    "            , \"avis sous commission\"]]:\n",
    "    print(\"\")\n",
    "    print(\"{}: \\n{}\".format(i, df[i].value_counts()))"
   ]
  },
  {
   "cell_type": "markdown",
   "id": "9a08d86b-267a-431d-acf2-f81a701df946",
   "metadata": {
    "canvas": {
     "comments": [],
     "componentType": "CodeCell",
     "copiedOriginId": null,
     "diskcache": false,
     "headerColor": "inherit",
     "id": "98a108dd-9248-4820-91c2-100230b17d0c",
     "isComponent": false,
     "name": "",
     "parents": []
    }
   },
   "source": [
    "### - Clean"
   ]
  },
  {
   "cell_type": "code",
   "execution_count": 21,
   "id": "bc046833-5622-4050-a5e9-d5b45636e561",
   "metadata": {
    "canvas": {
     "comments": [],
     "componentType": "CodeCell",
     "copiedOriginId": null,
     "diskcache": false,
     "headerColor": "inherit",
     "id": "20c386ca-92cf-4c5a-a1ae-486cc14016eb",
     "isComponent": false,
     "name": "",
     "parents": []
    }
   },
   "outputs": [
    {
     "data": {
      "text/html": [
       "<div>\n",
       "<style scoped>\n",
       "    .dataframe tbody tr th:only-of-type {\n",
       "        vertical-align: middle;\n",
       "    }\n",
       "\n",
       "    .dataframe tbody tr th {\n",
       "        vertical-align: top;\n",
       "    }\n",
       "\n",
       "    .dataframe thead th {\n",
       "        text-align: right;\n",
       "    }\n",
       "</style>\n",
       "<table border=\"1\" class=\"dataframe\">\n",
       "  <thead>\n",
       "    <tr style=\"text-align: right;\">\n",
       "      <th></th>\n",
       "      <th>Nom et prénom</th>\n",
       "      <th>genre</th>\n",
       "      <th>dateNaissance</th>\n",
       "      <th>serieDuBac</th>\n",
       "      <th>AnnéeDuBac</th>\n",
       "      <th>Age au bac</th>\n",
       "      <th>Age en l'année en cours</th>\n",
       "      <th>Niveau d'etude 2018-2019</th>\n",
       "      <th>Niveau d'etude 2019-2020</th>\n",
       "      <th>Niveau d'Etude 2020-2021</th>\n",
       "      <th>Filières</th>\n",
       "      <th>ETS</th>\n",
       "      <th>Categ</th>\n",
       "      <th>Ville</th>\n",
       "      <th>Pays</th>\n",
       "      <th>OBS</th>\n",
       "      <th>avis sous commission</th>\n",
       "      <th>Nature de la bourse</th>\n",
       "      <th>telephone</th>\n",
       "    </tr>\n",
       "  </thead>\n",
       "  <tbody>\n",
       "    <tr>\n",
       "      <th>0</th>\n",
       "      <td>NGAMBOULOU Darling</td>\n",
       "      <td>F</td>\n",
       "      <td>1992-07-11 00:00:00</td>\n",
       "      <td>A</td>\n",
       "      <td>2011</td>\n",
       "      <td>19</td>\n",
       "      <td>28</td>\n",
       "      <td>NaN</td>\n",
       "      <td>M1</td>\n",
       "      <td>M2</td>\n",
       "      <td>II</td>\n",
       "      <td>TVG</td>\n",
       "      <td>F</td>\n",
       "      <td>Ivano</td>\n",
       "      <td>russie</td>\n",
       "      <td>M2RED</td>\n",
       "      <td>FAV</td>\n",
       "      <td>Renouvellement</td>\n",
       "      <td>NaN</td>\n",
       "    </tr>\n",
       "    <tr>\n",
       "      <th>1</th>\n",
       "      <td>MBETTE Grace Victoire Emmanuelle</td>\n",
       "      <td>F</td>\n",
       "      <td>1994-01-29 00:00:00</td>\n",
       "      <td>C</td>\n",
       "      <td>2013</td>\n",
       "      <td>19</td>\n",
       "      <td>26</td>\n",
       "      <td>NaN</td>\n",
       "      <td>M1</td>\n",
       "      <td>M2</td>\n",
       "      <td>Agronomie</td>\n",
       "      <td>univrsité agricole de Belbord</td>\n",
       "      <td>F</td>\n",
       "      <td>Belgorod</td>\n",
       "      <td>Russie</td>\n",
       "      <td>NaN</td>\n",
       "      <td>FAV</td>\n",
       "      <td>Renouvellement</td>\n",
       "      <td>NaN</td>\n",
       "    </tr>\n",
       "  </tbody>\n",
       "</table>\n",
       "</div>"
      ],
      "text/plain": [
       "                      Nom et prénom genre        dateNaissance serieDuBac  \\\n",
       "0                NGAMBOULOU Darling     F  1992-07-11 00:00:00          A   \n",
       "1  MBETTE Grace Victoire Emmanuelle     F  1994-01-29 00:00:00          C   \n",
       "\n",
       "   AnnéeDuBac  Age au bac  Age en l'année en cours Niveau d'etude 2018-2019  \\\n",
       "0        2011          19                       28                      NaN   \n",
       "1        2013          19                       26                      NaN   \n",
       "\n",
       "  Niveau d'etude 2019-2020 Niveau d'Etude 2020-2021   Filières  \\\n",
       "0                       M1                       M2         II   \n",
       "1                       M1                       M2  Agronomie   \n",
       "\n",
       "                             ETS Categ     Ville    Pays    OBS  \\\n",
       "0                            TVG     F     Ivano  russie  M2RED   \n",
       "1  univrsité agricole de Belbord     F  Belgorod  Russie    NaN   \n",
       "\n",
       "  avis sous commission Nature de la bourse  telephone  \n",
       "0                  FAV      Renouvellement        NaN  \n",
       "1                  FAV      Renouvellement        NaN  "
      ]
     },
     "execution_count": 21,
     "metadata": {},
     "output_type": "execute_result"
    }
   ],
   "source": [
    "df.head(2)"
   ]
  },
  {
   "cell_type": "code",
   "execution_count": 22,
   "id": "3569d1a7-2a8f-48b8-a4b0-c1b7cfc2bcb7",
   "metadata": {
    "canvas": {
     "comments": [],
     "componentType": "CodeCell",
     "copiedOriginId": null,
     "diskcache": false,
     "headerColor": "inherit",
     "id": "c875c139-3e38-4b76-9418-e7bb85ed04ed",
     "isComponent": false,
     "name": "",
     "parents": []
    }
   },
   "outputs": [],
   "source": [
    "df.drop([\"Nom et prénom\", \"Niveau d'etude 2018-2019\"], axis=1, inplace=True)"
   ]
  },
  {
   "cell_type": "code",
   "execution_count": 23,
   "id": "5aa2bcaa-2731-474d-a263-8678147c67ea",
   "metadata": {
    "canvas": {
     "comments": [],
     "componentType": "CodeCell",
     "copiedOriginId": null,
     "diskcache": false,
     "headerColor": "inherit",
     "id": "d33e9d5f-df55-4c63-9d14-997851b1e00d",
     "isComponent": false,
     "name": "",
     "parents": []
    }
   },
   "outputs": [
    {
     "data": {
      "text/html": [
       "<div>\n",
       "<style scoped>\n",
       "    .dataframe tbody tr th:only-of-type {\n",
       "        vertical-align: middle;\n",
       "    }\n",
       "\n",
       "    .dataframe tbody tr th {\n",
       "        vertical-align: top;\n",
       "    }\n",
       "\n",
       "    .dataframe thead th {\n",
       "        text-align: right;\n",
       "    }\n",
       "</style>\n",
       "<table border=\"1\" class=\"dataframe\">\n",
       "  <thead>\n",
       "    <tr style=\"text-align: right;\">\n",
       "      <th></th>\n",
       "      <th>genre</th>\n",
       "      <th>dateNaissance</th>\n",
       "      <th>serieDuBac</th>\n",
       "      <th>AnnéeDuBac</th>\n",
       "      <th>Age au bac</th>\n",
       "      <th>Age en l'année en cours</th>\n",
       "      <th>Niveau d'etude 2019-2020</th>\n",
       "      <th>Niveau d'Etude 2020-2021</th>\n",
       "      <th>Filières</th>\n",
       "      <th>ETS</th>\n",
       "      <th>Categ</th>\n",
       "      <th>Ville</th>\n",
       "      <th>Pays</th>\n",
       "      <th>OBS</th>\n",
       "      <th>avis sous commission</th>\n",
       "      <th>Nature de la bourse</th>\n",
       "      <th>telephone</th>\n",
       "    </tr>\n",
       "  </thead>\n",
       "  <tbody>\n",
       "    <tr>\n",
       "      <th>0</th>\n",
       "      <td>F</td>\n",
       "      <td>1992-07-11 00:00:00</td>\n",
       "      <td>A</td>\n",
       "      <td>2011</td>\n",
       "      <td>19</td>\n",
       "      <td>28</td>\n",
       "      <td>M1</td>\n",
       "      <td>M2</td>\n",
       "      <td>II</td>\n",
       "      <td>TVG</td>\n",
       "      <td>F</td>\n",
       "      <td>Ivano</td>\n",
       "      <td>russie</td>\n",
       "      <td>M2RED</td>\n",
       "      <td>FAV</td>\n",
       "      <td>Renouvellement</td>\n",
       "      <td>NaN</td>\n",
       "    </tr>\n",
       "    <tr>\n",
       "      <th>1</th>\n",
       "      <td>F</td>\n",
       "      <td>1994-01-29 00:00:00</td>\n",
       "      <td>C</td>\n",
       "      <td>2013</td>\n",
       "      <td>19</td>\n",
       "      <td>26</td>\n",
       "      <td>M1</td>\n",
       "      <td>M2</td>\n",
       "      <td>Agronomie</td>\n",
       "      <td>univrsité agricole de Belbord</td>\n",
       "      <td>F</td>\n",
       "      <td>Belgorod</td>\n",
       "      <td>Russie</td>\n",
       "      <td>NaN</td>\n",
       "      <td>FAV</td>\n",
       "      <td>Renouvellement</td>\n",
       "      <td>NaN</td>\n",
       "    </tr>\n",
       "    <tr>\n",
       "      <th>2</th>\n",
       "      <td>M</td>\n",
       "      <td>1996-05-14 00:00:00</td>\n",
       "      <td>D</td>\n",
       "      <td>2014</td>\n",
       "      <td>18</td>\n",
       "      <td>24</td>\n",
       "      <td>M1</td>\n",
       "      <td>M2</td>\n",
       "      <td>Architecture</td>\n",
       "      <td>Univ,d'Etat d'Architecture de Veronej</td>\n",
       "      <td>F</td>\n",
       "      <td>Vornej</td>\n",
       "      <td>Russie</td>\n",
       "      <td>Cycle sp</td>\n",
       "      <td>FAV</td>\n",
       "      <td>Renouvellement</td>\n",
       "      <td>NaN</td>\n",
       "    </tr>\n",
       "    <tr>\n",
       "      <th>3</th>\n",
       "      <td>M</td>\n",
       "      <td>1990-01-01 00:00:00</td>\n",
       "      <td>D</td>\n",
       "      <td>2010</td>\n",
       "      <td>20</td>\n",
       "      <td>30</td>\n",
       "      <td>M1</td>\n",
       "      <td>M2</td>\n",
       "      <td>Architecture</td>\n",
       "      <td>Université d'Etat de Rotov</td>\n",
       "      <td>F</td>\n",
       "      <td>Rotov</td>\n",
       "      <td>russie</td>\n",
       "      <td>NaN</td>\n",
       "      <td>FAV</td>\n",
       "      <td>Renouvellement</td>\n",
       "      <td>NaN</td>\n",
       "    </tr>\n",
       "    <tr>\n",
       "      <th>4</th>\n",
       "      <td>M</td>\n",
       "      <td>1993-02-06 00:00:00</td>\n",
       "      <td>C</td>\n",
       "      <td>2013</td>\n",
       "      <td>20</td>\n",
       "      <td>27</td>\n",
       "      <td>M1/5è</td>\n",
       "      <td>M2</td>\n",
       "      <td>Architecture</td>\n",
       "      <td>Université d'Etat d'Achitecture de Veronej</td>\n",
       "      <td>F</td>\n",
       "      <td>Vornej</td>\n",
       "      <td>russie</td>\n",
       "      <td>Cycle sp</td>\n",
       "      <td>FAV</td>\n",
       "      <td>Renouvellement</td>\n",
       "      <td>NaN</td>\n",
       "    </tr>\n",
       "  </tbody>\n",
       "</table>\n",
       "</div>"
      ],
      "text/plain": [
       "  genre        dateNaissance serieDuBac  AnnéeDuBac  Age au bac  \\\n",
       "0     F  1992-07-11 00:00:00          A        2011          19   \n",
       "1     F  1994-01-29 00:00:00          C        2013          19   \n",
       "2     M  1996-05-14 00:00:00          D        2014          18   \n",
       "3     M  1990-01-01 00:00:00          D        2010          20   \n",
       "4     M  1993-02-06 00:00:00          C        2013          20   \n",
       "\n",
       "   Age en l'année en cours Niveau d'etude 2019-2020 Niveau d'Etude 2020-2021  \\\n",
       "0                       28                       M1                       M2   \n",
       "1                       26                       M1                       M2   \n",
       "2                       24                       M1                       M2   \n",
       "3                       30                       M1                       M2   \n",
       "4                       27                    M1/5è                       M2   \n",
       "\n",
       "       Filières                                         ETS Categ     Ville  \\\n",
       "0            II                                         TVG     F     Ivano   \n",
       "1     Agronomie               univrsité agricole de Belbord     F  Belgorod   \n",
       "2  Architecture       Univ,d'Etat d'Architecture de Veronej     F    Vornej   \n",
       "3  Architecture                  Université d'Etat de Rotov     F     Rotov   \n",
       "4  Architecture  Université d'Etat d'Achitecture de Veronej     F    Vornej   \n",
       "\n",
       "     Pays       OBS avis sous commission Nature de la bourse  telephone  \n",
       "0  russie     M2RED                  FAV      Renouvellement        NaN  \n",
       "1  Russie       NaN                  FAV      Renouvellement        NaN  \n",
       "2  Russie  Cycle sp                  FAV      Renouvellement        NaN  \n",
       "3  russie       NaN                  FAV      Renouvellement        NaN  \n",
       "4  russie  Cycle sp                  FAV      Renouvellement        NaN  "
      ]
     },
     "execution_count": 23,
     "metadata": {},
     "output_type": "execute_result"
    }
   ],
   "source": [
    "df.head()"
   ]
  },
  {
   "cell_type": "code",
   "execution_count": 24,
   "id": "9f83d6e3-9d5a-4135-b94c-91b99592a803",
   "metadata": {
    "canvas": {
     "comments": [],
     "componentType": "CodeCell",
     "copiedOriginId": null,
     "diskcache": false,
     "headerColor": "inherit",
     "id": "a7660774-9e1a-4826-bcd5-62b5b2ebc07e",
     "isComponent": false,
     "name": "",
     "parents": []
    }
   },
   "outputs": [],
   "source": [
    "df.drop_duplicates(inplace=True)"
   ]
  },
  {
   "cell_type": "code",
   "execution_count": 25,
   "id": "d0a47d35-487d-4f83-9cd9-578a635d0182",
   "metadata": {
    "canvas": {
     "comments": [],
     "componentType": "CodeCell",
     "copiedOriginId": null,
     "diskcache": false,
     "headerColor": "inherit",
     "id": "f38b0f5d-a85b-4ba9-a883-10675d499af8",
     "isComponent": false,
     "name": "",
     "parents": []
    }
   },
   "outputs": [
    {
     "data": {
      "text/plain": [
       "(25, 17)"
      ]
     },
     "execution_count": 25,
     "metadata": {},
     "output_type": "execute_result"
    }
   ],
   "source": [
    "df.shape"
   ]
  },
  {
   "cell_type": "code",
   "execution_count": 26,
   "id": "da215e6c-c172-4ebf-8627-21745f8f8f06",
   "metadata": {
    "canvas": {
     "comments": [],
     "componentType": "CodeCell",
     "copiedOriginId": null,
     "diskcache": false,
     "headerColor": "inherit",
     "id": "e9f2a979-360e-4d38-82d1-e93d640f3cae",
     "isComponent": false,
     "name": "",
     "parents": []
    }
   },
   "outputs": [
    {
     "name": "stdout",
     "output_type": "stream",
     "text": [
      "genre: 23\n",
      "dateNaissance: 0\n",
      "serieDuBac: 20\n",
      "AnnéeDuBac: 21\n",
      "Age au bac: 18\n",
      "Age en l'année en cours: 17\n",
      "Niveau d'etude 2019-2020: 19\n",
      "Niveau d'Etude 2020-2021: 23\n",
      "Filières: 10\n",
      "ETS: 3\n",
      "Categ: 24\n",
      "Ville: 8\n",
      "Pays: 23\n",
      "OBS: 15\n",
      "avis sous commission: 23\n",
      "Nature de la bourse: 23\n",
      "telephone: 24\n"
     ]
    }
   ],
   "source": [
    "# Data duplicated\n",
    "for i in df.columns:\n",
    "    print(\"{}: {}\".format(i, df[i].duplicated().sum()))"
   ]
  },
  {
   "cell_type": "code",
   "execution_count": 27,
   "id": "d5e07d89-48a5-42fb-98d8-53605e1dd05a",
   "metadata": {
    "canvas": {
     "comments": [],
     "componentType": "CodeCell",
     "copiedOriginId": null,
     "diskcache": false,
     "headerColor": "inherit",
     "id": "6713720b-a483-4ecd-84b1-bafdf20fec7a",
     "isComponent": false,
     "name": "",
     "parents": []
    }
   },
   "outputs": [],
   "source": [
    "# df_model = df[[\"genre\", \"serieDuBac\", \"AnnéeDuBac\"]]\n",
    "df.rename(columns={\"AnnéeDuBac\": \"anneeBac\", \"Age au bac\": \"ageBac\", \"Age en l'année en cours\": \"ageAnneeCours\", \"Filières\":\n",
    "           \"filieres\", \"avis sous commission\": \"avisSousCommission\", \"Nature de la bourse\": \"natureBourse\",\n",
    "                  \"Niveau d'etude 2019-2020\": \"niveau_etude_2019_2020\", \"Niveau d'Etude 2020-2021\": \"niveau_etude_2020_2021\"}, inplace=True)"
   ]
  },
  {
   "cell_type": "code",
   "execution_count": 87,
   "id": "7970dead-0638-4483-9f76-4cde7d8d8c9b",
   "metadata": {
    "canvas": {
     "comments": [],
     "componentType": "CodeCell",
     "copiedOriginId": null,
     "diskcache": false,
     "headerColor": "inherit",
     "id": "8650c5e8-5d76-4933-812e-4916ba271b34",
     "isComponent": false,
     "name": "",
     "parents": []
    }
   },
   "outputs": [
    {
     "data": {
      "text/html": [
       "<div>\n",
       "<style scoped>\n",
       "    .dataframe tbody tr th:only-of-type {\n",
       "        vertical-align: middle;\n",
       "    }\n",
       "\n",
       "    .dataframe tbody tr th {\n",
       "        vertical-align: top;\n",
       "    }\n",
       "\n",
       "    .dataframe thead th {\n",
       "        text-align: right;\n",
       "    }\n",
       "</style>\n",
       "<table border=\"1\" class=\"dataframe\">\n",
       "  <thead>\n",
       "    <tr style=\"text-align: right;\">\n",
       "      <th></th>\n",
       "      <th>genre</th>\n",
       "      <th>dateNaissance</th>\n",
       "      <th>serieDuBac</th>\n",
       "      <th>anneeBac</th>\n",
       "      <th>ageBac</th>\n",
       "      <th>ageAnneeCours</th>\n",
       "      <th>niveau_etude_2019_2020</th>\n",
       "      <th>niveau_etude_2020_2021</th>\n",
       "      <th>filieres</th>\n",
       "      <th>ETS</th>\n",
       "      <th>Categ</th>\n",
       "      <th>Ville</th>\n",
       "      <th>Pays</th>\n",
       "      <th>OBS</th>\n",
       "      <th>avisSousCommission</th>\n",
       "      <th>natureBourse</th>\n",
       "      <th>telephone</th>\n",
       "    </tr>\n",
       "  </thead>\n",
       "  <tbody>\n",
       "    <tr>\n",
       "      <th>0</th>\n",
       "      <td>F</td>\n",
       "      <td>1992-07-11 00:00:00</td>\n",
       "      <td>A</td>\n",
       "      <td>2011</td>\n",
       "      <td>19</td>\n",
       "      <td>28</td>\n",
       "      <td>M1</td>\n",
       "      <td>M2</td>\n",
       "      <td>II</td>\n",
       "      <td>TVG</td>\n",
       "      <td>F</td>\n",
       "      <td>Ivano</td>\n",
       "      <td>russie</td>\n",
       "      <td>M2RED</td>\n",
       "      <td>FAV</td>\n",
       "      <td>Renouvellement</td>\n",
       "      <td>NaN</td>\n",
       "    </tr>\n",
       "    <tr>\n",
       "      <th>1</th>\n",
       "      <td>F</td>\n",
       "      <td>1994-01-29 00:00:00</td>\n",
       "      <td>C</td>\n",
       "      <td>2013</td>\n",
       "      <td>19</td>\n",
       "      <td>26</td>\n",
       "      <td>M1</td>\n",
       "      <td>M2</td>\n",
       "      <td>Agronomie</td>\n",
       "      <td>univrsité agricole de Belbord</td>\n",
       "      <td>F</td>\n",
       "      <td>Belgorod</td>\n",
       "      <td>Russie</td>\n",
       "      <td>NaN</td>\n",
       "      <td>FAV</td>\n",
       "      <td>Renouvellement</td>\n",
       "      <td>NaN</td>\n",
       "    </tr>\n",
       "    <tr>\n",
       "      <th>2</th>\n",
       "      <td>M</td>\n",
       "      <td>1996-05-14 00:00:00</td>\n",
       "      <td>D</td>\n",
       "      <td>2014</td>\n",
       "      <td>18</td>\n",
       "      <td>24</td>\n",
       "      <td>M1</td>\n",
       "      <td>M2</td>\n",
       "      <td>Architecture</td>\n",
       "      <td>Univ,d'Etat d'Architecture de Veronej</td>\n",
       "      <td>F</td>\n",
       "      <td>Vornej</td>\n",
       "      <td>Russie</td>\n",
       "      <td>Cycle sp</td>\n",
       "      <td>FAV</td>\n",
       "      <td>Renouvellement</td>\n",
       "      <td>NaN</td>\n",
       "    </tr>\n",
       "    <tr>\n",
       "      <th>3</th>\n",
       "      <td>M</td>\n",
       "      <td>1990-01-01 00:00:00</td>\n",
       "      <td>D</td>\n",
       "      <td>2010</td>\n",
       "      <td>20</td>\n",
       "      <td>30</td>\n",
       "      <td>M1</td>\n",
       "      <td>M2</td>\n",
       "      <td>Architecture</td>\n",
       "      <td>Université d'Etat de Rotov</td>\n",
       "      <td>F</td>\n",
       "      <td>Rotov</td>\n",
       "      <td>russie</td>\n",
       "      <td>NaN</td>\n",
       "      <td>FAV</td>\n",
       "      <td>Renouvellement</td>\n",
       "      <td>NaN</td>\n",
       "    </tr>\n",
       "    <tr>\n",
       "      <th>4</th>\n",
       "      <td>M</td>\n",
       "      <td>1993-02-06 00:00:00</td>\n",
       "      <td>C</td>\n",
       "      <td>2013</td>\n",
       "      <td>20</td>\n",
       "      <td>27</td>\n",
       "      <td>M1</td>\n",
       "      <td>M2</td>\n",
       "      <td>Architecture</td>\n",
       "      <td>Université d'Etat d'Achitecture de Veronej</td>\n",
       "      <td>F</td>\n",
       "      <td>Vornej</td>\n",
       "      <td>russie</td>\n",
       "      <td>Cycle sp</td>\n",
       "      <td>FAV</td>\n",
       "      <td>Renouvellement</td>\n",
       "      <td>NaN</td>\n",
       "    </tr>\n",
       "    <tr>\n",
       "      <th>5</th>\n",
       "      <td>M</td>\n",
       "      <td>1996-08-14 00:00:00</td>\n",
       "      <td>C</td>\n",
       "      <td>2014</td>\n",
       "      <td>18</td>\n",
       "      <td>24</td>\n",
       "      <td>L4</td>\n",
       "      <td>M1</td>\n",
       "      <td>Architecture</td>\n",
       "      <td>MGS de Moscou</td>\n",
       "      <td>F</td>\n",
       "      <td>Moscou</td>\n",
       "      <td>Russie</td>\n",
       "      <td>NaN</td>\n",
       "      <td>FAV</td>\n",
       "      <td>Renouvellement</td>\n",
       "      <td>NaN</td>\n",
       "    </tr>\n",
       "    <tr>\n",
       "      <th>6</th>\n",
       "      <td>M</td>\n",
       "      <td>1993-01-31 00:00:00</td>\n",
       "      <td>C</td>\n",
       "      <td>2013</td>\n",
       "      <td>20</td>\n",
       "      <td>27</td>\n",
       "      <td>M1</td>\n",
       "      <td>M2</td>\n",
       "      <td>Architecture</td>\n",
       "      <td>Université d'Etat d'architecure  St peersbourg</td>\n",
       "      <td>F</td>\n",
       "      <td>Saint Petersbourg</td>\n",
       "      <td>russie</td>\n",
       "      <td>Cycle sp</td>\n",
       "      <td>FAV</td>\n",
       "      <td>Renouvellement</td>\n",
       "      <td>NaN</td>\n",
       "    </tr>\n",
       "    <tr>\n",
       "      <th>7</th>\n",
       "      <td>M</td>\n",
       "      <td>1996-07-14 00:00:00</td>\n",
       "      <td>C</td>\n",
       "      <td>2014</td>\n",
       "      <td>18</td>\n",
       "      <td>24</td>\n",
       "      <td>L4</td>\n",
       "      <td>M1</td>\n",
       "      <td>Architecture</td>\n",
       "      <td>Université d'Etat d'Architecture Kaazan</td>\n",
       "      <td>F</td>\n",
       "      <td>Kazan</td>\n",
       "      <td>russie</td>\n",
       "      <td>L5è sp</td>\n",
       "      <td>FAV</td>\n",
       "      <td>Attribution</td>\n",
       "      <td>NaN</td>\n",
       "    </tr>\n",
       "    <tr>\n",
       "      <th>8</th>\n",
       "      <td>M</td>\n",
       "      <td>1994-09-24 00:00:00</td>\n",
       "      <td>D</td>\n",
       "      <td>2014</td>\n",
       "      <td>20</td>\n",
       "      <td>26</td>\n",
       "      <td>L4</td>\n",
       "      <td>M1</td>\n",
       "      <td>Automatisation</td>\n",
       "      <td>U E</td>\n",
       "      <td>F</td>\n",
       "      <td>Orel</td>\n",
       "      <td>russie</td>\n",
       "      <td>NaN</td>\n",
       "      <td>FAV</td>\n",
       "      <td>Attribution</td>\n",
       "      <td>NaN</td>\n",
       "    </tr>\n",
       "    <tr>\n",
       "      <th>9</th>\n",
       "      <td>M</td>\n",
       "      <td>28/16/1993</td>\n",
       "      <td>D</td>\n",
       "      <td>2011</td>\n",
       "      <td>18</td>\n",
       "      <td>27</td>\n",
       "      <td>M1</td>\n",
       "      <td>M2</td>\n",
       "      <td>Automatisme</td>\n",
       "      <td>U E O</td>\n",
       "      <td>F</td>\n",
       "      <td>Orel</td>\n",
       "      <td>russie</td>\n",
       "      <td>NaN</td>\n",
       "      <td>FAV</td>\n",
       "      <td>Attribution</td>\n",
       "      <td>NaN</td>\n",
       "    </tr>\n",
       "    <tr>\n",
       "      <th>10</th>\n",
       "      <td>F</td>\n",
       "      <td>1993-10-29 00:00:00</td>\n",
       "      <td>A4</td>\n",
       "      <td>2011</td>\n",
       "      <td>18</td>\n",
       "      <td>27</td>\n",
       "      <td>M1</td>\n",
       "      <td>M2</td>\n",
       "      <td>Béton Armé</td>\n",
       "      <td>Université d'Etat de Ivanovo</td>\n",
       "      <td>F</td>\n",
       "      <td>Ivanovo</td>\n",
       "      <td>russie</td>\n",
       "      <td>NaN</td>\n",
       "      <td>FAV</td>\n",
       "      <td>Attribution</td>\n",
       "      <td>NaN</td>\n",
       "    </tr>\n",
       "    <tr>\n",
       "      <th>11</th>\n",
       "      <td>M</td>\n",
       "      <td>1995-10-06 00:00:00</td>\n",
       "      <td>D</td>\n",
       "      <td>2014</td>\n",
       "      <td>18</td>\n",
       "      <td>25</td>\n",
       "      <td>L4</td>\n",
       "      <td>M1</td>\n",
       "      <td>Bio-tech</td>\n",
       "      <td>université d'Etat de Kirol</td>\n",
       "      <td>F</td>\n",
       "      <td>Kirof</td>\n",
       "      <td>russie</td>\n",
       "      <td>NaN</td>\n",
       "      <td>FAV</td>\n",
       "      <td>Attribution</td>\n",
       "      <td>NaN</td>\n",
       "    </tr>\n",
       "    <tr>\n",
       "      <th>12</th>\n",
       "      <td>M</td>\n",
       "      <td>1993-05-06 00:00:00</td>\n",
       "      <td>D</td>\n",
       "      <td>2013</td>\n",
       "      <td>20</td>\n",
       "      <td>27</td>\n",
       "      <td>L5</td>\n",
       "      <td>M2</td>\n",
       "      <td>Biochimie Médicale</td>\n",
       "      <td>Université d'Etat fédérale de Stavropol</td>\n",
       "      <td>F</td>\n",
       "      <td>Stavropol</td>\n",
       "      <td>russie</td>\n",
       "      <td>D1 Dplome de sp</td>\n",
       "      <td>FAV</td>\n",
       "      <td>Attribution</td>\n",
       "      <td>NaN</td>\n",
       "    </tr>\n",
       "    <tr>\n",
       "      <th>13</th>\n",
       "      <td>M</td>\n",
       "      <td>1996-02-16 00:00:00</td>\n",
       "      <td>D</td>\n",
       "      <td>2014</td>\n",
       "      <td>18</td>\n",
       "      <td>24</td>\n",
       "      <td>L4</td>\n",
       "      <td>M1</td>\n",
       "      <td>Biologie</td>\n",
       "      <td>Université d'Etat de Vladmir</td>\n",
       "      <td>F</td>\n",
       "      <td>Vladmir</td>\n",
       "      <td>russie</td>\n",
       "      <td>NaN</td>\n",
       "      <td>FAV</td>\n",
       "      <td>Attribution</td>\n",
       "      <td>NaN</td>\n",
       "    </tr>\n",
       "    <tr>\n",
       "      <th>14</th>\n",
       "      <td>F</td>\n",
       "      <td>1998-01-14 00:00:00</td>\n",
       "      <td>D</td>\n",
       "      <td>2013</td>\n",
       "      <td>15</td>\n",
       "      <td>22</td>\n",
       "      <td>M1</td>\n",
       "      <td>M2</td>\n",
       "      <td>Biotechnologie</td>\n",
       "      <td>Université d'Etat de Kirov</td>\n",
       "      <td>F</td>\n",
       "      <td>Kirov</td>\n",
       "      <td>russie</td>\n",
       "      <td>NaN</td>\n",
       "      <td>FAV</td>\n",
       "      <td>Attribution</td>\n",
       "      <td>NaN</td>\n",
       "    </tr>\n",
       "    <tr>\n",
       "      <th>15</th>\n",
       "      <td>F</td>\n",
       "      <td>1993-02-20 00:00:00</td>\n",
       "      <td>D</td>\n",
       "      <td>2014</td>\n",
       "      <td>21</td>\n",
       "      <td>27</td>\n",
       "      <td>L4</td>\n",
       "      <td>M1</td>\n",
       "      <td>Biotechnologie</td>\n",
       "      <td>MTXT Moscou</td>\n",
       "      <td>F</td>\n",
       "      <td>Moscou</td>\n",
       "      <td>russie</td>\n",
       "      <td>SNP2020-2021</td>\n",
       "      <td>FAV</td>\n",
       "      <td>Attribution</td>\n",
       "      <td>NaN</td>\n",
       "    </tr>\n",
       "    <tr>\n",
       "      <th>16</th>\n",
       "      <td>M</td>\n",
       "      <td>1992-02-10 00:00:00</td>\n",
       "      <td>D</td>\n",
       "      <td>2013</td>\n",
       "      <td>21</td>\n",
       "      <td>28</td>\n",
       "      <td>M1</td>\n",
       "      <td>M2</td>\n",
       "      <td>Biotechnologie</td>\n",
       "      <td>Université d'Etat de Ivanovo</td>\n",
       "      <td>F</td>\n",
       "      <td>Ivanovo</td>\n",
       "      <td>russie</td>\n",
       "      <td>NaN</td>\n",
       "      <td>FAV</td>\n",
       "      <td>Attribution</td>\n",
       "      <td>NaN</td>\n",
       "    </tr>\n",
       "    <tr>\n",
       "      <th>17</th>\n",
       "      <td>M</td>\n",
       "      <td>1993-04-12 00:00:00</td>\n",
       "      <td>C</td>\n",
       "      <td>2011</td>\n",
       "      <td>18</td>\n",
       "      <td>27</td>\n",
       "      <td>M1</td>\n",
       "      <td>M2</td>\n",
       "      <td>Cadastre foncier</td>\n",
       "      <td>Université d'Etat de Moscou</td>\n",
       "      <td>F</td>\n",
       "      <td>Moscou</td>\n",
       "      <td>russie</td>\n",
       "      <td>ATTD1 A Saisir</td>\n",
       "      <td>FAV</td>\n",
       "      <td>Renouvellement</td>\n",
       "      <td>NaN</td>\n",
       "    </tr>\n",
       "    <tr>\n",
       "      <th>18</th>\n",
       "      <td>F</td>\n",
       "      <td>1993-09-13 00:00:00</td>\n",
       "      <td>C</td>\n",
       "      <td>2014</td>\n",
       "      <td>18</td>\n",
       "      <td>24</td>\n",
       "      <td>L4</td>\n",
       "      <td>M1</td>\n",
       "      <td>Chimie</td>\n",
       "      <td>Yaroslave de Velikiy Novgorog</td>\n",
       "      <td>F</td>\n",
       "      <td>Velikiy Novgorg</td>\n",
       "      <td>russie</td>\n",
       "      <td>SNP2020-2021</td>\n",
       "      <td>DEF</td>\n",
       "      <td>Renouvellement</td>\n",
       "      <td>NaN</td>\n",
       "    </tr>\n",
       "    <tr>\n",
       "      <th>19</th>\n",
       "      <td>M</td>\n",
       "      <td>1988-02-25 00:00:00</td>\n",
       "      <td>D</td>\n",
       "      <td>2010</td>\n",
       "      <td>22</td>\n",
       "      <td>32</td>\n",
       "      <td>M1</td>\n",
       "      <td>M2</td>\n",
       "      <td>Chimie</td>\n",
       "      <td>Yaroslave de Velikiy Novgorog</td>\n",
       "      <td>F</td>\n",
       "      <td>Velikiy Novgorg</td>\n",
       "      <td>russie</td>\n",
       "      <td>Dossier</td>\n",
       "      <td>FAV</td>\n",
       "      <td>Renouvellement</td>\n",
       "      <td>NaN</td>\n",
       "    </tr>\n",
       "    <tr>\n",
       "      <th>20</th>\n",
       "      <td>F</td>\n",
       "      <td>1993-07-17 00:00:00</td>\n",
       "      <td>A4</td>\n",
       "      <td>2013</td>\n",
       "      <td>20</td>\n",
       "      <td>27</td>\n",
       "      <td>M1</td>\n",
       "      <td>M2</td>\n",
       "      <td>Compta et Audit</td>\n",
       "      <td>Université d'Etat de Orel</td>\n",
       "      <td>F</td>\n",
       "      <td>Orel</td>\n",
       "      <td>russie</td>\n",
       "      <td>NaN</td>\n",
       "      <td>FAV</td>\n",
       "      <td>Renouvellement</td>\n",
       "      <td>NaN</td>\n",
       "    </tr>\n",
       "    <tr>\n",
       "      <th>21</th>\n",
       "      <td>M</td>\n",
       "      <td>1996-06-14 00:00:00</td>\n",
       "      <td>D</td>\n",
       "      <td>2014</td>\n",
       "      <td>19</td>\n",
       "      <td>25</td>\n",
       "      <td>M1</td>\n",
       "      <td>M2</td>\n",
       "      <td>Comptabilité</td>\n",
       "      <td>Université d'Etat de Orel</td>\n",
       "      <td>F</td>\n",
       "      <td>Orel</td>\n",
       "      <td>russie</td>\n",
       "      <td>NaN</td>\n",
       "      <td>FAV</td>\n",
       "      <td>Renouvellement</td>\n",
       "      <td>NaN</td>\n",
       "    </tr>\n",
       "    <tr>\n",
       "      <th>22</th>\n",
       "      <td>M</td>\n",
       "      <td>1996-09-20 00:00:00</td>\n",
       "      <td>C</td>\n",
       "      <td>2013</td>\n",
       "      <td>17</td>\n",
       "      <td>24</td>\n",
       "      <td>M1</td>\n",
       "      <td>M2</td>\n",
       "      <td>Construction</td>\n",
       "      <td>Université d'Etat d'Oural</td>\n",
       "      <td>F</td>\n",
       "      <td>Ekartermb ourg</td>\n",
       "      <td>russie</td>\n",
       "      <td>DI sp a sortir</td>\n",
       "      <td>FAV</td>\n",
       "      <td>Renouvellement</td>\n",
       "      <td>NaN</td>\n",
       "    </tr>\n",
       "    <tr>\n",
       "      <th>23</th>\n",
       "      <td>M</td>\n",
       "      <td>1994-05-07 00:00:00</td>\n",
       "      <td>C</td>\n",
       "      <td>2013</td>\n",
       "      <td>19</td>\n",
       "      <td>26</td>\n",
       "      <td>M2</td>\n",
       "      <td>M2</td>\n",
       "      <td>Construction</td>\n",
       "      <td>Université d'Etat de Saratov</td>\n",
       "      <td>F</td>\n",
       "      <td>Saratov</td>\n",
       "      <td>russie</td>\n",
       "      <td>D1 sp ing</td>\n",
       "      <td>FAV</td>\n",
       "      <td>Renouvellement</td>\n",
       "      <td>NaN</td>\n",
       "    </tr>\n",
       "    <tr>\n",
       "      <th>24</th>\n",
       "      <td>F</td>\n",
       "      <td>1995-05-23 00:00:00</td>\n",
       "      <td>D</td>\n",
       "      <td>2014</td>\n",
       "      <td>19</td>\n",
       "      <td>25</td>\n",
       "      <td>L4</td>\n",
       "      <td>M1</td>\n",
       "      <td>Construction</td>\n",
       "      <td>Université d'Etat de Volgograd</td>\n",
       "      <td>F</td>\n",
       "      <td>Volgograd</td>\n",
       "      <td>russie</td>\n",
       "      <td>NaN</td>\n",
       "      <td>FAV</td>\n",
       "      <td>Renouvellement</td>\n",
       "      <td>NaN</td>\n",
       "    </tr>\n",
       "  </tbody>\n",
       "</table>\n",
       "</div>"
      ],
      "text/plain": [
       "   genre        dateNaissance serieDuBac  anneeBac  ageBac  ageAnneeCours  \\\n",
       "0      F  1992-07-11 00:00:00          A      2011      19             28   \n",
       "1      F  1994-01-29 00:00:00          C      2013      19             26   \n",
       "2      M  1996-05-14 00:00:00          D      2014      18             24   \n",
       "3      M  1990-01-01 00:00:00          D      2010      20             30   \n",
       "4      M  1993-02-06 00:00:00          C      2013      20             27   \n",
       "5      M  1996-08-14 00:00:00          C      2014      18             24   \n",
       "6      M  1993-01-31 00:00:00          C      2013      20             27   \n",
       "7      M  1996-07-14 00:00:00          C      2014      18             24   \n",
       "8      M  1994-09-24 00:00:00          D      2014      20             26   \n",
       "9      M           28/16/1993          D      2011      18             27   \n",
       "10     F  1993-10-29 00:00:00         A4      2011      18             27   \n",
       "11     M  1995-10-06 00:00:00          D      2014      18             25   \n",
       "12     M  1993-05-06 00:00:00          D      2013      20             27   \n",
       "13     M  1996-02-16 00:00:00          D      2014      18             24   \n",
       "14     F  1998-01-14 00:00:00          D      2013      15             22   \n",
       "15     F  1993-02-20 00:00:00          D      2014      21             27   \n",
       "16     M  1992-02-10 00:00:00          D      2013      21             28   \n",
       "17     M  1993-04-12 00:00:00          C      2011      18             27   \n",
       "18     F  1993-09-13 00:00:00         C       2014      18             24   \n",
       "19     M  1988-02-25 00:00:00          D      2010      22             32   \n",
       "20     F  1993-07-17 00:00:00         A4      2013      20             27   \n",
       "21     M  1996-06-14 00:00:00          D      2014      19             25   \n",
       "22     M  1996-09-20 00:00:00          C      2013      17             24   \n",
       "23     M  1994-05-07 00:00:00          C      2013      19             26   \n",
       "24     F  1995-05-23 00:00:00          D      2014      19             25   \n",
       "\n",
       "   niveau_etude_2019_2020 niveau_etude_2020_2021            filieres  \\\n",
       "0                      M1                     M2                  II   \n",
       "1                      M1                     M2           Agronomie   \n",
       "2                      M1                     M2        Architecture   \n",
       "3                      M1                     M2        Architecture   \n",
       "4                      M1                     M2        Architecture   \n",
       "5                      L4                     M1        Architecture   \n",
       "6                      M1                     M2        Architecture   \n",
       "7                      L4                     M1        Architecture   \n",
       "8                      L4                     M1      Automatisation   \n",
       "9                      M1                     M2         Automatisme   \n",
       "10                     M1                     M2          Béton Armé   \n",
       "11                     L4                     M1            Bio-tech   \n",
       "12                     L5                     M2  Biochimie Médicale   \n",
       "13                     L4                     M1            Biologie   \n",
       "14                     M1                     M2      Biotechnologie   \n",
       "15                     L4                     M1      Biotechnologie   \n",
       "16                     M1                     M2      Biotechnologie   \n",
       "17                     M1                     M2    Cadastre foncier   \n",
       "18                     L4                     M1              Chimie   \n",
       "19                     M1                     M2              Chimie   \n",
       "20                     M1                     M2     Compta et Audit   \n",
       "21                     M1                     M2        Comptabilité   \n",
       "22                     M1                     M2        Construction   \n",
       "23                     M2                     M2        Construction   \n",
       "24                     L4                     M1        Construction   \n",
       "\n",
       "                                                ETS Categ              Ville  \\\n",
       "0                                               TVG     F              Ivano   \n",
       "1                     univrsité agricole de Belbord     F           Belgorod   \n",
       "2             Univ,d'Etat d'Architecture de Veronej     F             Vornej   \n",
       "3                        Université d'Etat de Rotov     F              Rotov   \n",
       "4        Université d'Etat d'Achitecture de Veronej     F             Vornej   \n",
       "5                                     MGS de Moscou     F             Moscou   \n",
       "6   Université d'Etat d'architecure  St peersbourg      F  Saint Petersbourg   \n",
       "7           Université d'Etat d'Architecture Kaazan     F              Kazan   \n",
       "8                                               U E     F               Orel   \n",
       "9                                             U E O     F               Orel   \n",
       "10                     Université d'Etat de Ivanovo     F            Ivanovo   \n",
       "11                       université d'Etat de Kirol     F              Kirof   \n",
       "12         Université d'Etat fédérale de Stavropol      F          Stavropol   \n",
       "13                     Université d'Etat de Vladmir     F            Vladmir   \n",
       "14                       Université d'Etat de Kirov     F              Kirov   \n",
       "15                                      MTXT Moscou     F             Moscou   \n",
       "16                     Université d'Etat de Ivanovo     F            Ivanovo   \n",
       "17                      Université d'Etat de Moscou     F             Moscou   \n",
       "18                    Yaroslave de Velikiy Novgorog     F   Velikiy Novgorg    \n",
       "19                    Yaroslave de Velikiy Novgorog     F   Velikiy Novgorg    \n",
       "20                        Université d'Etat de Orel     F               Orel   \n",
       "21                        Université d'Etat de Orel     F               Orel   \n",
       "22                       Université d'Etat d'Oural      F    Ekartermb ourg    \n",
       "23                    Université d'Etat de Saratov      F            Saratov   \n",
       "24                   Université d'Etat de Volgograd     F          Volgograd   \n",
       "\n",
       "      Pays              OBS avisSousCommission    natureBourse  telephone  \n",
       "0   russie            M2RED                FAV  Renouvellement        NaN  \n",
       "1   Russie              NaN                FAV  Renouvellement        NaN  \n",
       "2   Russie         Cycle sp                FAV  Renouvellement        NaN  \n",
       "3   russie              NaN                FAV  Renouvellement        NaN  \n",
       "4   russie         Cycle sp                FAV  Renouvellement        NaN  \n",
       "5   Russie              NaN                FAV  Renouvellement        NaN  \n",
       "6   russie         Cycle sp                FAV  Renouvellement        NaN  \n",
       "7   russie           L5è sp                FAV     Attribution        NaN  \n",
       "8   russie              NaN                FAV     Attribution        NaN  \n",
       "9   russie              NaN                FAV     Attribution        NaN  \n",
       "10  russie              NaN                FAV     Attribution        NaN  \n",
       "11  russie              NaN                FAV     Attribution        NaN  \n",
       "12  russie  D1 Dplome de sp                FAV     Attribution        NaN  \n",
       "13  russie              NaN                FAV     Attribution        NaN  \n",
       "14  russie              NaN                FAV     Attribution        NaN  \n",
       "15  russie     SNP2020-2021                FAV     Attribution        NaN  \n",
       "16  russie              NaN                FAV     Attribution        NaN  \n",
       "17  russie   ATTD1 A Saisir                FAV  Renouvellement        NaN  \n",
       "18  russie     SNP2020-2021                DEF  Renouvellement        NaN  \n",
       "19  russie          Dossier                FAV  Renouvellement        NaN  \n",
       "20  russie              NaN                FAV  Renouvellement        NaN  \n",
       "21  russie              NaN                FAV  Renouvellement        NaN  \n",
       "22  russie  DI sp a sortir                 FAV  Renouvellement        NaN  \n",
       "23  russie       D1 sp ing                 FAV  Renouvellement        NaN  \n",
       "24  russie              NaN                FAV  Renouvellement        NaN  "
      ]
     },
     "execution_count": 87,
     "metadata": {},
     "output_type": "execute_result"
    }
   ],
   "source": [
    "df"
   ]
  },
  {
   "cell_type": "code",
   "execution_count": 29,
   "id": "034db478-e245-4469-b938-12f8b03de43d",
   "metadata": {
    "canvas": {
     "comments": [],
     "componentType": "CodeCell",
     "copiedOriginId": null,
     "diskcache": false,
     "headerColor": "inherit",
     "id": "15e03d66-2faa-4341-913e-ad28208bd953",
     "isComponent": false,
     "name": "",
     "parents": []
    }
   },
   "outputs": [],
   "source": [
    "df[\"niveau_etude_2019_2020\"].replace(\"M1/5è\", \"M1\", inplace=True)\n",
    "df[\"niveau_etude_2019_2020\"].replace(\"L4è/M1\", \"L4\", inplace=True)\n",
    "df[\"niveau_etude_2019_2020\"].replace(\"L5é\", \"L5\", inplace=True) \n",
    "df[\"niveau_etude_2019_2020\"].replace(\"M2 SP\", \"M2\", inplace=True)"
   ]
  },
  {
   "cell_type": "code",
   "execution_count": 30,
   "id": "fae59d53-a608-41cd-8fd6-c68c4d91544b",
   "metadata": {
    "canvas": {
     "comments": [],
     "componentType": "CodeCell",
     "copiedOriginId": null,
     "diskcache": false,
     "headerColor": "inherit",
     "id": "880d8e57-7ae4-42f4-8f11-70bf633158c8",
     "isComponent": false,
     "name": "",
     "parents": []
    }
   },
   "outputs": [
    {
     "data": {
      "text/html": [
       "<div>\n",
       "<style scoped>\n",
       "    .dataframe tbody tr th:only-of-type {\n",
       "        vertical-align: middle;\n",
       "    }\n",
       "\n",
       "    .dataframe tbody tr th {\n",
       "        vertical-align: top;\n",
       "    }\n",
       "\n",
       "    .dataframe thead th {\n",
       "        text-align: right;\n",
       "    }\n",
       "</style>\n",
       "<table border=\"1\" class=\"dataframe\">\n",
       "  <thead>\n",
       "    <tr style=\"text-align: right;\">\n",
       "      <th></th>\n",
       "      <th>genre</th>\n",
       "      <th>dateNaissance</th>\n",
       "      <th>serieDuBac</th>\n",
       "      <th>anneeBac</th>\n",
       "      <th>ageBac</th>\n",
       "      <th>ageAnneeCours</th>\n",
       "      <th>niveau_etude_2019_2020</th>\n",
       "      <th>niveau_etude_2020_2021</th>\n",
       "      <th>filieres</th>\n",
       "      <th>ETS</th>\n",
       "      <th>Categ</th>\n",
       "      <th>Ville</th>\n",
       "      <th>Pays</th>\n",
       "      <th>OBS</th>\n",
       "      <th>avisSousCommission</th>\n",
       "      <th>natureBourse</th>\n",
       "      <th>telephone</th>\n",
       "    </tr>\n",
       "  </thead>\n",
       "  <tbody>\n",
       "    <tr>\n",
       "      <th>0</th>\n",
       "      <td>F</td>\n",
       "      <td>1992-07-11 00:00:00</td>\n",
       "      <td>A</td>\n",
       "      <td>2011</td>\n",
       "      <td>19</td>\n",
       "      <td>28</td>\n",
       "      <td>M1</td>\n",
       "      <td>M2</td>\n",
       "      <td>II</td>\n",
       "      <td>TVG</td>\n",
       "      <td>F</td>\n",
       "      <td>Ivano</td>\n",
       "      <td>russie</td>\n",
       "      <td>M2RED</td>\n",
       "      <td>FAV</td>\n",
       "      <td>Renouvellement</td>\n",
       "      <td>NaN</td>\n",
       "    </tr>\n",
       "    <tr>\n",
       "      <th>1</th>\n",
       "      <td>F</td>\n",
       "      <td>1994-01-29 00:00:00</td>\n",
       "      <td>C</td>\n",
       "      <td>2013</td>\n",
       "      <td>19</td>\n",
       "      <td>26</td>\n",
       "      <td>M1</td>\n",
       "      <td>M2</td>\n",
       "      <td>Agronomie</td>\n",
       "      <td>univrsité agricole de Belbord</td>\n",
       "      <td>F</td>\n",
       "      <td>Belgorod</td>\n",
       "      <td>Russie</td>\n",
       "      <td>NaN</td>\n",
       "      <td>FAV</td>\n",
       "      <td>Renouvellement</td>\n",
       "      <td>NaN</td>\n",
       "    </tr>\n",
       "    <tr>\n",
       "      <th>2</th>\n",
       "      <td>M</td>\n",
       "      <td>1996-05-14 00:00:00</td>\n",
       "      <td>D</td>\n",
       "      <td>2014</td>\n",
       "      <td>18</td>\n",
       "      <td>24</td>\n",
       "      <td>M1</td>\n",
       "      <td>M2</td>\n",
       "      <td>Architecture</td>\n",
       "      <td>Univ,d'Etat d'Architecture de Veronej</td>\n",
       "      <td>F</td>\n",
       "      <td>Vornej</td>\n",
       "      <td>Russie</td>\n",
       "      <td>Cycle sp</td>\n",
       "      <td>FAV</td>\n",
       "      <td>Renouvellement</td>\n",
       "      <td>NaN</td>\n",
       "    </tr>\n",
       "    <tr>\n",
       "      <th>3</th>\n",
       "      <td>M</td>\n",
       "      <td>1990-01-01 00:00:00</td>\n",
       "      <td>D</td>\n",
       "      <td>2010</td>\n",
       "      <td>20</td>\n",
       "      <td>30</td>\n",
       "      <td>M1</td>\n",
       "      <td>M2</td>\n",
       "      <td>Architecture</td>\n",
       "      <td>Université d'Etat de Rotov</td>\n",
       "      <td>F</td>\n",
       "      <td>Rotov</td>\n",
       "      <td>russie</td>\n",
       "      <td>NaN</td>\n",
       "      <td>FAV</td>\n",
       "      <td>Renouvellement</td>\n",
       "      <td>NaN</td>\n",
       "    </tr>\n",
       "    <tr>\n",
       "      <th>4</th>\n",
       "      <td>M</td>\n",
       "      <td>1993-02-06 00:00:00</td>\n",
       "      <td>C</td>\n",
       "      <td>2013</td>\n",
       "      <td>20</td>\n",
       "      <td>27</td>\n",
       "      <td>M1</td>\n",
       "      <td>M2</td>\n",
       "      <td>Architecture</td>\n",
       "      <td>Université d'Etat d'Achitecture de Veronej</td>\n",
       "      <td>F</td>\n",
       "      <td>Vornej</td>\n",
       "      <td>russie</td>\n",
       "      <td>Cycle sp</td>\n",
       "      <td>FAV</td>\n",
       "      <td>Renouvellement</td>\n",
       "      <td>NaN</td>\n",
       "    </tr>\n",
       "  </tbody>\n",
       "</table>\n",
       "</div>"
      ],
      "text/plain": [
       "  genre        dateNaissance serieDuBac  anneeBac  ageBac  ageAnneeCours  \\\n",
       "0     F  1992-07-11 00:00:00          A      2011      19             28   \n",
       "1     F  1994-01-29 00:00:00          C      2013      19             26   \n",
       "2     M  1996-05-14 00:00:00          D      2014      18             24   \n",
       "3     M  1990-01-01 00:00:00          D      2010      20             30   \n",
       "4     M  1993-02-06 00:00:00          C      2013      20             27   \n",
       "\n",
       "  niveau_etude_2019_2020 niveau_etude_2020_2021      filieres  \\\n",
       "0                     M1                     M2            II   \n",
       "1                     M1                     M2     Agronomie   \n",
       "2                     M1                     M2  Architecture   \n",
       "3                     M1                     M2  Architecture   \n",
       "4                     M1                     M2  Architecture   \n",
       "\n",
       "                                          ETS Categ     Ville    Pays  \\\n",
       "0                                         TVG     F     Ivano  russie   \n",
       "1               univrsité agricole de Belbord     F  Belgorod  Russie   \n",
       "2       Univ,d'Etat d'Architecture de Veronej     F    Vornej  Russie   \n",
       "3                  Université d'Etat de Rotov     F     Rotov  russie   \n",
       "4  Université d'Etat d'Achitecture de Veronej     F    Vornej  russie   \n",
       "\n",
       "        OBS avisSousCommission    natureBourse  telephone  \n",
       "0     M2RED                FAV  Renouvellement        NaN  \n",
       "1       NaN                FAV  Renouvellement        NaN  \n",
       "2  Cycle sp                FAV  Renouvellement        NaN  \n",
       "3       NaN                FAV  Renouvellement        NaN  \n",
       "4  Cycle sp                FAV  Renouvellement        NaN  "
      ]
     },
     "execution_count": 30,
     "metadata": {},
     "output_type": "execute_result"
    }
   ],
   "source": [
    "df.head()"
   ]
  },
  {
   "cell_type": "code",
   "execution_count": 31,
   "id": "39e1bf55-3a7c-4c21-a006-5e89916e9485",
   "metadata": {
    "canvas": {
     "comments": [],
     "componentType": "CodeCell",
     "copiedOriginId": null,
     "diskcache": false,
     "headerColor": "inherit",
     "id": "58d77917-bd27-405f-b844-76be08bcbc05",
     "isComponent": false,
     "name": "",
     "parents": []
    }
   },
   "outputs": [],
   "source": [
    "# \"anneeBac\",\n",
    "df_model = df[[\"genre\", \"serieDuBac\", \"ageBac\", \"ageAnneeCours\", \"Categ\", \"natureBourse\", \"avisSousCommission\"]]"
   ]
  },
  {
   "cell_type": "code",
   "execution_count": 32,
   "id": "c6231cc3-8aff-4cb4-8188-f82d42ce429e",
   "metadata": {
    "canvas": {
     "comments": [],
     "componentType": "CodeCell",
     "copiedOriginId": null,
     "diskcache": false,
     "headerColor": "inherit",
     "id": "65cae69c-74ba-4aec-9507-2b2aaaeeeabd",
     "isComponent": false,
     "name": "",
     "parents": []
    }
   },
   "outputs": [
    {
     "data": {
      "text/html": [
       "<div>\n",
       "<style scoped>\n",
       "    .dataframe tbody tr th:only-of-type {\n",
       "        vertical-align: middle;\n",
       "    }\n",
       "\n",
       "    .dataframe tbody tr th {\n",
       "        vertical-align: top;\n",
       "    }\n",
       "\n",
       "    .dataframe thead th {\n",
       "        text-align: right;\n",
       "    }\n",
       "</style>\n",
       "<table border=\"1\" class=\"dataframe\">\n",
       "  <thead>\n",
       "    <tr style=\"text-align: right;\">\n",
       "      <th></th>\n",
       "      <th>genre</th>\n",
       "      <th>serieDuBac</th>\n",
       "      <th>ageBac</th>\n",
       "      <th>ageAnneeCours</th>\n",
       "      <th>Categ</th>\n",
       "      <th>natureBourse</th>\n",
       "      <th>avisSousCommission</th>\n",
       "    </tr>\n",
       "  </thead>\n",
       "  <tbody>\n",
       "    <tr>\n",
       "      <th>0</th>\n",
       "      <td>F</td>\n",
       "      <td>A</td>\n",
       "      <td>19</td>\n",
       "      <td>28</td>\n",
       "      <td>F</td>\n",
       "      <td>Renouvellement</td>\n",
       "      <td>FAV</td>\n",
       "    </tr>\n",
       "    <tr>\n",
       "      <th>1</th>\n",
       "      <td>F</td>\n",
       "      <td>C</td>\n",
       "      <td>19</td>\n",
       "      <td>26</td>\n",
       "      <td>F</td>\n",
       "      <td>Renouvellement</td>\n",
       "      <td>FAV</td>\n",
       "    </tr>\n",
       "    <tr>\n",
       "      <th>2</th>\n",
       "      <td>M</td>\n",
       "      <td>D</td>\n",
       "      <td>18</td>\n",
       "      <td>24</td>\n",
       "      <td>F</td>\n",
       "      <td>Renouvellement</td>\n",
       "      <td>FAV</td>\n",
       "    </tr>\n",
       "    <tr>\n",
       "      <th>3</th>\n",
       "      <td>M</td>\n",
       "      <td>D</td>\n",
       "      <td>20</td>\n",
       "      <td>30</td>\n",
       "      <td>F</td>\n",
       "      <td>Renouvellement</td>\n",
       "      <td>FAV</td>\n",
       "    </tr>\n",
       "    <tr>\n",
       "      <th>4</th>\n",
       "      <td>M</td>\n",
       "      <td>C</td>\n",
       "      <td>20</td>\n",
       "      <td>27</td>\n",
       "      <td>F</td>\n",
       "      <td>Renouvellement</td>\n",
       "      <td>FAV</td>\n",
       "    </tr>\n",
       "  </tbody>\n",
       "</table>\n",
       "</div>"
      ],
      "text/plain": [
       "  genre serieDuBac  ageBac  ageAnneeCours Categ    natureBourse  \\\n",
       "0     F          A      19             28     F  Renouvellement   \n",
       "1     F          C      19             26     F  Renouvellement   \n",
       "2     M          D      18             24     F  Renouvellement   \n",
       "3     M          D      20             30     F  Renouvellement   \n",
       "4     M          C      20             27     F  Renouvellement   \n",
       "\n",
       "  avisSousCommission  \n",
       "0                FAV  \n",
       "1                FAV  \n",
       "2                FAV  \n",
       "3                FAV  \n",
       "4                FAV  "
      ]
     },
     "execution_count": 32,
     "metadata": {},
     "output_type": "execute_result"
    }
   ],
   "source": [
    "df_model.head()"
   ]
  },
  {
   "cell_type": "code",
   "execution_count": 33,
   "id": "4fb3e37d-159e-4863-9def-d7b1777ae8d1",
   "metadata": {
    "canvas": {
     "comments": [],
     "componentType": "CodeCell",
     "copiedOriginId": null,
     "diskcache": false,
     "headerColor": "inherit",
     "id": "9f064c43-6fd9-4c3e-8a72-b3198c484b24",
     "isComponent": false,
     "name": "",
     "parents": []
    }
   },
   "outputs": [
    {
     "data": {
      "text/plain": [
       "genre                     3\n",
       "dateNaissance             3\n",
       "serieDuBac                3\n",
       "anneeBac                  3\n",
       "ageBac                    3\n",
       "ageAnneeCours             3\n",
       "niveau_etude_2019_2020    3\n",
       "niveau_etude_2020_2021    3\n",
       "filieres                  3\n",
       "ETS                       3\n",
       "Categ                     3\n",
       "Ville                     3\n",
       "Pays                      3\n",
       "OBS                       2\n",
       "avisSousCommission        3\n",
       "natureBourse              3\n",
       "telephone                 0\n",
       "dtype: int64"
      ]
     },
     "execution_count": 33,
     "metadata": {},
     "output_type": "execute_result"
    }
   ],
   "source": [
    "df.query('ageBac > 20 and ageBac <= 30').count()"
   ]
  },
  {
   "cell_type": "code",
   "execution_count": 34,
   "id": "84726a71-bfcd-4cb6-be37-06d6f1b94cbc",
   "metadata": {
    "canvas": {
     "comments": [],
     "componentType": "CodeCell",
     "copiedOriginId": null,
     "diskcache": false,
     "headerColor": "inherit",
     "id": "d9edac48-208a-4bf5-88dd-ad222de57b20",
     "isComponent": false,
     "name": "",
     "parents": []
    }
   },
   "outputs": [
    {
     "data": {
      "text/plain": [
       "(25, 7)"
      ]
     },
     "execution_count": 34,
     "metadata": {},
     "output_type": "execute_result"
    }
   ],
   "source": [
    "df_model.shape"
   ]
  },
  {
   "cell_type": "code",
   "execution_count": 35,
   "id": "9538ca2a-a506-4103-a405-bd726cda4927",
   "metadata": {
    "canvas": {
     "comments": [],
     "componentType": "CodeCell",
     "copiedOriginId": null,
     "diskcache": false,
     "headerColor": "inherit",
     "id": "2c54c883-5b31-4102-a241-1099c5dbd113",
     "isComponent": false,
     "name": "",
     "parents": []
    }
   },
   "outputs": [
    {
     "data": {
      "image/png": "[encoded data removed]",
      "text/plain": [
       "<Figure size 1800x720 with 2 Axes>"
      ]
     },
     "metadata": {
      "needs_background": "light"
     },
     "output_type": "display_data"
    }
   ],
   "source": [
    "ms.matrix(df_model);"
   ]
  },
  {
   "cell_type": "code",
   "execution_count": 36,
   "id": "62b38d01-21e5-4b9b-87d8-0ae2387dbe69",
   "metadata": {
    "canvas": {
     "comments": [],
     "componentType": "CodeCell",
     "copiedOriginId": null,
     "diskcache": false,
     "headerColor": "inherit",
     "id": "782d3879-afe9-4d40-b6a8-a4f1a08d8978",
     "isComponent": false,
     "name": "",
     "parents": []
    }
   },
   "outputs": [
    {
     "data": {
      "text/plain": [
       "genre                 object\n",
       "serieDuBac            object\n",
       "ageBac                 int64\n",
       "ageAnneeCours          int64\n",
       "Categ                 object\n",
       "natureBourse          object\n",
       "avisSousCommission    object\n",
       "dtype: object"
      ]
     },
     "execution_count": 36,
     "metadata": {},
     "output_type": "execute_result"
    }
   ],
   "source": [
    "df_model.dtypes"
   ]
  },
  {
   "cell_type": "code",
   "execution_count": 37,
   "id": "c8d756bb-779a-4c35-b001-3a751071420d",
   "metadata": {
    "canvas": {
     "comments": [],
     "componentType": "CodeCell",
     "copiedOriginId": "f2c9f9af-c7e8-46df-9218-757a6edd43a4",
     "diskcache": false,
     "headerColor": "inherit",
     "id": "721d4fdd-6c95-4b3f-97ef-0ab401d7d2b4",
     "isComponent": false,
     "name": "",
     "parents": []
    }
   },
   "outputs": [
    {
     "data": {
      "text/plain": [
       "genre                 object\n",
       "serieDuBac            object\n",
       "ageBac                 int64\n",
       "ageAnneeCours          int64\n",
       "Categ                 object\n",
       "natureBourse          object\n",
       "avisSousCommission    object\n",
       "dtype: object"
      ]
     },
     "execution_count": 37,
     "metadata": {},
     "output_type": "execute_result"
    }
   ],
   "source": [
    "df_model.dtypes"
   ]
  },
  {
   "cell_type": "code",
   "execution_count": 38,
   "id": "fc72fd1c-c6d3-4761-8da7-cdb2b4d94527",
   "metadata": {
    "canvas": {
     "comments": [],
     "componentType": "CodeCell",
     "copiedOriginId": null,
     "diskcache": false,
     "headerColor": "inherit",
     "id": "a213d836-4637-4380-940c-8be6b4edff13",
     "isComponent": false,
     "name": "",
     "parents": []
    }
   },
   "outputs": [
    {
     "data": {
      "text/html": [
       "<div>\n",
       "<style scoped>\n",
       "    .dataframe tbody tr th:only-of-type {\n",
       "        vertical-align: middle;\n",
       "    }\n",
       "\n",
       "    .dataframe tbody tr th {\n",
       "        vertical-align: top;\n",
       "    }\n",
       "\n",
       "    .dataframe thead th {\n",
       "        text-align: right;\n",
       "    }\n",
       "</style>\n",
       "<table border=\"1\" class=\"dataframe\">\n",
       "  <thead>\n",
       "    <tr style=\"text-align: right;\">\n",
       "      <th></th>\n",
       "      <th>genre</th>\n",
       "      <th>serieDuBac</th>\n",
       "      <th>ageBac</th>\n",
       "      <th>ageAnneeCours</th>\n",
       "      <th>Categ</th>\n",
       "      <th>natureBourse</th>\n",
       "      <th>avisSousCommission</th>\n",
       "    </tr>\n",
       "  </thead>\n",
       "  <tbody>\n",
       "    <tr>\n",
       "      <th>0</th>\n",
       "      <td>F</td>\n",
       "      <td>A</td>\n",
       "      <td>19</td>\n",
       "      <td>28</td>\n",
       "      <td>F</td>\n",
       "      <td>Renouvellement</td>\n",
       "      <td>FAV</td>\n",
       "    </tr>\n",
       "    <tr>\n",
       "      <th>1</th>\n",
       "      <td>F</td>\n",
       "      <td>C</td>\n",
       "      <td>19</td>\n",
       "      <td>26</td>\n",
       "      <td>F</td>\n",
       "      <td>Renouvellement</td>\n",
       "      <td>FAV</td>\n",
       "    </tr>\n",
       "    <tr>\n",
       "      <th>2</th>\n",
       "      <td>M</td>\n",
       "      <td>D</td>\n",
       "      <td>18</td>\n",
       "      <td>24</td>\n",
       "      <td>F</td>\n",
       "      <td>Renouvellement</td>\n",
       "      <td>FAV</td>\n",
       "    </tr>\n",
       "    <tr>\n",
       "      <th>3</th>\n",
       "      <td>M</td>\n",
       "      <td>D</td>\n",
       "      <td>20</td>\n",
       "      <td>30</td>\n",
       "      <td>F</td>\n",
       "      <td>Renouvellement</td>\n",
       "      <td>FAV</td>\n",
       "    </tr>\n",
       "    <tr>\n",
       "      <th>4</th>\n",
       "      <td>M</td>\n",
       "      <td>C</td>\n",
       "      <td>20</td>\n",
       "      <td>27</td>\n",
       "      <td>F</td>\n",
       "      <td>Renouvellement</td>\n",
       "      <td>FAV</td>\n",
       "    </tr>\n",
       "  </tbody>\n",
       "</table>\n",
       "</div>"
      ],
      "text/plain": [
       "  genre serieDuBac  ageBac  ageAnneeCours Categ    natureBourse  \\\n",
       "0     F          A      19             28     F  Renouvellement   \n",
       "1     F          C      19             26     F  Renouvellement   \n",
       "2     M          D      18             24     F  Renouvellement   \n",
       "3     M          D      20             30     F  Renouvellement   \n",
       "4     M          C      20             27     F  Renouvellement   \n",
       "\n",
       "  avisSousCommission  \n",
       "0                FAV  \n",
       "1                FAV  \n",
       "2                FAV  \n",
       "3                FAV  \n",
       "4                FAV  "
      ]
     },
     "execution_count": 38,
     "metadata": {},
     "output_type": "execute_result"
    }
   ],
   "source": [
    "df_model.head()"
   ]
  },
  {
   "cell_type": "markdown",
   "id": "183b3675-3758-4973-b63b-1eb47de6ceea",
   "metadata": {
    "canvas": {
     "comments": [],
     "componentType": "CodeCell",
     "copiedOriginId": null,
     "diskcache": false,
     "headerColor": "inherit",
     "id": "31ecc22e-ed52-4934-be51-ee0eef35fb38",
     "isComponent": false,
     "name": "",
     "parents": []
    }
   },
   "source": [
    "# Exploratory Data Analysis (EDA)"
   ]
  },
  {
   "cell_type": "code",
   "execution_count": 39,
   "id": "23448f6c-2d37-4a4a-b2dc-5e105743a59c",
   "metadata": {
    "canvas": {
     "comments": [],
     "componentType": "CodeCell",
     "copiedOriginId": null,
     "diskcache": false,
     "headerColor": "inherit",
     "id": "4d7d41f7-9c93-4e74-b6db-6f2b86a12e26",
     "isComponent": false,
     "name": "",
     "parents": []
    }
   },
   "outputs": [
    {
     "data": {
      "text/html": [
       "<div>\n",
       "<style scoped>\n",
       "    .dataframe tbody tr th:only-of-type {\n",
       "        vertical-align: middle;\n",
       "    }\n",
       "\n",
       "    .dataframe tbody tr th {\n",
       "        vertical-align: top;\n",
       "    }\n",
       "\n",
       "    .dataframe thead th {\n",
       "        text-align: right;\n",
       "    }\n",
       "</style>\n",
       "<table border=\"1\" class=\"dataframe\">\n",
       "  <thead>\n",
       "    <tr style=\"text-align: right;\">\n",
       "      <th></th>\n",
       "      <th>ageBac</th>\n",
       "      <th>ageAnneeCours</th>\n",
       "    </tr>\n",
       "  </thead>\n",
       "  <tbody>\n",
       "    <tr>\n",
       "      <th>count</th>\n",
       "      <td>25.000000</td>\n",
       "      <td>25.000000</td>\n",
       "    </tr>\n",
       "    <tr>\n",
       "      <th>mean</th>\n",
       "      <td>18.920000</td>\n",
       "      <td>26.120000</td>\n",
       "    </tr>\n",
       "    <tr>\n",
       "      <th>std</th>\n",
       "      <td>1.469694</td>\n",
       "      <td>2.147091</td>\n",
       "    </tr>\n",
       "    <tr>\n",
       "      <th>min</th>\n",
       "      <td>15.000000</td>\n",
       "      <td>22.000000</td>\n",
       "    </tr>\n",
       "    <tr>\n",
       "      <th>25%</th>\n",
       "      <td>18.000000</td>\n",
       "      <td>24.000000</td>\n",
       "    </tr>\n",
       "    <tr>\n",
       "      <th>50%</th>\n",
       "      <td>19.000000</td>\n",
       "      <td>26.000000</td>\n",
       "    </tr>\n",
       "    <tr>\n",
       "      <th>75%</th>\n",
       "      <td>20.000000</td>\n",
       "      <td>27.000000</td>\n",
       "    </tr>\n",
       "    <tr>\n",
       "      <th>max</th>\n",
       "      <td>22.000000</td>\n",
       "      <td>32.000000</td>\n",
       "    </tr>\n",
       "  </tbody>\n",
       "</table>\n",
       "</div>"
      ],
      "text/plain": [
       "          ageBac  ageAnneeCours\n",
       "count  25.000000      25.000000\n",
       "mean   18.920000      26.120000\n",
       "std     1.469694       2.147091\n",
       "min    15.000000      22.000000\n",
       "25%    18.000000      24.000000\n",
       "50%    19.000000      26.000000\n",
       "75%    20.000000      27.000000\n",
       "max    22.000000      32.000000"
      ]
     },
     "execution_count": 39,
     "metadata": {},
     "output_type": "execute_result"
    }
   ],
   "source": [
    "df_model.describe()"
   ]
  },
  {
   "cell_type": "code",
   "execution_count": 40,
   "id": "5aa7a676-c603-424b-88aa-189a8c914832",
   "metadata": {
    "canvas": {
     "comments": [],
     "componentType": "CodeCell",
     "copiedOriginId": null,
     "diskcache": false,
     "headerColor": "inherit",
     "id": "b6c73a2b-8c82-4236-a44d-b5fcf0fd1b11",
     "isComponent": false,
     "name": "",
     "parents": []
    }
   },
   "outputs": [
    {
     "name": "stdout",
     "output_type": "stream",
     "text": [
      "   genre\n",
      "M     17\n",
      "F      8\n"
     ]
    },
    {
     "data": {
      "image/png": "[encoded data removed]",
      "text/plain": [
       "<Figure size 360x360 with 1 Axes>"
      ]
     },
     "metadata": {
      "needs_background": "light"
     },
     "output_type": "display_data"
    }
   ],
   "source": [
    "print(df_model[\"genre\"].value_counts().to_frame())\n",
    "df_model[\"genre\"].value_counts().plot.pie(figsize=(5, 5), autopct=\"%.0f%%\", shadow=True, frame=True, explode=[0, 0.1]).legend();"
   ]
  },
  {
   "cell_type": "code",
   "execution_count": 41,
   "id": "a33c8391-723a-4902-a40e-64114098bd55",
   "metadata": {
    "canvas": {
     "comments": [],
     "componentType": "CodeCell",
     "copiedOriginId": null,
     "diskcache": false,
     "headerColor": "inherit",
     "id": "f9b355fc-e52b-4056-a4b7-2d58b478b5bb",
     "isComponent": false,
     "name": "",
     "parents": []
    }
   },
   "outputs": [
    {
     "name": "stdout",
     "output_type": "stream",
     "text": [
      "   Categ\n",
      "F     25\n"
     ]
    },
    {
     "data": {
      "image/png": "[encoded data removed]",
      "text/plain": [
       "<Figure size 360x360 with 1 Axes>"
      ]
     },
     "metadata": {
      "needs_background": "light"
     },
     "output_type": "display_data"
    }
   ],
   "source": [
    "print(df_model[\"Categ\"].value_counts().to_frame())\n",
    "df_model[\"Categ\"].value_counts().plot.pie(figsize=(5, 5), autopct=\"%.0f%%\", shadow=True, frame=True).legend();"
   ]
  },
  {
   "cell_type": "code",
   "execution_count": 42,
   "id": "edb910ec-2920-4dd7-97d4-aad3cb82b862",
   "metadata": {
    "canvas": {
     "comments": [],
     "componentType": "CodeCell",
     "copiedOriginId": null,
     "diskcache": false,
     "headerColor": "inherit",
     "id": "0383ca2f-b3b3-4ad3-ac78-2cc325a25b30",
     "isComponent": false,
     "name": "",
     "parents": []
    }
   },
   "outputs": [
    {
     "name": "stdout",
     "output_type": "stream",
     "text": [
      "    serieDuBac\n",
      "D           13\n",
      "C            8\n",
      "A4           2\n",
      "A            1\n",
      "C            1\n"
     ]
    },
    {
     "data": {
      "image/png": "[encoded data removed]",
      "text/plain": [
       "<Figure size 504x504 with 1 Axes>"
      ]
     },
     "metadata": {
      "needs_background": "light"
     },
     "output_type": "display_data"
    }
   ],
   "source": [
    "print(df_model[\"serieDuBac\"].value_counts().to_frame())\n",
    "df_model[\"serieDuBac\"].value_counts().plot.pie(figsize=(7, 7), autopct=\"%.0f%%\", shadow=True,\n",
    "                                               explode = [0.1, 0.1, 0.1, 0.1, 0.1], frame=True).legend();"
   ]
  },
  {
   "cell_type": "code",
   "execution_count": 43,
   "id": "22469e5a-ba1f-4f41-8c33-c599a31cde91",
   "metadata": {
    "canvas": {
     "comments": [],
     "componentType": "CodeCell",
     "copiedOriginId": null,
     "diskcache": false,
     "headerColor": "inherit",
     "id": "0ea7a23d-a236-428a-a676-1a785f8dd6a8",
     "isComponent": false,
     "name": "",
     "parents": []
    }
   },
   "outputs": [
    {
     "data": {
      "image/png": "[encoded data removed]",
      "text/plain": [
       "<Figure size 432x288 with 1 Axes>"
      ]
     },
     "metadata": {
      "needs_background": "light"
     },
     "output_type": "display_data"
    }
   ],
   "source": [
    "# print(df_model[\"ageBac\"].value_counts().to_frame())\n",
    "sns.countplot(x=\"ageBac\", data=df_model);"
   ]
  },
  {
   "cell_type": "code",
   "execution_count": 44,
   "id": "8ebb8dac-3af4-42d3-b9f9-9beb3a81b18a",
   "metadata": {
    "canvas": {
     "comments": [],
     "componentType": "CodeCell",
     "copiedOriginId": null,
     "diskcache": false,
     "headerColor": "inherit",
     "id": "563f16d1-e7b8-4f0b-9633-b544685078d8",
     "isComponent": false,
     "name": "",
     "parents": []
    }
   },
   "outputs": [
    {
     "data": {
      "image/png": "[encoded data removed]",
      "text/plain": [
       "<Figure size 432x288 with 1 Axes>"
      ]
     },
     "metadata": {
      "needs_background": "light"
     },
     "output_type": "display_data"
    }
   ],
   "source": [
    "sns.countplot(x=\"ageAnneeCours\", data=df_model);"
   ]
  },
  {
   "cell_type": "code",
   "execution_count": 45,
   "id": "3b6cf803-426e-4b42-b8d7-89f12c65056d",
   "metadata": {
    "canvas": {
     "comments": [],
     "componentType": "CodeCell",
     "copiedOriginId": null,
     "diskcache": false,
     "headerColor": "inherit",
     "id": "a8de9a6e-44ed-4cbb-b9e8-611d83e44b9d",
     "isComponent": false,
     "name": "",
     "parents": []
    }
   },
   "outputs": [
    {
     "name": "stdout",
     "output_type": "stream",
     "text": [
      "                natureBourse\n",
      "Renouvellement            15\n",
      "Attribution               10\n"
     ]
    },
    {
     "data": {
      "image/png": "[encoded data removed]",
      "text/plain": [
       "<Figure size 504x504 with 1 Axes>"
      ]
     },
     "metadata": {
      "needs_background": "light"
     },
     "output_type": "display_data"
    }
   ],
   "source": [
    "print(df_model[\"natureBourse\"].value_counts().to_frame())\n",
    "df_model[\"natureBourse\"].value_counts().plot.pie(figsize=(7, 7), autopct=\"%.0f%%\", shadow=True, frame=True, explode=[0, 0.1]).legend();"
   ]
  },
  {
   "cell_type": "code",
   "execution_count": 46,
   "id": "6c1fe1cd-d32e-44c2-931f-b41bf6077d45",
   "metadata": {
    "canvas": {
     "comments": [],
     "componentType": "CodeCell",
     "copiedOriginId": null,
     "diskcache": false,
     "headerColor": "inherit",
     "id": "3f5399e4-7afc-441a-90e8-231872b5c17e",
     "isComponent": false,
     "name": "",
     "parents": []
    }
   },
   "outputs": [
    {
     "ename": "TypeError",
     "evalue": "Horizontal orientation requires numeric `x` variable.",
     "output_type": "error",
     "traceback": [
      "\u001b[1;31m---------------------------------------------------------------------------\u001b[0m",
      "\u001b[1;31mTypeError\u001b[0m                                 Traceback (most recent call last)",
      "Input \u001b[1;32mIn [46]\u001b[0m, in \u001b[0;36m<cell line: 1>\u001b[1;34m()\u001b[0m\n\u001b[1;32m----> 1\u001b[0m \u001b[43msns\u001b[49m\u001b[38;5;241;43m.\u001b[39;49m\u001b[43mboxplot\u001b[49m\u001b[43m(\u001b[49m\u001b[43mx\u001b[49m\u001b[38;5;241;43m=\u001b[39;49m\u001b[43mdf_model\u001b[49m\u001b[43m[\u001b[49m\u001b[38;5;124;43m\"\u001b[39;49m\u001b[38;5;124;43mavisSousCommission\u001b[39;49m\u001b[38;5;124;43m\"\u001b[39;49m\u001b[43m]\u001b[49m\u001b[43m)\u001b[49m\n",
      "File \u001b[1;32m~\\anaconda3\\lib\\site-packages\\seaborn\\_decorators.py:46\u001b[0m, in \u001b[0;36m_deprecate_positional_args.<locals>.inner_f\u001b[1;34m(*args, **kwargs)\u001b[0m\n\u001b[0;32m     36\u001b[0m     warnings\u001b[38;5;241m.\u001b[39mwarn(\n\u001b[0;32m     37\u001b[0m         \u001b[38;5;124m\"\u001b[39m\u001b[38;5;124mPass the following variable\u001b[39m\u001b[38;5;132;01m{}\u001b[39;00m\u001b[38;5;124m as \u001b[39m\u001b[38;5;132;01m{}\u001b[39;00m\u001b[38;5;124mkeyword arg\u001b[39m\u001b[38;5;132;01m{}\u001b[39;00m\u001b[38;5;124m: \u001b[39m\u001b[38;5;132;01m{}\u001b[39;00m\u001b[38;5;124m. \u001b[39m\u001b[38;5;124m\"\u001b[39m\n\u001b[0;32m     38\u001b[0m         \u001b[38;5;124m\"\u001b[39m\u001b[38;5;124mFrom version 0.12, the only valid positional argument \u001b[39m\u001b[38;5;124m\"\u001b[39m\n\u001b[1;32m   (...)\u001b[0m\n\u001b[0;32m     43\u001b[0m         \u001b[38;5;167;01mFutureWarning\u001b[39;00m\n\u001b[0;32m     44\u001b[0m     )\n\u001b[0;32m     45\u001b[0m kwargs\u001b[38;5;241m.\u001b[39mupdate({k: arg \u001b[38;5;28;01mfor\u001b[39;00m k, arg \u001b[38;5;129;01min\u001b[39;00m \u001b[38;5;28mzip\u001b[39m(sig\u001b[38;5;241m.\u001b[39mparameters, args)})\n\u001b[1;32m---> 46\u001b[0m \u001b[38;5;28;01mreturn\u001b[39;00m f(\u001b[38;5;241m*\u001b[39m\u001b[38;5;241m*\u001b[39mkwargs)\n",
      "File \u001b[1;32m~\\anaconda3\\lib\\site-packages\\seaborn\\categorical.py:2243\u001b[0m, in \u001b[0;36mboxplot\u001b[1;34m(x, y, hue, data, order, hue_order, orient, color, palette, saturation, width, dodge, fliersize, linewidth, whis, ax, **kwargs)\u001b[0m\n\u001b[0;32m   2231\u001b[0m \u001b[38;5;129m@_deprecate_positional_args\u001b[39m\n\u001b[0;32m   2232\u001b[0m \u001b[38;5;28;01mdef\u001b[39;00m \u001b[38;5;21mboxplot\u001b[39m(\n\u001b[0;32m   2233\u001b[0m     \u001b[38;5;241m*\u001b[39m,\n\u001b[1;32m   (...)\u001b[0m\n\u001b[0;32m   2240\u001b[0m     \u001b[38;5;241m*\u001b[39m\u001b[38;5;241m*\u001b[39mkwargs\n\u001b[0;32m   2241\u001b[0m ):\n\u001b[1;32m-> 2243\u001b[0m     plotter \u001b[38;5;241m=\u001b[39m \u001b[43m_BoxPlotter\u001b[49m\u001b[43m(\u001b[49m\u001b[43mx\u001b[49m\u001b[43m,\u001b[49m\u001b[43m \u001b[49m\u001b[43my\u001b[49m\u001b[43m,\u001b[49m\u001b[43m \u001b[49m\u001b[43mhue\u001b[49m\u001b[43m,\u001b[49m\u001b[43m \u001b[49m\u001b[43mdata\u001b[49m\u001b[43m,\u001b[49m\u001b[43m \u001b[49m\u001b[43morder\u001b[49m\u001b[43m,\u001b[49m\u001b[43m \u001b[49m\u001b[43mhue_order\u001b[49m\u001b[43m,\u001b[49m\n\u001b[0;32m   2244\u001b[0m \u001b[43m                          \u001b[49m\u001b[43morient\u001b[49m\u001b[43m,\u001b[49m\u001b[43m \u001b[49m\u001b[43mcolor\u001b[49m\u001b[43m,\u001b[49m\u001b[43m \u001b[49m\u001b[43mpalette\u001b[49m\u001b[43m,\u001b[49m\u001b[43m \u001b[49m\u001b[43msaturation\u001b[49m\u001b[43m,\u001b[49m\n\u001b[0;32m   2245\u001b[0m \u001b[43m                          \u001b[49m\u001b[43mwidth\u001b[49m\u001b[43m,\u001b[49m\u001b[43m \u001b[49m\u001b[43mdodge\u001b[49m\u001b[43m,\u001b[49m\u001b[43m \u001b[49m\u001b[43mfliersize\u001b[49m\u001b[43m,\u001b[49m\u001b[43m \u001b[49m\u001b[43mlinewidth\u001b[49m\u001b[43m)\u001b[49m\n\u001b[0;32m   2247\u001b[0m     \u001b[38;5;28;01mif\u001b[39;00m ax \u001b[38;5;129;01mis\u001b[39;00m \u001b[38;5;28;01mNone\u001b[39;00m:\n\u001b[0;32m   2248\u001b[0m         ax \u001b[38;5;241m=\u001b[39m plt\u001b[38;5;241m.\u001b[39mgca()\n",
      "File \u001b[1;32m~\\anaconda3\\lib\\site-packages\\seaborn\\categorical.py:406\u001b[0m, in \u001b[0;36m_BoxPlotter.__init__\u001b[1;34m(self, x, y, hue, data, order, hue_order, orient, color, palette, saturation, width, dodge, fliersize, linewidth)\u001b[0m\n\u001b[0;32m    402\u001b[0m \u001b[38;5;28;01mdef\u001b[39;00m \u001b[38;5;21m__init__\u001b[39m(\u001b[38;5;28mself\u001b[39m, x, y, hue, data, order, hue_order,\n\u001b[0;32m    403\u001b[0m              orient, color, palette, saturation,\n\u001b[0;32m    404\u001b[0m              width, dodge, fliersize, linewidth):\n\u001b[1;32m--> 406\u001b[0m     \u001b[38;5;28;43mself\u001b[39;49m\u001b[38;5;241;43m.\u001b[39;49m\u001b[43mestablish_variables\u001b[49m\u001b[43m(\u001b[49m\u001b[43mx\u001b[49m\u001b[43m,\u001b[49m\u001b[43m \u001b[49m\u001b[43my\u001b[49m\u001b[43m,\u001b[49m\u001b[43m \u001b[49m\u001b[43mhue\u001b[49m\u001b[43m,\u001b[49m\u001b[43m \u001b[49m\u001b[43mdata\u001b[49m\u001b[43m,\u001b[49m\u001b[43m \u001b[49m\u001b[43morient\u001b[49m\u001b[43m,\u001b[49m\u001b[43m \u001b[49m\u001b[43morder\u001b[49m\u001b[43m,\u001b[49m\u001b[43m \u001b[49m\u001b[43mhue_order\u001b[49m\u001b[43m)\u001b[49m\n\u001b[0;32m    407\u001b[0m     \u001b[38;5;28mself\u001b[39m\u001b[38;5;241m.\u001b[39mestablish_colors(color, palette, saturation)\n\u001b[0;32m    409\u001b[0m     \u001b[38;5;28mself\u001b[39m\u001b[38;5;241m.\u001b[39mdodge \u001b[38;5;241m=\u001b[39m dodge\n",
      "File \u001b[1;32m~\\anaconda3\\lib\\site-packages\\seaborn\\categorical.py:156\u001b[0m, in \u001b[0;36m_CategoricalPlotter.establish_variables\u001b[1;34m(self, x, y, hue, data, orient, order, hue_order, units)\u001b[0m\n\u001b[0;32m    153\u001b[0m         \u001b[38;5;28;01mraise\u001b[39;00m \u001b[38;5;167;01mValueError\u001b[39;00m(err)\n\u001b[0;32m    155\u001b[0m \u001b[38;5;66;03m# Figure out the plotting orientation\u001b[39;00m\n\u001b[1;32m--> 156\u001b[0m orient \u001b[38;5;241m=\u001b[39m \u001b[43minfer_orient\u001b[49m\u001b[43m(\u001b[49m\n\u001b[0;32m    157\u001b[0m \u001b[43m    \u001b[49m\u001b[43mx\u001b[49m\u001b[43m,\u001b[49m\u001b[43m \u001b[49m\u001b[43my\u001b[49m\u001b[43m,\u001b[49m\u001b[43m \u001b[49m\u001b[43morient\u001b[49m\u001b[43m,\u001b[49m\u001b[43m \u001b[49m\u001b[43mrequire_numeric\u001b[49m\u001b[38;5;241;43m=\u001b[39;49m\u001b[38;5;28;43mself\u001b[39;49m\u001b[38;5;241;43m.\u001b[39;49m\u001b[43mrequire_numeric\u001b[49m\n\u001b[0;32m    158\u001b[0m \u001b[43m\u001b[49m\u001b[43m)\u001b[49m\n\u001b[0;32m    160\u001b[0m \u001b[38;5;66;03m# Option 2a:\u001b[39;00m\n\u001b[0;32m    161\u001b[0m \u001b[38;5;66;03m# We are plotting a single set of data\u001b[39;00m\n\u001b[0;32m    162\u001b[0m \u001b[38;5;66;03m# ------------------------------------\u001b[39;00m\n\u001b[0;32m    163\u001b[0m \u001b[38;5;28;01mif\u001b[39;00m x \u001b[38;5;129;01mis\u001b[39;00m \u001b[38;5;28;01mNone\u001b[39;00m \u001b[38;5;129;01mor\u001b[39;00m y \u001b[38;5;129;01mis\u001b[39;00m \u001b[38;5;28;01mNone\u001b[39;00m:\n\u001b[0;32m    164\u001b[0m \n\u001b[0;32m    165\u001b[0m     \u001b[38;5;66;03m# Determine where the data are\u001b[39;00m\n",
      "File \u001b[1;32m~\\anaconda3\\lib\\site-packages\\seaborn\\_core.py:1328\u001b[0m, in \u001b[0;36minfer_orient\u001b[1;34m(x, y, orient, require_numeric)\u001b[0m\n\u001b[0;32m   1326\u001b[0m         warnings\u001b[38;5;241m.\u001b[39mwarn(single_var_warning\u001b[38;5;241m.\u001b[39mformat(\u001b[38;5;124m\"\u001b[39m\u001b[38;5;124mVertical\u001b[39m\u001b[38;5;124m\"\u001b[39m, \u001b[38;5;124m\"\u001b[39m\u001b[38;5;124mx\u001b[39m\u001b[38;5;124m\"\u001b[39m))\n\u001b[0;32m   1327\u001b[0m     \u001b[38;5;28;01mif\u001b[39;00m require_numeric \u001b[38;5;129;01mand\u001b[39;00m x_type \u001b[38;5;241m!=\u001b[39m \u001b[38;5;124m\"\u001b[39m\u001b[38;5;124mnumeric\u001b[39m\u001b[38;5;124m\"\u001b[39m:\n\u001b[1;32m-> 1328\u001b[0m         \u001b[38;5;28;01mraise\u001b[39;00m \u001b[38;5;167;01mTypeError\u001b[39;00m(nonnumeric_dv_error\u001b[38;5;241m.\u001b[39mformat(\u001b[38;5;124m\"\u001b[39m\u001b[38;5;124mHorizontal\u001b[39m\u001b[38;5;124m\"\u001b[39m, \u001b[38;5;124m\"\u001b[39m\u001b[38;5;124mx\u001b[39m\u001b[38;5;124m\"\u001b[39m))\n\u001b[0;32m   1329\u001b[0m     \u001b[38;5;28;01mreturn\u001b[39;00m \u001b[38;5;124m\"\u001b[39m\u001b[38;5;124mh\u001b[39m\u001b[38;5;124m\"\u001b[39m\n\u001b[0;32m   1331\u001b[0m \u001b[38;5;28;01melif\u001b[39;00m \u001b[38;5;28mstr\u001b[39m(orient)\u001b[38;5;241m.\u001b[39mstartswith(\u001b[38;5;124m\"\u001b[39m\u001b[38;5;124mv\u001b[39m\u001b[38;5;124m\"\u001b[39m):\n",
      "\u001b[1;31mTypeError\u001b[0m: Horizontal orientation requires numeric `x` variable."
     ]
    }
   ],
   "source": [
    "sns.boxplot(x=df_model[\"avisSousCommission\"]);"
   ]
  },
  {
   "cell_type": "code",
   "execution_count": null,
   "id": "0ce9a964-72e2-40fc-87a8-852bf1307542",
   "metadata": {
    "canvas": {
     "comments": [],
     "componentType": "CodeCell",
     "copiedOriginId": null,
     "diskcache": false,
     "headerColor": "inherit",
     "id": "c36f8179-9fd8-4b6f-af6e-a0751a0d7630",
     "isComponent": false,
     "name": "",
     "parents": []
    }
   },
   "outputs": [],
   "source": [
    "print(np.where(df_model[\"avisSousCommission\"]))"
   ]
  },
  {
   "cell_type": "code",
   "execution_count": null,
   "id": "19b9029c-d011-4c09-a181-5d8b7a3e778d",
   "metadata": {
    "canvas": {
     "comments": [],
     "componentType": "CodeCell",
     "copiedOriginId": null,
     "diskcache": false,
     "headerColor": "inherit",
     "id": "4802692f-0652-4cf1-bf1c-4ec219248a3c",
     "isComponent": false,
     "name": "",
     "parents": []
    }
   },
   "outputs": [],
   "source": [
    "df_model.shape"
   ]
  },
  {
   "cell_type": "code",
   "execution_count": 47,
   "id": "e2b09c82-5b7d-4296-af2a-5bf66e729677",
   "metadata": {
    "canvas": {
     "comments": [],
     "componentType": "CodeCell",
     "copiedOriginId": null,
     "diskcache": false,
     "headerColor": "inherit",
     "id": "25a81bb4-5986-481d-8ed7-f3de487d0944",
     "isComponent": false,
     "name": "",
     "parents": []
    }
   },
   "outputs": [],
   "source": [
    "# from cartopy.crs import Cartographic"
   ]
  },
  {
   "cell_type": "code",
   "execution_count": 48,
   "id": "cfc58f0b-8884-4463-9bd4-09d475b991dd",
   "metadata": {
    "canvas": {
     "comments": [],
     "componentType": "CodeCell",
     "copiedOriginId": null,
     "diskcache": false,
     "headerColor": "inherit",
     "id": "677330bc-8862-498e-988c-84cbba272fe1",
     "isComponent": false,
     "name": "",
     "parents": []
    }
   },
   "outputs": [],
   "source": [
    "# cmap = plt.get_cmap(\"Blues\")\n",
    "# # colors = [cmap(i) for in [.2,.4,.6,.8]]\n",
    "# plt.hist(x=df_model[\"avisSousCommission\"], histtype='bar', color=cmap)"
   ]
  },
  {
   "cell_type": "code",
   "execution_count": 49,
   "id": "6a11ce88-48b5-4cdc-88d4-b6fc290f479e",
   "metadata": {
    "canvas": {
     "comments": [],
     "componentType": "CodeCell",
     "copiedOriginId": null,
     "diskcache": false,
     "headerColor": "inherit",
     "id": "6f22479d-8984-4a8a-a73a-5dd7e7410a19",
     "isComponent": false,
     "name": "",
     "parents": []
    }
   },
   "outputs": [
    {
     "data": {
      "text/html": [
       "<div>\n",
       "<style scoped>\n",
       "    .dataframe tbody tr th:only-of-type {\n",
       "        vertical-align: middle;\n",
       "    }\n",
       "\n",
       "    .dataframe tbody tr th {\n",
       "        vertical-align: top;\n",
       "    }\n",
       "\n",
       "    .dataframe thead th {\n",
       "        text-align: right;\n",
       "    }\n",
       "</style>\n",
       "<table border=\"1\" class=\"dataframe\">\n",
       "  <thead>\n",
       "    <tr style=\"text-align: right;\">\n",
       "      <th></th>\n",
       "      <th>ageBac</th>\n",
       "      <th>ageAnneeCours</th>\n",
       "    </tr>\n",
       "  </thead>\n",
       "  <tbody>\n",
       "    <tr>\n",
       "      <th>count</th>\n",
       "      <td>25.000000</td>\n",
       "      <td>25.000000</td>\n",
       "    </tr>\n",
       "    <tr>\n",
       "      <th>mean</th>\n",
       "      <td>18.920000</td>\n",
       "      <td>26.120000</td>\n",
       "    </tr>\n",
       "    <tr>\n",
       "      <th>std</th>\n",
       "      <td>1.469694</td>\n",
       "      <td>2.147091</td>\n",
       "    </tr>\n",
       "    <tr>\n",
       "      <th>min</th>\n",
       "      <td>15.000000</td>\n",
       "      <td>22.000000</td>\n",
       "    </tr>\n",
       "    <tr>\n",
       "      <th>25%</th>\n",
       "      <td>18.000000</td>\n",
       "      <td>24.000000</td>\n",
       "    </tr>\n",
       "    <tr>\n",
       "      <th>50%</th>\n",
       "      <td>19.000000</td>\n",
       "      <td>26.000000</td>\n",
       "    </tr>\n",
       "    <tr>\n",
       "      <th>75%</th>\n",
       "      <td>20.000000</td>\n",
       "      <td>27.000000</td>\n",
       "    </tr>\n",
       "    <tr>\n",
       "      <th>max</th>\n",
       "      <td>22.000000</td>\n",
       "      <td>32.000000</td>\n",
       "    </tr>\n",
       "  </tbody>\n",
       "</table>\n",
       "</div>"
      ],
      "text/plain": [
       "          ageBac  ageAnneeCours\n",
       "count  25.000000      25.000000\n",
       "mean   18.920000      26.120000\n",
       "std     1.469694       2.147091\n",
       "min    15.000000      22.000000\n",
       "25%    18.000000      24.000000\n",
       "50%    19.000000      26.000000\n",
       "75%    20.000000      27.000000\n",
       "max    22.000000      32.000000"
      ]
     },
     "execution_count": 49,
     "metadata": {},
     "output_type": "execute_result"
    }
   ],
   "source": [
    "df_model.describe()"
   ]
  },
  {
   "cell_type": "code",
   "execution_count": 50,
   "id": "c9695937-def2-47d7-8627-af2dde198806",
   "metadata": {
    "canvas": {
     "comments": [],
     "componentType": "CodeCell",
     "copiedOriginId": null,
     "diskcache": false,
     "headerColor": "inherit",
     "id": "7a9dc1fb-1610-40ba-8501-f0519c259064",
     "isComponent": false,
     "name": "",
     "parents": []
    }
   },
   "outputs": [
    {
     "name": "stdout",
     "output_type": "stream",
     "text": [
      "ageBac           2.0\n",
      "ageAnneeCours    3.0\n",
      "dtype: float64\n"
     ]
    },
    {
     "name": "stderr",
     "output_type": "stream",
     "text": [
      "C:\\Users\\Rostaing\\AppData\\Local\\Temp\\ipykernel_9812\\1385261095.py:7: FutureWarning: Automatic reindexing on DataFrame vs Series comparisons is deprecated and will raise ValueError in a future version. Do `left, right = left.align(right, axis=1, copy=False)` before e.g. `left == right`\n",
      "  ((outliers < (Q1 - 1.5*IQR)) | (outliers > (Q3 + 1.5*IQR))).any()\n"
     ]
    },
    {
     "data": {
      "text/plain": [
       "Categ                 False\n",
       "ageAnneeCours          True\n",
       "ageBac                False\n",
       "avisSousCommission    False\n",
       "genre                 False\n",
       "natureBourse          False\n",
       "serieDuBac            False\n",
       "dtype: bool"
      ]
     },
     "execution_count": 50,
     "metadata": {},
     "output_type": "execute_result"
    }
   ],
   "source": [
    "outliers = df_model[[\"genre\", \"serieDuBac\", \"ageBac\", \"ageAnneeCours\", \"Categ\", \"natureBourse\", \"avisSousCommission\"]]\n",
    "# outliers.describe()\n",
    "Q1 = outliers.quantile(0.25)\n",
    "Q3 = outliers.quantile(0.75)\n",
    "IQR = Q3 - Q1\n",
    "print(IQR)\n",
    "((outliers < (Q1 - 1.5*IQR)) | (outliers > (Q3 + 1.5*IQR))).any()"
   ]
  },
  {
   "cell_type": "markdown",
   "id": "8c515445-7c7e-4c50-8ad7-3f629451922c",
   "metadata": {
    "canvas": {
     "comments": [],
     "componentType": "CodeCell",
     "copiedOriginId": null,
     "diskcache": false,
     "headerColor": "inherit",
     "id": "d405ee50-9059-40ca-a7f6-52b1742cb872",
     "isComponent": false,
     "name": "",
     "parents": []
    }
   },
   "source": [
    "# \n",
    "- Conclusion: ageAnneeCours and avisSousCommission have outliers"
   ]
  },
  {
   "cell_type": "code",
   "execution_count": 1,
   "id": "8bc01e79-67c3-4cd5-bc29-9ea2f40e251e",
   "metadata": {
    "canvas": {
     "comments": [],
     "componentType": "CodeCell",
     "copiedOriginId": null,
     "diskcache": false,
     "headerColor": "inherit",
     "id": "32e75ba8-04a7-4d34-9778-9ca4f194833d",
     "isComponent": false,
     "name": "",
     "parents": []
    }
   },
   "outputs": [],
   "source": [
    "for i in df_model.columns:\n",
    "    plt.figure(figsize=(7, 5))\n",
    "    # plt.subplot(131)\n",
    "    sns.boxplot(x=df_model[i]);"
   ]
  },
  {
   "cell_type": "code",
   "execution_count": null,
   "id": "189c1ebd-28a3-4a4f-aa43-1acda7466b9a",
   "metadata": {
    "canvas": {
     "comments": [],
     "componentType": "CodeCell",
     "copiedOriginId": null,
     "diskcache": false,
     "headerColor": "inherit",
     "id": "e170484d-d831-4046-bc85-29a97ecf5add",
     "isComponent": false,
     "name": "",
     "parents": []
    }
   },
   "outputs": [],
   "source": [
    "filter_1 = df_model[\"avisSousCommission\"].values > 0.1\n",
    "df_outlier = df_model[filter_1]\n",
    "df_outlier.shape"
   ]
  },
  {
   "cell_type": "code",
   "execution_count": null,
   "id": "e5d5f845-2134-4e17-8bf8-4d0a79dbdf8c",
   "metadata": {
    "canvas": {
     "comments": [],
     "componentType": "CodeCell",
     "copiedOriginId": null,
     "diskcache": false,
     "headerColor": "inherit",
     "id": "0cb9a819-2107-4b84-b258-2fd585ef732c",
     "isComponent": false,
     "name": "",
     "parents": []
    }
   },
   "outputs": [],
   "source": [
    "filter_2 = df_outlier[\"ageAnneeCours\"].values < 32\n",
    "df_outliers  = df_outlier[filter_2]\n",
    "df_outliers.shape"
   ]
  },
  {
   "cell_type": "code",
   "execution_count": 2,
   "id": "2980d088-989a-4df4-aa7c-ba460ee2779d",
   "metadata": {
    "canvas": {
     "comments": [],
     "componentType": "CodeCell",
     "copiedOriginId": null,
     "diskcache": false,
     "headerColor": "inherit",
     "id": "7893dfc0-1a5e-45b8-89ec-24dc5b13959b",
     "isComponent": false,
     "name": "",
     "parents": []
    }
   },
   "outputs": [],
   "source": [
    "sns.boxplot(x=df_outliers[\"avisSousCommission\"]);"
   ]
  },
  {
   "cell_type": "code",
   "execution_count": 3,
   "id": "f2348600-099f-4497-b752-8886afdb6ed6",
   "metadata": {
    "canvas": {
     "comments": [],
     "componentType": "CodeCell",
     "copiedOriginId": null,
     "diskcache": false,
     "headerColor": "inherit",
     "id": "e969094e-d7b2-4126-9613-317dfed06389",
     "isComponent": false,
     "name": "",
     "parents": []
    }
   },
   "outputs": [],
   "source": [
    "# sns.boxplot(x=df_outliers[\"ageAnneeCours\"]);"
   ]
  },
  {
   "cell_type": "code",
   "execution_count": 54,
   "id": "a96a931d-9f66-48ad-97a4-432336da39a0",
   "metadata": {
    "canvas": {
     "comments": [],
     "componentType": "CodeCell",
     "copiedOriginId": null,
     "diskcache": false,
     "headerColor": "inherit",
     "id": "e80e61e5-f777-4e00-b593-94d1a9ce51d5",
     "isComponent": false,
     "name": "",
     "parents": []
    }
   },
   "outputs": [
    {
     "data": {
      "image/png": "[encoded data removed]",
      "text/plain": [
       "<Figure size 504x360 with 1 Axes>"
      ]
     },
     "metadata": {
      "needs_background": "light"
     },
     "output_type": "display_data"
    },
    {
     "data": {
      "image/png": "[encoded data removed]",
      "text/plain": [
       "<Figure size 504x360 with 1 Axes>"
      ]
     },
     "metadata": {
      "needs_background": "light"
     },
     "output_type": "display_data"
    },
    {
     "data": {
      "image/png": "[encoded data removed]",
      "text/plain": [
       "<Figure size 504x360 with 1 Axes>"
      ]
     },
     "metadata": {
      "needs_background": "light"
     },
     "output_type": "display_data"
    },
    {
     "data": {
      "image/png": "[encoded data removed]",
      "text/plain": [
       "<Figure size 504x360 with 1 Axes>"
      ]
     },
     "metadata": {
      "needs_background": "light"
     },
     "output_type": "display_data"
    },
    {
     "data": {
      "image/png": "[encoded data removed]",
      "text/plain": [
       "<Figure size 504x360 with 1 Axes>"
      ]
     },
     "metadata": {
      "needs_background": "light"
     },
     "output_type": "display_data"
    },
    {
     "data": {
      "image/png": "[encoded data removed]",
      "text/plain": [
       "<Figure size 504x360 with 1 Axes>"
      ]
     },
     "metadata": {
      "needs_background": "light"
     },
     "output_type": "display_data"
    },
    {
     "data": {
      "image/png": "[encoded data removed]",
      "text/plain": [
       "<Figure size 504x360 with 1 Axes>"
      ]
     },
     "metadata": {
      "needs_background": "light"
     },
     "output_type": "display_data"
    }
   ],
   "source": [
    "for i in df_model.columns:\n",
    "    # plt.style.use('seaborn-darkgrid'); # seaborn-darkgrid\n",
    "    plt.figure(figsize=(7, 5));\n",
    "    # plt.subplot(131)\n",
    "    sns.countplot(x=df_model[i]).set_title(\"Count Plot.\");"
   ]
  },
  {
   "cell_type": "code",
   "execution_count": 55,
   "id": "6d010236-2f89-4d21-8043-3ad9a9cd18f7",
   "metadata": {
    "canvas": {
     "comments": [],
     "componentType": "CodeCell",
     "copiedOriginId": null,
     "diskcache": false,
     "headerColor": "inherit",
     "id": "30ac0730-9438-4cdd-832d-4af5a9cadd1c",
     "isComponent": false,
     "name": "",
     "parents": []
    }
   },
   "outputs": [
    {
     "data": {
      "image/png": "[encoded data removed]",
      "text/plain": [
       "<Figure size 1440x576 with 1 Axes>"
      ]
     },
     "metadata": {
      "needs_background": "light"
     },
     "output_type": "display_data"
    }
   ],
   "source": [
    "plt.figure(figsize=(20,8))\n",
    "sns.lineplot(data=df_model, dashes = True, palette = 'CMRmap', markers=True);"
   ]
  },
  {
   "cell_type": "code",
   "execution_count": 56,
   "id": "3ab87bdf-a19f-411f-a765-4490232f87eb",
   "metadata": {
    "canvas": {
     "comments": [],
     "componentType": "CodeCell",
     "copiedOriginId": null,
     "diskcache": false,
     "headerColor": "inherit",
     "id": "960971a3-919e-4693-b790-23e28fc4798d",
     "isComponent": false,
     "name": "",
     "parents": []
    }
   },
   "outputs": [
    {
     "data": {
      "image/png": "[encoded data removed]",
      "text/plain": [
       "<Figure size 432x288 with 1 Axes>"
      ]
     },
     "metadata": {
      "needs_background": "light"
     },
     "output_type": "display_data"
    }
   ],
   "source": [
    "# sns.swarmplot(x=df_model[\"ageBac\"], y=df_model[\"avisSousCommission\"]);\n",
    "sns.kdeplot(x=df_model[\"ageBac\"], data=df_model);"
   ]
  },
  {
   "cell_type": "code",
   "execution_count": null,
   "id": "da679953-b135-4c80-a3f5-9ac5003428a9",
   "metadata": {
    "canvas": {
     "comments": [],
     "componentType": "CodeCell",
     "copiedOriginId": null,
     "diskcache": false,
     "headerColor": "inherit",
     "id": "264283f2-0cc1-4a86-af5a-4449ef286c74",
     "isComponent": false,
     "name": "",
     "parents": []
    }
   },
   "outputs": [],
   "source": []
  },
  {
   "cell_type": "code",
   "execution_count": 57,
   "id": "22fc0bc8-8f48-4dd5-bd61-c09b022ae155",
   "metadata": {
    "canvas": {
     "comments": [],
     "componentType": "CodeCell",
     "copiedOriginId": null,
     "diskcache": false,
     "headerColor": "inherit",
     "id": "fd14f1a2-1428-4410-b13a-f01679d18e20",
     "isComponent": false,
     "name": "",
     "parents": []
    }
   },
   "outputs": [
    {
     "name": "stdout",
     "output_type": "stream",
     "text": [
      "     avisSousCommission\n",
      "FAV                  24\n",
      "DEF                   1\n"
     ]
    },
    {
     "data": {
      "image/png": "[encoded data removed]",
      "text/plain": [
       "<Figure size 504x504 with 1 Axes>"
      ]
     },
     "metadata": {
      "needs_background": "light"
     },
     "output_type": "display_data"
    }
   ],
   "source": [
    "print(df_model[\"avisSousCommission\"].value_counts().to_frame())\n",
    "df_model[\"avisSousCommission\"].value_counts().plot.pie(figsize=(7, 7), \n",
    "autopct=\"%.0f%%\", shadow=True, frame=True, explode=[0, 0.1]).legend();"
   ]
  },
  {
   "cell_type": "code",
   "execution_count": 58,
   "id": "b88728d2-cd93-489f-839d-07ade54e98d8",
   "metadata": {
    "canvas": {
     "comments": [],
     "componentType": "CodeCell",
     "copiedOriginId": null,
     "diskcache": false,
     "headerColor": "inherit",
     "id": "813cf713-b9a9-46e4-8945-dfd2688ae446",
     "isComponent": false,
     "name": "",
     "parents": []
    }
   },
   "outputs": [
    {
     "data": {
      "image/png": "[encoded data removed]",
      "text/plain": [
       "<Figure size 720x216 with 1 Axes>"
      ]
     },
     "metadata": {
      "needs_background": "light"
     },
     "output_type": "display_data"
    }
   ],
   "source": [
    "plt.figure(figsize=(10, 3))\n",
    "sns.violinplot(x=\"ageBac\", y=\"avisSousCommission\", data=df_model).set_title(\"Avis sous commission\");"
   ]
  },
  {
   "cell_type": "code",
   "execution_count": 59,
   "id": "8558bc8a-65a2-454e-8dfa-9d319444383c",
   "metadata": {
    "canvas": {
     "comments": [],
     "componentType": "CodeCell",
     "copiedOriginId": null,
     "diskcache": false,
     "headerColor": "inherit",
     "id": "892d04f8-a6a5-45b0-95b7-bca1d6ab7a1a",
     "isComponent": false,
     "name": "",
     "parents": []
    }
   },
   "outputs": [],
   "source": [
    "df_model.groupby('genre').agg('count');  # (x=\"ageBac\", y=\"avisSousCommission\", data=df_model)"
   ]
  },
  {
   "cell_type": "code",
   "execution_count": 60,
   "id": "97aad60f-c8af-428c-b142-cf3ab10290fc",
   "metadata": {
    "canvas": {
     "comments": [],
     "componentType": "CodeCell",
     "copiedOriginId": null,
     "diskcache": false,
     "headerColor": "inherit",
     "id": "481b5c8f-bc3f-4e4e-ac9a-1b0ea05628b3",
     "isComponent": false,
     "name": "",
     "parents": []
    }
   },
   "outputs": [
    {
     "data": {
      "image/png": "[encoded data removed]",
      "text/plain": [
       "<Figure size 432x288 with 2 Axes>"
      ]
     },
     "metadata": {
      "needs_background": "light"
     },
     "output_type": "display_data"
    }
   ],
   "source": [
    "sns.heatmap(df_model.corr(method='spearman'), annot=True);"
   ]
  },
  {
   "cell_type": "code",
   "execution_count": 61,
   "id": "9976db02-8188-436f-89ce-cf8dafba38ff",
   "metadata": {
    "canvas": {
     "comments": [],
     "componentType": "CodeCell",
     "copiedOriginId": null,
     "diskcache": false,
     "headerColor": "inherit",
     "id": "4ff5aee4-28d4-44f7-860e-3cffd4ad9e99",
     "isComponent": false,
     "name": "",
     "parents": []
    }
   },
   "outputs": [
    {
     "data": {
      "image/png": "[encoded data removed]",
      "text/plain": [
       "<Figure size 360x360 with 6 Axes>"
      ]
     },
     "metadata": {
      "needs_background": "light"
     },
     "output_type": "display_data"
    }
   ],
   "source": [
    "sns.pairplot(df_model);"
   ]
  },
  {
   "cell_type": "markdown",
   "id": "4d8a9176-d06a-4c12-ba5b-fb128d112b39",
   "metadata": {
    "canvas": {
     "comments": [],
     "componentType": "CodeCell",
     "copiedOriginId": null,
     "diskcache": false,
     "headerColor": "inherit",
     "id": "1dffdcd0-c642-413e-a8e0-94628e088b02",
     "isComponent": false,
     "name": "",
     "parents": []
    }
   },
   "source": [
    "# Data preprocessing"
   ]
  },
  {
   "cell_type": "code",
   "execution_count": 62,
   "id": "775a8169-594f-4195-9af8-6060a6dec3c8",
   "metadata": {
    "canvas": {
     "comments": [],
     "componentType": "CodeCell",
     "copiedOriginId": null,
     "diskcache": false,
     "headerColor": "inherit",
     "id": "76bca8e8-1181-4e41-b8a9-d1e9edfdd8e7",
     "isComponent": false,
     "name": "",
     "parents": []
    }
   },
   "outputs": [],
   "source": [
    "from sklearn.preprocessing import LabelEncoder, OneHotEncoder"
   ]
  },
  {
   "cell_type": "code",
   "execution_count": 86,
   "id": "df70e75a-6c23-4522-94d5-03e63a1bedb1",
   "metadata": {
    "canvas": {
     "comments": [],
     "componentType": "CodeCell",
     "copiedOriginId": null,
     "diskcache": false,
     "headerColor": "inherit",
     "id": "1cf08d65-0350-4bdd-97e2-d268c035e013",
     "isComponent": false,
     "name": "",
     "parents": []
    }
   },
   "outputs": [
    {
     "data": {
      "text/html": [
       "<div>\n",
       "<style scoped>\n",
       "    .dataframe tbody tr th:only-of-type {\n",
       "        vertical-align: middle;\n",
       "    }\n",
       "\n",
       "    .dataframe tbody tr th {\n",
       "        vertical-align: top;\n",
       "    }\n",
       "\n",
       "    .dataframe thead th {\n",
       "        text-align: right;\n",
       "    }\n",
       "</style>\n",
       "<table border=\"1\" class=\"dataframe\">\n",
       "  <thead>\n",
       "    <tr style=\"text-align: right;\">\n",
       "      <th></th>\n",
       "      <th>genre</th>\n",
       "      <th>serieDuBac</th>\n",
       "      <th>ageBac</th>\n",
       "      <th>ageAnneeCours</th>\n",
       "      <th>Categ</th>\n",
       "      <th>natureBourse</th>\n",
       "      <th>avisSousCommission</th>\n",
       "    </tr>\n",
       "  </thead>\n",
       "  <tbody>\n",
       "    <tr>\n",
       "      <th>0</th>\n",
       "      <td>1</td>\n",
       "      <td>0</td>\n",
       "      <td>19</td>\n",
       "      <td>28</td>\n",
       "      <td>1</td>\n",
       "      <td>1</td>\n",
       "      <td>1</td>\n",
       "    </tr>\n",
       "    <tr>\n",
       "      <th>1</th>\n",
       "      <td>1</td>\n",
       "      <td>2</td>\n",
       "      <td>19</td>\n",
       "      <td>26</td>\n",
       "      <td>1</td>\n",
       "      <td>1</td>\n",
       "      <td>1</td>\n",
       "    </tr>\n",
       "    <tr>\n",
       "      <th>2</th>\n",
       "      <td>0</td>\n",
       "      <td>4</td>\n",
       "      <td>18</td>\n",
       "      <td>24</td>\n",
       "      <td>1</td>\n",
       "      <td>1</td>\n",
       "      <td>1</td>\n",
       "    </tr>\n",
       "    <tr>\n",
       "      <th>3</th>\n",
       "      <td>0</td>\n",
       "      <td>4</td>\n",
       "      <td>20</td>\n",
       "      <td>30</td>\n",
       "      <td>1</td>\n",
       "      <td>1</td>\n",
       "      <td>1</td>\n",
       "    </tr>\n",
       "    <tr>\n",
       "      <th>4</th>\n",
       "      <td>0</td>\n",
       "      <td>2</td>\n",
       "      <td>20</td>\n",
       "      <td>27</td>\n",
       "      <td>1</td>\n",
       "      <td>1</td>\n",
       "      <td>1</td>\n",
       "    </tr>\n",
       "  </tbody>\n",
       "</table>\n",
       "</div>"
      ],
      "text/plain": [
       "   genre  serieDuBac  ageBac  ageAnneeCours  Categ  natureBourse  \\\n",
       "0      1           0      19             28      1             1   \n",
       "1      1           2      19             26      1             1   \n",
       "2      0           4      18             24      1             1   \n",
       "3      0           4      20             30      1             1   \n",
       "4      0           2      20             27      1             1   \n",
       "\n",
       "   avisSousCommission  \n",
       "0                   1  \n",
       "1                   1  \n",
       "2                   1  \n",
       "3                   1  \n",
       "4                   1  "
      ]
     },
     "execution_count": 86,
     "metadata": {},
     "output_type": "execute_result"
    }
   ],
   "source": [
    "df_model.head()"
   ]
  },
  {
   "cell_type": "code",
   "execution_count": 64,
   "id": "167a0065-3a6e-42f0-8e85-aebd8c12b7af",
   "metadata": {
    "canvas": {
     "comments": [],
     "componentType": "CodeCell",
     "copiedOriginId": null,
     "diskcache": false,
     "headerColor": "inherit",
     "id": "df5331de-71fe-4e78-bdc6-9ed89ba346f8",
     "isComponent": false,
     "name": "",
     "parents": []
    }
   },
   "outputs": [
    {
     "name": "stderr",
     "output_type": "stream",
     "text": [
      "C:\\Users\\Rostaing\\AppData\\Local\\Temp\\ipykernel_9812\\2903047510.py:1: SettingWithCopyWarning: \n",
      "A value is trying to be set on a copy of a slice from a DataFrame\n",
      "\n",
      "See the caveats in the documentation: https://pandas.pydata.org/pandas-docs/stable/user_guide/indexing.html#returning-a-view-versus-a-copy\n",
      "  df_model.replace(['M', 'F'], [0, 1], inplace=True)\n"
     ]
    }
   ],
   "source": [
    "df_model.replace(['M', 'F'], [0, 1], inplace=True)"
   ]
  },
  {
   "cell_type": "code",
   "execution_count": 85,
   "id": "973d045b-2ea9-4039-9a19-de98bf4a6169",
   "metadata": {
    "canvas": {
     "comments": [],
     "componentType": "CodeCell",
     "copiedOriginId": null,
     "diskcache": false,
     "headerColor": "inherit",
     "id": "4bfe682e-6d27-41c6-818b-f888daf818bf",
     "isComponent": false,
     "name": "",
     "parents": []
    }
   },
   "outputs": [
    {
     "data": {
      "text/html": [
       "<div>\n",
       "<style scoped>\n",
       "    .dataframe tbody tr th:only-of-type {\n",
       "        vertical-align: middle;\n",
       "    }\n",
       "\n",
       "    .dataframe tbody tr th {\n",
       "        vertical-align: top;\n",
       "    }\n",
       "\n",
       "    .dataframe thead th {\n",
       "        text-align: right;\n",
       "    }\n",
       "</style>\n",
       "<table border=\"1\" class=\"dataframe\">\n",
       "  <thead>\n",
       "    <tr style=\"text-align: right;\">\n",
       "      <th></th>\n",
       "      <th>genre</th>\n",
       "      <th>serieDuBac</th>\n",
       "      <th>ageBac</th>\n",
       "      <th>ageAnneeCours</th>\n",
       "      <th>Categ</th>\n",
       "      <th>natureBourse</th>\n",
       "      <th>avisSousCommission</th>\n",
       "    </tr>\n",
       "  </thead>\n",
       "  <tbody>\n",
       "    <tr>\n",
       "      <th>0</th>\n",
       "      <td>1</td>\n",
       "      <td>0</td>\n",
       "      <td>19</td>\n",
       "      <td>28</td>\n",
       "      <td>1</td>\n",
       "      <td>1</td>\n",
       "      <td>1</td>\n",
       "    </tr>\n",
       "    <tr>\n",
       "      <th>1</th>\n",
       "      <td>1</td>\n",
       "      <td>2</td>\n",
       "      <td>19</td>\n",
       "      <td>26</td>\n",
       "      <td>1</td>\n",
       "      <td>1</td>\n",
       "      <td>1</td>\n",
       "    </tr>\n",
       "    <tr>\n",
       "      <th>2</th>\n",
       "      <td>0</td>\n",
       "      <td>4</td>\n",
       "      <td>18</td>\n",
       "      <td>24</td>\n",
       "      <td>1</td>\n",
       "      <td>1</td>\n",
       "      <td>1</td>\n",
       "    </tr>\n",
       "    <tr>\n",
       "      <th>3</th>\n",
       "      <td>0</td>\n",
       "      <td>4</td>\n",
       "      <td>20</td>\n",
       "      <td>30</td>\n",
       "      <td>1</td>\n",
       "      <td>1</td>\n",
       "      <td>1</td>\n",
       "    </tr>\n",
       "    <tr>\n",
       "      <th>4</th>\n",
       "      <td>0</td>\n",
       "      <td>2</td>\n",
       "      <td>20</td>\n",
       "      <td>27</td>\n",
       "      <td>1</td>\n",
       "      <td>1</td>\n",
       "      <td>1</td>\n",
       "    </tr>\n",
       "  </tbody>\n",
       "</table>\n",
       "</div>"
      ],
      "text/plain": [
       "   genre  serieDuBac  ageBac  ageAnneeCours  Categ  natureBourse  \\\n",
       "0      1           0      19             28      1             1   \n",
       "1      1           2      19             26      1             1   \n",
       "2      0           4      18             24      1             1   \n",
       "3      0           4      20             30      1             1   \n",
       "4      0           2      20             27      1             1   \n",
       "\n",
       "   avisSousCommission  \n",
       "0                   1  \n",
       "1                   1  \n",
       "2                   1  \n",
       "3                   1  \n",
       "4                   1  "
      ]
     },
     "execution_count": 85,
     "metadata": {},
     "output_type": "execute_result"
    }
   ],
   "source": [
    "df_model.head()"
   ]
  },
  {
   "cell_type": "code",
   "execution_count": 66,
   "id": "94b3663b-8ca1-44ac-979a-f225a3c4046a",
   "metadata": {
    "canvas": {
     "comments": [],
     "componentType": "CodeCell",
     "copiedOriginId": null,
     "diskcache": false,
     "headerColor": "inherit",
     "id": "cb75980e-71fc-41b8-93c7-d1e6b72c2cee",
     "isComponent": false,
     "name": "",
     "parents": []
    }
   },
   "outputs": [
    {
     "name": "stderr",
     "output_type": "stream",
     "text": [
      "C:\\Users\\Rostaing\\AppData\\Local\\Temp\\ipykernel_9812\\3534908373.py:2: SettingWithCopyWarning: \n",
      "A value is trying to be set on a copy of a slice from a DataFrame.\n",
      "Try using .loc[row_indexer,col_indexer] = value instead\n",
      "\n",
      "See the caveats in the documentation: https://pandas.pydata.org/pandas-docs/stable/user_guide/indexing.html#returning-a-view-versus-a-copy\n",
      "  df_model[\"serieDuBac\"] = encoder.fit_transform(df_model[\"serieDuBac\"])\n",
      "C:\\Users\\Rostaing\\AppData\\Local\\Temp\\ipykernel_9812\\3534908373.py:3: SettingWithCopyWarning: \n",
      "A value is trying to be set on a copy of a slice from a DataFrame.\n",
      "Try using .loc[row_indexer,col_indexer] = value instead\n",
      "\n",
      "See the caveats in the documentation: https://pandas.pydata.org/pandas-docs/stable/user_guide/indexing.html#returning-a-view-versus-a-copy\n",
      "  df_model[\"natureBourse\"] = encoder.fit_transform(df_model[\"natureBourse\"])\n",
      "C:\\Users\\Rostaing\\AppData\\Local\\Temp\\ipykernel_9812\\3534908373.py:4: SettingWithCopyWarning: \n",
      "A value is trying to be set on a copy of a slice from a DataFrame.\n",
      "Try using .loc[row_indexer,col_indexer] = value instead\n",
      "\n",
      "See the caveats in the documentation: https://pandas.pydata.org/pandas-docs/stable/user_guide/indexing.html#returning-a-view-versus-a-copy\n",
      "  df_model[\"avisSousCommission\"] = encoder.fit_transform(df_model[\"avisSousCommission\"])\n"
     ]
    }
   ],
   "source": [
    "encoder = LabelEncoder()\n",
    "df_model[\"serieDuBac\"] = encoder.fit_transform(df_model[\"serieDuBac\"])\n",
    "df_model[\"natureBourse\"] = encoder.fit_transform(df_model[\"natureBourse\"])\n",
    "df_model[\"avisSousCommission\"] = encoder.fit_transform(df_model[\"avisSousCommission\"])"
   ]
  },
  {
   "cell_type": "code",
   "execution_count": 67,
   "id": "222470aa-3438-4a64-935a-b6c81cb590b4",
   "metadata": {
    "canvas": {
     "comments": [],
     "componentType": "CodeCell",
     "copiedOriginId": null,
     "diskcache": false,
     "headerColor": "inherit",
     "id": "a0cde42f-aee7-485d-8d44-cb8b9db54a68",
     "isComponent": false,
     "name": "",
     "parents": []
    }
   },
   "outputs": [
    {
     "data": {
      "text/html": [
       "<div>\n",
       "<style scoped>\n",
       "    .dataframe tbody tr th:only-of-type {\n",
       "        vertical-align: middle;\n",
       "    }\n",
       "\n",
       "    .dataframe tbody tr th {\n",
       "        vertical-align: top;\n",
       "    }\n",
       "\n",
       "    .dataframe thead th {\n",
       "        text-align: right;\n",
       "    }\n",
       "</style>\n",
       "<table border=\"1\" class=\"dataframe\">\n",
       "  <thead>\n",
       "    <tr style=\"text-align: right;\">\n",
       "      <th></th>\n",
       "      <th>genre</th>\n",
       "      <th>serieDuBac</th>\n",
       "      <th>ageBac</th>\n",
       "      <th>ageAnneeCours</th>\n",
       "      <th>Categ</th>\n",
       "      <th>natureBourse</th>\n",
       "      <th>avisSousCommission</th>\n",
       "    </tr>\n",
       "  </thead>\n",
       "  <tbody>\n",
       "    <tr>\n",
       "      <th>0</th>\n",
       "      <td>1</td>\n",
       "      <td>0</td>\n",
       "      <td>19</td>\n",
       "      <td>28</td>\n",
       "      <td>1</td>\n",
       "      <td>1</td>\n",
       "      <td>1</td>\n",
       "    </tr>\n",
       "    <tr>\n",
       "      <th>1</th>\n",
       "      <td>1</td>\n",
       "      <td>2</td>\n",
       "      <td>19</td>\n",
       "      <td>26</td>\n",
       "      <td>1</td>\n",
       "      <td>1</td>\n",
       "      <td>1</td>\n",
       "    </tr>\n",
       "  </tbody>\n",
       "</table>\n",
       "</div>"
      ],
      "text/plain": [
       "   genre  serieDuBac  ageBac  ageAnneeCours  Categ  natureBourse  \\\n",
       "0      1           0      19             28      1             1   \n",
       "1      1           2      19             26      1             1   \n",
       "\n",
       "   avisSousCommission  \n",
       "0                   1  \n",
       "1                   1  "
      ]
     },
     "execution_count": 67,
     "metadata": {},
     "output_type": "execute_result"
    }
   ],
   "source": [
    "df_model.head(2)"
   ]
  },
  {
   "cell_type": "code",
   "execution_count": 68,
   "id": "3d1eeb56-07f4-4d1a-a006-12dcfd92f577",
   "metadata": {
    "canvas": {
     "comments": [],
     "componentType": "CodeCell",
     "copiedOriginId": null,
     "diskcache": false,
     "headerColor": "inherit",
     "id": "5e9ba877-d0b2-459c-b98a-8d7564b006ad",
     "isComponent": false,
     "name": "",
     "parents": []
    }
   },
   "outputs": [
    {
     "name": "stdout",
     "output_type": "stream",
     "text": [
      "<class 'pandas.core.frame.DataFrame'>\n",
      "Int64Index: 25 entries, 0 to 24\n",
      "Data columns (total 7 columns):\n",
      " #   Column              Non-Null Count  Dtype\n",
      "---  ------              --------------  -----\n",
      " 0   genre               25 non-null     int64\n",
      " 1   serieDuBac          25 non-null     int32\n",
      " 2   ageBac              25 non-null     int64\n",
      " 3   ageAnneeCours       25 non-null     int64\n",
      " 4   Categ               25 non-null     int64\n",
      " 5   natureBourse        25 non-null     int32\n",
      " 6   avisSousCommission  25 non-null     int32\n",
      "dtypes: int32(3), int64(4)\n",
      "memory usage: 1.8 KB\n"
     ]
    }
   ],
   "source": [
    "df_model.info()"
   ]
  },
  {
   "cell_type": "markdown",
   "id": "efa92b94-a8e8-4ce1-bbed-be9742628356",
   "metadata": {
    "canvas": {
     "comments": [],
     "componentType": "CodeCell",
     "copiedOriginId": null,
     "diskcache": false,
     "headerColor": "inherit",
     "id": "784452b6-f8b9-4d5d-82ff-13528f9bbd43",
     "isComponent": false,
     "name": "",
     "parents": []
    }
   },
   "source": [
    "# Modeling (Machine Learning Model)"
   ]
  },
  {
   "cell_type": "code",
   "execution_count": 69,
   "id": "834635ec-7a6a-4e8c-910e-37f0fdfded5a",
   "metadata": {
    "canvas": {
     "comments": [],
     "componentType": "CodeCell",
     "copiedOriginId": null,
     "diskcache": false,
     "headerColor": "inherit",
     "id": "27ef95f1-9e1a-4122-b555-927759855df5",
     "isComponent": false,
     "name": "",
     "parents": []
    }
   },
   "outputs": [],
   "source": [
    "from sklearn.model_selection import  train_test_split\n",
    "from sklearn.pipeline import make_pipeline\n",
    "from sklearn.tree import DecisionTreeClassifier\n",
    "from sklearn.neighbors import KNeighborsClassifier\n",
    "from sklearn.ensemble import  RandomForestClassifier\n",
    "from sklearn.metrics import accuracy_score, classification_report, confusion_matrix\n",
    "from sklearn.model_selection import validation_curve"
   ]
  },
  {
   "cell_type": "code",
   "execution_count": 70,
   "id": "595ec7c2-cecd-466a-90ad-9fb89c2967e8",
   "metadata": {
    "canvas": {
     "comments": [],
     "componentType": "CodeCell",
     "copiedOriginId": null,
     "diskcache": false,
     "headerColor": "inherit",
     "id": "8f936157-7d4d-473b-9118-a13d7cdfbc3e",
     "isComponent": false,
     "name": "",
     "parents": []
    }
   },
   "outputs": [
    {
     "data": {
      "text/html": [
       "<div>\n",
       "<style scoped>\n",
       "    .dataframe tbody tr th:only-of-type {\n",
       "        vertical-align: middle;\n",
       "    }\n",
       "\n",
       "    .dataframe tbody tr th {\n",
       "        vertical-align: top;\n",
       "    }\n",
       "\n",
       "    .dataframe thead th {\n",
       "        text-align: right;\n",
       "    }\n",
       "</style>\n",
       "<table border=\"1\" class=\"dataframe\">\n",
       "  <thead>\n",
       "    <tr style=\"text-align: right;\">\n",
       "      <th></th>\n",
       "      <th>genre</th>\n",
       "      <th>serieDuBac</th>\n",
       "      <th>ageBac</th>\n",
       "      <th>ageAnneeCours</th>\n",
       "      <th>Categ</th>\n",
       "      <th>natureBourse</th>\n",
       "      <th>avisSousCommission</th>\n",
       "    </tr>\n",
       "  </thead>\n",
       "  <tbody>\n",
       "    <tr>\n",
       "      <th>0</th>\n",
       "      <td>1</td>\n",
       "      <td>0</td>\n",
       "      <td>19</td>\n",
       "      <td>28</td>\n",
       "      <td>1</td>\n",
       "      <td>1</td>\n",
       "      <td>1</td>\n",
       "    </tr>\n",
       "    <tr>\n",
       "      <th>1</th>\n",
       "      <td>1</td>\n",
       "      <td>2</td>\n",
       "      <td>19</td>\n",
       "      <td>26</td>\n",
       "      <td>1</td>\n",
       "      <td>1</td>\n",
       "      <td>1</td>\n",
       "    </tr>\n",
       "  </tbody>\n",
       "</table>\n",
       "</div>"
      ],
      "text/plain": [
       "   genre  serieDuBac  ageBac  ageAnneeCours  Categ  natureBourse  \\\n",
       "0      1           0      19             28      1             1   \n",
       "1      1           2      19             26      1             1   \n",
       "\n",
       "   avisSousCommission  \n",
       "0                   1  \n",
       "1                   1  "
      ]
     },
     "execution_count": 70,
     "metadata": {},
     "output_type": "execute_result"
    }
   ],
   "source": [
    "df_model.head(2)"
   ]
  },
  {
   "cell_type": "code",
   "execution_count": 71,
   "id": "537915a2-1a7b-41b7-b70f-b4becaa8253f",
   "metadata": {
    "canvas": {
     "comments": [],
     "componentType": "CodeCell",
     "copiedOriginId": null,
     "diskcache": false,
     "headerColor": "inherit",
     "id": "45d8b6b0-e044-4779-ac07-32727ae6846d",
     "isComponent": false,
     "name": "",
     "parents": []
    }
   },
   "outputs": [
    {
     "data": {
      "text/plain": [
       "((25,), numpy.ndarray)"
      ]
     },
     "execution_count": 71,
     "metadata": {},
     "output_type": "execute_result"
    }
   ],
   "source": [
    "y = df_model[\"avisSousCommission\"].values\n",
    "y.shape, type(y)"
   ]
  },
  {
   "cell_type": "code",
   "execution_count": 72,
   "id": "8828d695-c44e-4fee-9692-2fc4a845880e",
   "metadata": {
    "canvas": {
     "comments": [],
     "componentType": "CodeCell",
     "copiedOriginId": null,
     "diskcache": false,
     "headerColor": "inherit",
     "id": "9d2a18cb-9308-48a4-93d5-98652d303e88",
     "isComponent": false,
     "name": "",
     "parents": []
    }
   },
   "outputs": [
    {
     "data": {
      "text/plain": [
       "((25, 6), numpy.ndarray)"
      ]
     },
     "execution_count": 72,
     "metadata": {},
     "output_type": "execute_result"
    }
   ],
   "source": [
    "X = df_model.drop('avisSousCommission', axis=1).values\n",
    "X.shape, type(X)"
   ]
  },
  {
   "cell_type": "code",
   "execution_count": 73,
   "id": "cb1e8ce1-5ec0-4527-a584-f59a18abb20b",
   "metadata": {
    "canvas": {
     "comments": [],
     "componentType": "CodeCell",
     "copiedOriginId": null,
     "diskcache": false,
     "headerColor": "inherit",
     "id": "3597c703-fe5d-410c-aa89-6e361117e334",
     "isComponent": false,
     "name": "",
     "parents": []
    }
   },
   "outputs": [
    {
     "data": {
      "text/plain": [
       "((20, 6), (5, 6), (20,), (5,))"
      ]
     },
     "execution_count": 73,
     "metadata": {},
     "output_type": "execute_result"
    }
   ],
   "source": [
    "X_train, X_test, y_train, y_test = train_test_split(X, y, test_size=0.2, random_state=0)\n",
    "X_train.shape, X_test.shape, y_train.shape, y_test.shape"
   ]
  },
  {
   "cell_type": "markdown",
   "id": "63506e64-0d19-4199-a7a5-5ef034adbcec",
   "metadata": {
    "canvas": {
     "comments": [],
     "componentType": "CodeCell",
     "copiedOriginId": null,
     "diskcache": false,
     "headerColor": "inherit",
     "id": "8578e310-7a30-4485-8c0a-cecb5c4f6e67",
     "isComponent": false,
     "name": "",
     "parents": []
    }
   },
   "source": [
    "# Validation Curve"
   ]
  },
  {
   "cell_type": "code",
   "execution_count": 74,
   "id": "ac84bca0-7dfd-4c17-8267-f01cb4f15c1b",
   "metadata": {
    "canvas": {
     "comments": [],
     "componentType": "CodeCell",
     "copiedOriginId": null,
     "diskcache": false,
     "headerColor": "inherit",
     "id": "94c138c4-587d-45b4-a938-698ea98dcde1",
     "isComponent": false,
     "name": "",
     "parents": []
    }
   },
   "outputs": [],
   "source": [
    "# model = KNeighborsClassifier()\n",
    "# k = np.arange(1, 50)\n",
    "\n",
    "# train_score, val_score = validation_curve(model, X_train, y_train, 'n_neighbors', k, cv=5)"
   ]
  },
  {
   "cell_type": "code",
   "execution_count": 75,
   "id": "e3e2d89b-4e74-4861-bb12-dc26b9f7ac07",
   "metadata": {
    "canvas": {
     "comments": [],
     "componentType": "CodeCell",
     "copiedOriginId": null,
     "diskcache": false,
     "headerColor": "inherit",
     "id": "7c774f7b-51d7-4248-b3cf-eb2c7f579713",
     "isComponent": false,
     "name": "",
     "parents": []
    }
   },
   "outputs": [],
   "source": [
    "# plt.plot(k, val_score.mean(axis=1), alpha=0.8, label='Val_score')\n",
    "# plt.plot(k, train_score.mean(axis=1), alpha=0.8, label='train_score')\n",
    "# plt.legend()"
   ]
  },
  {
   "cell_type": "code",
   "execution_count": 76,
   "id": "904c9ca0-af36-42ac-b340-a9f258967f00",
   "metadata": {
    "canvas": {
     "comments": [],
     "componentType": "CodeCell",
     "copiedOriginId": null,
     "diskcache": false,
     "headerColor": "inherit",
     "id": "e27bdc96-afdc-4570-a128-96ca18134d73",
     "isComponent": false,
     "name": "",
     "parents": []
    }
   },
   "outputs": [
    {
     "name": "stdout",
     "output_type": "stream",
     "text": [
      "Test score: 100%\n"
     ]
    }
   ],
   "source": [
    "model_1 = DecisionTreeClassifier(random_state=0)\n",
    "model_1.fit(X_train, y_train)\n",
    "print(\"Test score: {}%\".format(round(model_1.score(X_test, y_test)*100)))"
   ]
  },
  {
   "cell_type": "code",
   "execution_count": 77,
   "id": "1e0ea788-9c2a-4ca9-a589-1fd99b034eea",
   "metadata": {
    "canvas": {
     "comments": [],
     "componentType": "CodeCell",
     "copiedOriginId": null,
     "diskcache": false,
     "headerColor": "inherit",
     "id": "c3c666dd-4bb2-4e7d-a3e7-9aa11f8a2adf",
     "isComponent": false,
     "name": "",
     "parents": []
    }
   },
   "outputs": [],
   "source": [
    "y_pred = model_1.predict(X_test)"
   ]
  },
  {
   "cell_type": "code",
   "execution_count": 160,
   "id": "3fec2923-1cfc-48d4-ab99-8b406c6f4f26",
   "metadata": {
    "canvas": {
     "comments": [],
     "componentType": "CodeCell",
     "copiedOriginId": null,
     "diskcache": false,
     "headerColor": "inherit",
     "id": "a9ca6f55-7e60-4792-b716-8baadb113ebd",
     "isComponent": false,
     "name": "",
     "parents": []
    }
   },
   "outputs": [],
   "source": [
    "from sklearn import tree\n",
    "from sklearn import "
   ]
  },
  {
   "cell_type": "code",
   "execution_count": 182,
   "id": "a4b2ccbc-acc7-4539-b09f-9a7a524fd660",
   "metadata": {
    "canvas": {
     "comments": [],
     "componentType": "CodeCell",
     "copiedOriginId": null,
     "diskcache": false,
     "headerColor": "inherit",
     "id": "cc441b5c-fd14-4353-aaff-c8f2963af0aa",
     "isComponent": false,
     "name": "",
     "parents": []
    }
   },
   "outputs": [
    {
     "data": {
      "image/png": "[encoded data removed]",
      "text/plain": [
       "<Figure size 432x288 with 1 Axes>"
      ]
     },
     "metadata": {
      "needs_background": "light"
     },
     "output_type": "display_data"
    }
   ],
   "source": [
    "tree.plot_tree(model_1);"
   ]
  },
  {
   "cell_type": "code",
   "execution_count": 78,
   "id": "d2e09cd9-2e6d-47f8-89a5-5f968301be32",
   "metadata": {
    "canvas": {
     "comments": [],
     "componentType": "CodeCell",
     "copiedOriginId": null,
     "diskcache": false,
     "headerColor": "inherit",
     "id": "15513baa-5a6d-4f87-ab18-f79e20a5cd2f",
     "isComponent": false,
     "name": "",
     "parents": []
    }
   },
   "outputs": [
    {
     "name": "stdout",
     "output_type": "stream",
     "text": [
      "              precision    recall  f1-score   support\n",
      "\n",
      "           1       1.00      1.00      1.00         5\n",
      "\n",
      "    accuracy                           1.00         5\n",
      "   macro avg       1.00      1.00      1.00         5\n",
      "weighted avg       1.00      1.00      1.00         5\n",
      "\n"
     ]
    }
   ],
   "source": [
    "print(classification_report(y_test, y_pred))"
   ]
  },
  {
   "cell_type": "code",
   "execution_count": 79,
   "id": "0974fc23-9c53-412a-9167-c9bc88cc391a",
   "metadata": {
    "canvas": {
     "comments": [],
     "componentType": "CodeCell",
     "copiedOriginId": null,
     "diskcache": false,
     "headerColor": "inherit",
     "id": "c7062b1d-0259-4234-bdb6-72a68df4903a",
     "isComponent": false,
     "name": "",
     "parents": []
    }
   },
   "outputs": [
    {
     "data": {
      "text/plain": [
       "1.0"
      ]
     },
     "execution_count": 79,
     "metadata": {},
     "output_type": "execute_result"
    }
   ],
   "source": [
    "accuracy_score(y_test, y_pred)"
   ]
  },
  {
   "cell_type": "markdown",
   "id": "95046ce5-5735-4d14-b481-0552927ed6a3",
   "metadata": {
    "canvas": {
     "comments": [],
     "componentType": "CodeCell",
     "copiedOriginId": null,
     "diskcache": false,
     "headerColor": "inherit",
     "id": "34f051aa-fbfa-4550-b0a4-80e7f8d8ebf3",
     "isComponent": false,
     "name": "",
     "parents": []
    }
   },
   "source": [
    "# Prediction"
   ]
  },
  {
   "cell_type": "code",
   "execution_count": null,
   "id": "864a319c-5c4a-4c27-9086-3769019631cc",
   "metadata": {
    "canvas": {
     "comments": [],
     "componentType": "CodeCell",
     "copiedOriginId": null,
     "diskcache": false,
     "headerColor": "inherit",
     "id": "14ee4b6c-01b3-4910-a914-5a93885cccc5",
     "isComponent": false,
     "name": "",
     "parents": []
    }
   },
   "outputs": [],
   "source": [
    "df_model.dtypes"
   ]
  },
  {
   "cell_type": "code",
   "execution_count": 178,
   "id": "23289c1e-4418-4f98-a0d3-5366388ef3ec",
   "metadata": {
    "canvas": {
     "comments": [],
     "componentType": "CodeCell",
     "copiedOriginId": "b28c426c-c43d-46de-8f9d-79fa50962cc3",
     "diskcache": false,
     "headerColor": "inherit",
     "id": "131dbd30-2764-4302-a069-eda43a72f89f",
     "isComponent": false,
     "name": "",
     "parents": []
    }
   },
   "outputs": [
    {
     "name": "stdin",
     "output_type": "stream",
     "text": [
      "Votre genre:  1\n",
      "Série du BAC:  1\n",
      "Age au BAC:  14\n",
      "Age de l'année en cours:  17\n",
      "Catégorie:  1\n",
      "Nature de la bourse:  1\n"
     ]
    },
    {
     "name": "stdout",
     "output_type": "stream",
     "text": [
      "\n",
      "RÉPONSE: AVIS DÉFAVORABLE !\n",
      "\n",
      "OVER !\n"
     ]
    }
   ],
   "source": [
    "def pred(model_1, genre, serieDuBac, ageBac, ageAnneeCours, Categ, natureBourse):\n",
    "    return model_1.predict([[genre, serieDuBac, ageBac, ageAnneeCours, Categ, natureBourse]])\n",
    "\n",
    "try:\n",
    "    genre = int(input(\"Votre genre: \"))\n",
    "    serieDuBac = int(input(\"Série du BAC: \"))\n",
    "    ageBac = int(input(\"Age au BAC: \"))\n",
    "    ageAnneeCours = float(input(\"Age de l'année en cours: \"))\n",
    "    Categ = int(input(\"Catégorie: \"))\n",
    "    natureBourse = int(input(\"Nature de la bourse: \"))\n",
    "    resultat = pred(model_1, genre, serieDuBac, ageBac, ageAnneeCours, Categ, natureBourse).flatten()[0]\n",
    "    print(\"\")\n",
    "    \n",
    "    if resultat <= 0:\n",
    "        print(\"Réponse: Avis défavorable !\".upper())\n",
    "    else:\n",
    "        print(\"Réponse: Avis favorable !\".upper()) \n",
    "    print(\"\")\n",
    "except:\n",
    "    print(\"Tapo\".upper())\n",
    "    print(\"\")\n",
    "finally:\n",
    "    print(\"Over !\".upper())"
   ]
  },
  {
   "cell_type": "code",
   "execution_count": null,
   "id": "e27b0831-801c-475a-8bed-09e5d1e8e676",
   "metadata": {
    "canvas": {
     "comments": [],
     "componentType": "CodeCell",
     "copiedOriginId": null,
     "diskcache": false,
     "headerColor": "inherit",
     "id": "d401f6ee-a45a-4c28-9eee-fdd634c71773",
     "isComponent": false,
     "name": "",
     "parents": []
    }
   },
   "outputs": [],
   "source": [
    "model_1.predict([[1, 0, 19, 28, 1, 1]]).flatten()[0]"
   ]
  },
  {
   "cell_type": "markdown",
   "id": "323378a1-f306-4fe8-bc89-f5d37c47e84a",
   "metadata": {
    "canvas": {
     "comments": [],
     "componentType": "CodeCell",
     "copiedOriginId": null,
     "diskcache": false,
     "headerColor": "inherit",
     "id": "e3fa0842-7b81-47fc-be3a-983fda98b332",
     "isComponent": false,
     "name": "",
     "parents": []
    }
   },
   "source": [
    "# Learning Curve"
   ]
  },
  {
   "cell_type": "code",
   "execution_count": null,
   "id": "e02ed510-69df-47cd-9225-45f430567b83",
   "metadata": {
    "canvas": {
     "comments": [],
     "componentType": "CodeCell",
     "copiedOriginId": null,
     "diskcache": false,
     "headerColor": "inherit",
     "id": "c5b0d283-4a65-4c20-809e-4c9389962ec6",
     "isComponent": false,
     "name": "",
     "parents": []
    }
   },
   "outputs": [],
   "source": [
    "from sklearn.model_selection import learning_curve"
   ]
  },
  {
   "cell_type": "code",
   "execution_count": null,
   "id": "e33b2f78-1da7-432d-8f80-e7cacdbb843d",
   "metadata": {
    "canvas": {
     "comments": [],
     "componentType": "CodeCell",
     "copiedOriginId": null,
     "diskcache": false,
     "headerColor": "inherit",
     "id": "747787c4-8b44-43ea-bf8f-4df18634553e",
     "isComponent": false,
     "name": "",
     "parents": []
    }
   },
   "outputs": [],
   "source": [
    "N, train_score, val_score = learning_curve(model_1, X_train, y_train, train_sizes=np.linspace(0.2, 1.0, 5), cv=5)"
   ]
  },
  {
   "cell_type": "code",
   "execution_count": null,
   "id": "df9b5257-47e0-42f3-91de-e3675ee9e90a",
   "metadata": {
    "canvas": {
     "comments": [],
     "componentType": "CodeCell",
     "copiedOriginId": null,
     "diskcache": false,
     "headerColor": "inherit",
     "id": "9b5ecb33-457e-43d7-b85d-7cf7ece9639d",
     "isComponent": false,
     "name": "",
     "parents": []
    }
   },
   "outputs": [],
   "source": [
    "plt.plot(N, val_score.mean(axis=1), label='Validation score');\n",
    "plt.plot(N, train_score.mean(axis=1), label='Train score');\n",
    "plt.xlabel('train_sizes');\n",
    "plt.legend();"
   ]
  },
  {
   "cell_type": "markdown",
   "id": "a881ca21-f753-407a-a5a9-3ada19fd6386",
   "metadata": {
    "canvas": {
     "comments": [],
     "componentType": "CodeCell",
     "copiedOriginId": null,
     "diskcache": false,
     "headerColor": "inherit",
     "id": "cbcf74db-5e72-48f9-aa51-42ab0be89f72",
     "isComponent": false,
     "name": "",
     "parents": []
    }
   },
   "source": [
    "# Save Model"
   ]
  },
  {
   "cell_type": "code",
   "execution_count": 82,
   "id": "31f05599-9989-4834-ae65-e0b30c20d5ff",
   "metadata": {
    "canvas": {
     "comments": [],
     "componentType": "CodeCell",
     "copiedOriginId": null,
     "diskcache": false,
     "headerColor": "inherit",
     "id": "688702ff-908c-459a-891a-44c986338aaf",
     "isComponent": false,
     "name": "",
     "parents": []
    }
   },
   "outputs": [],
   "source": [
    "# from joblib import dump, load\n",
    "import pickle"
   ]
  },
  {
   "cell_type": "code",
   "execution_count": 84,
   "id": "8e91a7e1-fc0d-4432-ba4d-d467e78ed3ce",
   "metadata": {
    "canvas": {
     "comments": [],
     "componentType": "CodeCell",
     "copiedOriginId": null,
     "diskcache": false,
     "headerColor": "inherit",
     "id": "8eb303c9-0175-4779-a2e1-649f25e06eb1",
     "isComponent": false,
     "name": "",
     "parents": []
    }
   },
   "outputs": [],
   "source": [
    "filename =\"bourse_etudiants_model.sav\"\n",
    "pickle.dump(model_1, open(filename, 'wb'))"
   ]
  },
  {
   "cell_type": "code",
   "execution_count": null,
   "id": "f79bf860-1e57-4cfc-91e3-98b7afe79a9a",
   "metadata": {
    "canvas": {
     "comments": [],
     "componentType": "CodeCell",
     "copiedOriginId": null,
     "diskcache": false,
     "headerColor": "inherit",
     "id": "f5abdb69-e9fb-4c41-b852-22fd0f4fabbb",
     "isComponent": false,
     "name": "",
     "parents": []
    }
   },
   "outputs": [],
   "source": [
    "tree = load('tree_model.joblib')"
   ]
  },
  {
   "cell_type": "code",
   "execution_count": null,
   "id": "f00d81de-7faf-48b0-8d62-a8b22b4ee393",
   "metadata": {
    "canvas": {
     "comments": [],
     "componentType": "CodeCell",
     "copiedOriginId": null,
     "diskcache": false,
     "headerColor": "inherit",
     "id": "86f92991-82f8-4144-acd0-18aadec3097d",
     "isComponent": false,
     "name": "",
     "parents": []
    }
   },
   "outputs": [],
   "source": [
    "tree.predict([[1, 0, 19, 28, 1, 1]]).flatten()[0]"
   ]
  },
  {
   "cell_type": "code",
   "execution_count": null,
   "id": "fad807fc-b9d0-4915-8422-5c90adf3322e",
   "metadata": {
    "canvas": {
     "comments": [],
     "componentType": "CodeCell",
     "copiedOriginId": null,
     "diskcache": false,
     "headerColor": "inherit",
     "id": "c0624c9e-f796-40d7-bc36-a0de46d0c2c5",
     "isComponent": false,
     "name": "",
     "parents": []
    }
   },
   "outputs": [],
   "source": [
    "df_model.insert(4, \"predictions\", model_1.predict(X))\n",
    "df_model.head()"
   ]
  },
  {
   "cell_type": "code",
   "execution_count": 292,
   "id": "3bfa13ba-043d-41a7-9b6c-c502d5c06d73",
   "metadata": {
    "canvas": {
     "comments": [],
     "componentType": "CodeCell",
     "copiedOriginId": null,
     "diskcache": false,
     "headerColor": "inherit",
     "id": "8f9b7457-a3c4-46d6-a9b3-f2d5316ba86e",
     "isComponent": false,
     "name": "",
     "parents": []
    }
   },
   "outputs": [],
   "source": [
    "from sklearn.impute import SimpleImputer, KNNImputer, MissingIndicator"
   ]
  },
  {
   "cell_type": "code",
   "execution_count": 291,
   "id": "c6c41502-61c5-45e0-a0ad-18a5b4a3c272",
   "metadata": {
    "canvas": {
     "comments": [],
     "componentType": "CodeCell",
     "copiedOriginId": null,
     "diskcache": false,
     "headerColor": "inherit",
     "id": "a474dda9-d270-4c1b-9809-b5122ff28c7c",
     "isComponent": false,
     "name": "",
     "parents": []
    }
   },
   "outputs": [
    {
     "data": {
      "text/plain": [
       "{'add_indicator': False,\n",
       " 'copy': True,\n",
       " 'fill_value': None,\n",
       " 'missing_values': nan,\n",
       " 'strategy': 'mean',\n",
       " 'verbose': 0}"
      ]
     },
     "execution_count": 291,
     "metadata": {},
     "output_type": "execute_result"
    }
   ],
   "source": [
    "SimpleImputer().get_params()"
   ]
  },
  {
   "cell_type": "code",
   "execution_count": 293,
   "id": "d44b0b4f-7d3a-4a13-a310-913cb163f9ec",
   "metadata": {
    "canvas": {
     "comments": [],
     "componentType": "CodeCell",
     "copiedOriginId": null,
     "diskcache": false,
     "headerColor": "inherit",
     "id": "ce95466f-9bcf-48ee-97ae-f7fddcc28e83",
     "isComponent": false,
     "name": "",
     "parents": []
    }
   },
   "outputs": [
    {
     "data": {
      "text/plain": [
       "{'add_indicator': False,\n",
       " 'copy': True,\n",
       " 'metric': 'nan_euclidean',\n",
       " 'missing_values': nan,\n",
       " 'n_neighbors': 5,\n",
       " 'weights': 'uniform'}"
      ]
     },
     "execution_count": 293,
     "metadata": {},
     "output_type": "execute_result"
    }
   ],
   "source": [
    "KNNImputer().get_params()"
   ]
  },
  {
   "cell_type": "code",
   "execution_count": 295,
   "id": "cca46515-6f52-4c46-bcee-4e834e039206",
   "metadata": {
    "canvas": {
     "comments": [],
     "componentType": "CodeCell",
     "copiedOriginId": null,
     "diskcache": false,
     "headerColor": "inherit",
     "id": "65557fa2-2e44-44dd-9e40-11f7732c471d",
     "isComponent": false,
     "name": "",
     "parents": []
    }
   },
   "outputs": [
    {
     "data": {
      "text/plain": [
       "{'error_on_new': True,\n",
       " 'features': 'missing-only',\n",
       " 'missing_values': nan,\n",
       " 'sparse': 'auto'}"
      ]
     },
     "execution_count": 295,
     "metadata": {},
     "output_type": "execute_result"
    }
   ],
   "source": [
    "MissingIndicator().get_params()"
   ]
  },
  {
   "cell_type": "code",
   "execution_count": null,
   "id": "c07f89af-a9f8-4028-bb58-aa4e1df476b2",
   "metadata": {
    "canvas": {
     "comments": [],
     "componentType": "CodeCell",
     "copiedOriginId": null,
     "diskcache": false,
     "headerColor": "inherit",
     "id": "f2b19ddc-2e08-45e8-b8f6-761af092a05b",
     "isComponent": false,
     "name": "",
     "parents": []
    }
   },
   "outputs": [],
   "source": []
  }
 ],
 "metadata": {
  "canvas": {
   "colorPalette": [
    "inherit",
    "inherit",
    "inherit",
    "inherit",
    "inherit",
    "inherit",
    "inherit",
    "inherit",
    "inherit",
    "inherit"
   ],
   "parameters": [],
   "version": "1.0"
  },
  "kernelspec": {
   "display_name": "Python 3 (ipykernel)",
   "language": "python",
   "name": "python3"
  },
  "language_info": {
   "codemirror_mode": {
    "name": "ipython",
    "version": 3
   },
   "file_extension": ".py",
   "mimetype": "text/x-python",
   "name": "python",
   "nbconvert_exporter": "python",
   "pygments_lexer": "ipython3",
   "version": "3.9.18"
  },
  "widgets": {
   "application/vnd.jupyter.widget-state+json": {
    "state": {},
    "version_major": 2,
    "version_minor": 0
   }
  }
 },
 "nbformat": 4,
 "nbformat_minor": 5
}
